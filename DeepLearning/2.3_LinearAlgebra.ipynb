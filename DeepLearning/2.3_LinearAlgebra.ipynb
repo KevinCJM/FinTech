{
 "cells": [
  {
   "cell_type": "markdown",
   "source": [
    "# 2.3. Linear Algebra 线性代数"
   ],
   "metadata": {
    "collapsed": false
   },
   "id": "dfec9911b56e3549"
  },
  {
   "cell_type": "markdown",
   "source": [
    "## 2.3.1. 标量\n",
    "标量由只有一个元素的张量表示。在Python中，可以使用标量来创建张量。\n"
   ],
   "metadata": {
    "collapsed": false
   },
   "id": "c0abccbd27e4c459"
  },
  {
   "cell_type": "code",
   "execution_count": 1,
   "outputs": [
    {
     "name": "stderr",
     "output_type": "stream",
     "text": [
      "[14:20:36] ../src/storage/storage.cc:202: Using Pooled (Naive) StorageManager for CPU\n"
     ]
    },
    {
     "data": {
      "text/plain": "(array(5.), array(6.), array(1.5), array(9.))"
     },
     "execution_count": 1,
     "metadata": {},
     "output_type": "execute_result"
    }
   ],
   "source": [
    "from mxnet import np, npx\n",
    "\n",
    "npx.set_np()\n",
    "\n",
    "x = np.array(3.0)\n",
    "y = np.array(2.0)\n",
    "\n",
    "x + y, x * y, x / y, x ** y"
   ],
   "metadata": {
    "collapsed": false,
    "ExecuteTime": {
     "end_time": "2024-06-13T06:20:36.363682Z",
     "start_time": "2024-06-13T06:20:34.938977Z"
    }
   },
   "id": "7caa21b5d28e7990"
  },
  {
   "cell_type": "markdown",
   "source": [
    "## 2.3.2. Vectors 向量\n",
    "向量可以被视为标量值组成的列表。 这些标量值被称为向量的元素（element）或分量（component）。 当向量表示数据集中的样本时，它们的值具有一定的现实意义。 \n",
    "例如，如果我们正在训练一个模型来预测贷款违约风险，可能会将每个申请人与一个向量相关联，其分量与其收入、工作年限、过往违约次数和其他因素相对应。 \n",
    "如果我们正在研究医院患者可能面临的心脏病发作风险，可能会用一个向量来表示每个患者，其分量为最近的生命体征、胆固醇水平、每天运动时间等。 \n",
    "在数学表示法中，向量通常记为粗体、小写的符号 （例如，$x$、$y$ 和 $z$）。人们通过一维张量表示向量。一般来说，张量可以具有任意长度，取决于机器的内存限制。\n",
    "单个向量的默认方向是列向量，即元素排列成单列。"
   ],
   "metadata": {
    "collapsed": false
   },
   "id": "93b3224e6bd8716d"
  },
  {
   "cell_type": "code",
   "execution_count": 2,
   "outputs": [
    {
     "data": {
      "text/plain": "array([0., 1., 2., 3.])"
     },
     "execution_count": 2,
     "metadata": {},
     "output_type": "execute_result"
    }
   ],
   "source": [
    "x = np.arange(4)\n",
    "x"
   ],
   "metadata": {
    "collapsed": false,
    "ExecuteTime": {
     "end_time": "2024-06-13T06:22:48.931585Z",
     "start_time": "2024-06-13T06:22:48.859938Z"
    }
   },
   "id": "6f4b42e0e2735e39"
  },
  {
   "cell_type": "markdown",
   "source": [
    "我们可以使用下标来引用向量的任一元素，例如可以通过 $x_i$ 来引用第$i$个元素。 注意，元素$x_i$是一个标量，所以我们在引用它时不会加粗。 \n",
    "在数学中，向量可以写为：\n",
    "$\\mathbf{x} =\\begin{bmatrix}x_{1}  \\\\ \\vdots  \\\\ x_{n}\\end{bmatrix}$\n",
    "其中 $x_{1} \\dots x_{n}$ 是向量的元素。在代码中，我们通过张量的索引来访问任一元素。"
   ],
   "metadata": {
    "collapsed": false
   },
   "id": "9f704d03ea3d9173"
  },
  {
   "cell_type": "code",
   "execution_count": 3,
   "outputs": [
    {
     "data": {
      "text/plain": "array(3.)"
     },
     "execution_count": 3,
     "metadata": {},
     "output_type": "execute_result"
    }
   ],
   "source": [
    "x[3]  # 通过索引访问向量的元素"
   ],
   "metadata": {
    "collapsed": false,
    "ExecuteTime": {
     "end_time": "2024-06-13T06:28:14.710010Z",
     "start_time": "2024-06-13T06:28:14.684876Z"
    }
   },
   "id": "e872d258e94e2916"
  },
  {
   "cell_type": "code",
   "execution_count": 4,
   "outputs": [
    {
     "data": {
      "text/plain": "4"
     },
     "execution_count": 4,
     "metadata": {},
     "output_type": "execute_result"
    }
   ],
   "source": [
    "len(x)  # 向量的长度"
   ],
   "metadata": {
    "collapsed": false,
    "ExecuteTime": {
     "end_time": "2024-06-13T06:28:38.767293Z",
     "start_time": "2024-06-13T06:28:38.747330Z"
    }
   },
   "id": "e4190fbd7302495"
  },
  {
   "cell_type": "code",
   "execution_count": 5,
   "outputs": [
    {
     "data": {
      "text/plain": "(4,)"
     },
     "execution_count": 5,
     "metadata": {},
     "output_type": "execute_result"
    }
   ],
   "source": [
    "x.shape  # 向量的形状"
   ],
   "metadata": {
    "collapsed": false,
    "ExecuteTime": {
     "end_time": "2024-06-13T06:28:47.805498Z",
     "start_time": "2024-06-13T06:28:47.800135Z"
    }
   },
   "id": "6c09ce9684703370"
  },
  {
   "cell_type": "code",
   "execution_count": 6,
   "outputs": [
    {
     "data": {
      "text/plain": "4"
     },
     "execution_count": 6,
     "metadata": {},
     "output_type": "execute_result"
    }
   ],
   "source": [
    "x.size  # 向量的大小"
   ],
   "metadata": {
    "collapsed": false,
    "ExecuteTime": {
     "end_time": "2024-06-13T06:28:50.688011Z",
     "start_time": "2024-06-13T06:28:50.684005Z"
    }
   },
   "id": "6e617afc2632dcb6"
  },
  {
   "cell_type": "markdown",
   "source": [
    "## 2.3.3. Matrices 矩阵\n",
    "矩阵是二维张量，其元素可以按行或按列进行索引。 数学表示法使用$\\mathbf{A} \\in \\mathbb{R}^{m \\times n}$来表示矩阵$\\mathbf{A}$，其中$m$和$n$分别表示矩阵的行数和列数。\n",
    "我们可以将任意矩阵$\\mathbf{A} \\in \\mathbb{R}^{m \\times n}$视为一个表格，其中每个元素$a_{ij}$属于第$i$行第$j$列：\n",
    "在数学中，矩阵可以写为：\n",
    "$\\mathbf{X} =\\begin{bmatrix}x_{11} & x_{12} & \\dots  & x_{1n} \\\\\n",
    "x_{21} & x_{22} & \\dots  & x_{2n} \\\\\n",
    "\\vdots & \\vdots & \\ddots  & \\vdots \\\\\n",
    "x_{m1} & x_{m2} & \\dots  & x_{mn}\n",
    "\\end{bmatrix}$\n",
    "其中 $x_{ij}$ 是矩阵的第$i$行第$j$列的元素。 当我们在代码中访问矩阵的标量元素时，我们需要指定两个索引，其中第一个索引是行索引，第二个索引是列索引。"
   ],
   "metadata": {
    "collapsed": false
   },
   "id": "5e47599df84cda82"
  },
  {
   "cell_type": "code",
   "execution_count": 7,
   "outputs": [
    {
     "data": {
      "text/plain": "array([[ 0.,  1.,  2.,  3.],\n       [ 4.,  5.,  6.,  7.],\n       [ 8.,  9., 10., 11.],\n       [12., 13., 14., 15.],\n       [16., 17., 18., 19.]])"
     },
     "execution_count": 7,
     "metadata": {},
     "output_type": "execute_result"
    }
   ],
   "source": [
    "A = np.arange(20).reshape(5, 4)  # 通过reshape函数创建一个5行4列的矩阵\n",
    "A"
   ],
   "metadata": {
    "collapsed": false,
    "ExecuteTime": {
     "end_time": "2024-06-13T06:33:08.108356Z",
     "start_time": "2024-06-13T06:33:08.101086Z"
    }
   },
   "id": "a9996efcbcb7f3c6"
  },
  {
   "cell_type": "markdown",
   "source": [
    "我们可以通过行索引（i）和列索引（j）来访问矩阵中的标量元素, $a_{ij}$。例如，$a_{23}=10$。\n",
    "当我们交换矩阵的行和列时，结果称为矩阵的转置（transpose）。 通常用$\\mathbf{A}^\\top$来表示矩阵$\\mathbf{A}$的转置。 \n",
    "如果$\\mathbf{B} = \\mathbf{A}^\\top$，则对于任意$i$和$j$，都有$b_{ij} = a_{ji}$。\n",
    "在代码中，我们可以通过T属性来访问一个矩阵的转置。"
   ],
   "metadata": {
    "collapsed": false
   },
   "id": "e04a04219832f813"
  },
  {
   "cell_type": "code",
   "execution_count": 8,
   "outputs": [
    {
     "data": {
      "text/plain": "array([[ 0.,  4.,  8., 12., 16.],\n       [ 1.,  5.,  9., 13., 17.],\n       [ 2.,  6., 10., 14., 18.],\n       [ 3.,  7., 11., 15., 19.]])"
     },
     "execution_count": 8,
     "metadata": {},
     "output_type": "execute_result"
    }
   ],
   "source": [
    "A.T"
   ],
   "metadata": {
    "collapsed": false,
    "ExecuteTime": {
     "end_time": "2024-06-13T06:36:17.734536Z",
     "start_time": "2024-06-13T06:36:17.727315Z"
    }
   },
   "id": "323a6897fee4ac40"
  },
  {
   "cell_type": "markdown",
   "source": [
    "当矩阵具有相同数量的行和列时，其形状将变为正方形； 因此，它被称为方阵（square matrix）。\n",
    "作为方阵的一种特殊类型，对称矩阵（symmetric matrix）$\\mathbf{A}$等于其转置：$\\mathbf{A} = \\mathbf{A}^\\top$。 这里我们定义一个对称矩阵$B$：\n",
    "$\\mathbf{B} = \\begin{bmatrix}2 & 1 & 0 \\\\ 1 & 3 & 0 \\\\ 0 & 0 & 2\\end{bmatrix}$"
   ],
   "metadata": {
    "collapsed": false
   },
   "id": "763f156b2e8d679d"
  },
  {
   "cell_type": "code",
   "execution_count": 12,
   "outputs": [
    {
     "data": {
      "text/plain": "(array([[1., 2., 3.],\n        [2., 0., 4.],\n        [3., 4., 5.]]),\n array([[1., 2., 3.],\n        [2., 0., 4.],\n        [3., 4., 5.]]),\n array([[ True,  True,  True],\n        [ True,  True,  True],\n        [ True,  True,  True]]))"
     },
     "execution_count": 12,
     "metadata": {},
     "output_type": "execute_result"
    }
   ],
   "source": [
    "B = np.array([[1, 2, 3], [2, 0, 4], [3, 4, 5]])\n",
    "B, B.T, B == B.T"
   ],
   "metadata": {
    "collapsed": false,
    "ExecuteTime": {
     "end_time": "2024-06-13T06:38:18.630115Z",
     "start_time": "2024-06-13T06:38:18.620262Z"
    }
   },
   "id": "9e45b0f151e33366"
  },
  {
   "cell_type": "markdown",
   "source": [
    "矩阵是有非常用的数据结构：它们允许我们组织具有不同模式的数据。 \n",
    "例如，我们矩阵中的行可能对应于不同的房屋（数据样本），而列可能对应于不同的属性。 曾经使用过电子表格excel的人应该对此很熟悉。 \n",
    "因此，尽管单个向量的默认方向是列向量，但在表示表格数据集的矩阵中， 将每个数据样本作为矩阵中的行向量更为常见。 \n",
    "后面的章节将讲到这点，这种约定将支持常见的深度学习实践。 例如，沿着张量的最外轴，我们可以访问或遍历小批量的数据样本。"
   ],
   "metadata": {
    "collapsed": false
   },
   "id": "a577b26cf03e96fd"
  },
  {
   "cell_type": "markdown",
   "source": [
    "## 2.3.4. Tensors 张量\n",
    "就像向量是标量的推广，矩阵是向量的推广一样，我们可以构建具有更多轴的数据结构: 张量\n",
    "张量（tensor）是一个可以在任意数量的轴上索引的数字数组。 标量是零维张量，向量是一维张量，矩阵是二维张量。\n",
    "在数学表示法中，我们通常用特殊字体的大写字母$\\mathsf{X}$表示张量。张量$\\mathsf{X}$具有三个轴，分别沿着行、列和深度。\n",
    "当我们开始处理图像时，张量将变得更加重要，图像以 n 维数组形式出现， 其中3个轴对应于高度、宽度，以及一个通道（channel）轴， 用于表示颜色通道（红色、绿色和蓝色）。"
   ],
   "metadata": {
    "collapsed": false
   },
   "id": "fddc4c960ee255e7"
  },
  {
   "cell_type": "code",
   "execution_count": 13,
   "outputs": [
    {
     "data": {
      "text/plain": "array([[[ 0.,  1.,  2.,  3.],\n        [ 4.,  5.,  6.,  7.],\n        [ 8.,  9., 10., 11.]],\n\n       [[12., 13., 14., 15.],\n        [16., 17., 18., 19.],\n        [20., 21., 22., 23.]]])"
     },
     "execution_count": 13,
     "metadata": {},
     "output_type": "execute_result"
    }
   ],
   "source": [
    "X = np.arange(24).reshape(2, 3, 4)\n",
    "X"
   ],
   "metadata": {
    "collapsed": false,
    "ExecuteTime": {
     "end_time": "2024-06-13T06:43:39.282537Z",
     "start_time": "2024-06-13T06:43:39.274779Z"
    }
   },
   "id": "1dec449fbc484018"
  },
  {
   "cell_type": "markdown",
   "source": [
    "## 2.3.5. Basic Properties of Tensor Arithmetic 张量算术的基本性质\n",
    "标量、向量、矩阵和任意数量轴的张量（本小节中的“张量”指代数对象）有一些实用的属性。 \n",
    "例如，从按元素操作的定义中可以注意到，任何按元素的一元运算都不会改变其操作数的形状。 \n",
    "同样，给定具有相同形状的任意两个张量，任何按元素二元运算的结果都将是相同形状的张量。 例如，将两个相同形状的矩阵相加，会在这两个矩阵上执行元素加法。"
   ],
   "metadata": {
    "collapsed": false
   },
   "id": "120619d48ea3d14"
  },
  {
   "cell_type": "code",
   "execution_count": 14,
   "outputs": [
    {
     "data": {
      "text/plain": "(array([[ 0.,  1.,  2.,  3.],\n        [ 4.,  5.,  6.,  7.],\n        [ 8.,  9., 10., 11.],\n        [12., 13., 14., 15.],\n        [16., 17., 18., 19.]]),\n array([[ 0.,  2.,  4.,  6.],\n        [ 8., 10., 12., 14.],\n        [16., 18., 20., 22.],\n        [24., 26., 28., 30.],\n        [32., 34., 36., 38.]]))"
     },
     "execution_count": 14,
     "metadata": {},
     "output_type": "execute_result"
    }
   ],
   "source": [
    "A = np.arange(20).reshape(5, 4)\n",
    "B = A.copy()  # 通过分配新内存，将A的一个副本分配给B\n",
    "A, A + B"
   ],
   "metadata": {
    "collapsed": false,
    "ExecuteTime": {
     "end_time": "2024-06-13T06:45:13.343443Z",
     "start_time": "2024-06-13T06:45:13.232064Z"
    }
   },
   "id": "d5236fbc8db30b1f"
  },
  {
   "cell_type": "code",
   "execution_count": 15,
   "outputs": [
    {
     "data": {
      "text/plain": "(array([[[ 0.,  1.,  2.,  3.],\n         [ 4.,  5.,  6.,  7.],\n         [ 8.,  9., 10., 11.]],\n \n        [[12., 13., 14., 15.],\n         [16., 17., 18., 19.],\n         [20., 21., 22., 23.]]]),\n array([[[ 0.,  2.,  4.,  6.],\n         [ 8., 10., 12., 14.],\n         [16., 18., 20., 22.]],\n \n        [[24., 26., 28., 30.],\n         [32., 34., 36., 38.],\n         [40., 42., 44., 46.]]]))"
     },
     "execution_count": 15,
     "metadata": {},
     "output_type": "execute_result"
    }
   ],
   "source": [
    "X = np.arange(24).reshape(2, 3, 4)\n",
    "X, X + X"
   ],
   "metadata": {
    "collapsed": false,
    "ExecuteTime": {
     "end_time": "2024-06-13T06:45:33.693097Z",
     "start_time": "2024-06-13T06:45:33.668029Z"
    }
   },
   "id": "1ac870fb21384921"
  },
  {
   "cell_type": "markdown",
   "source": [
    "具体而言，两个矩阵的按元素乘法称为Hadamard积（Hadamard product), 或点积/点乘 (elementwise multiplication) 即逐元素相乘。数学符号为$\\odot$。 \n",
    "对于矩阵$\\mathbf{B} \\in \\mathbb{R}^{m \\times n}$，其中第$i$行第$j$列的元素是$b_{ij}$。\n",
    "矩阵$\\mathbf{A} \\in \\mathbb{R}^{m \\times n}$和$\\mathbf{B}$的Hadamard积是一个$m \\times n$的矩阵：\n",
    "$\\mathbf{A} \\odot \\mathbf{B} =\n",
    "   \\begin{bmatrix}\n",
    "       a_{11}  b_{11} & a_{12}  b_{12} & \\dots  & a_{1n}  b_{1n} \\\\\n",
    "       a_{21}  b_{21} & a_{22}  b_{22} & \\dots  & a_{2n}  b_{2n} \\\\\n",
    "       \\vdots & \\vdots & \\ddots & \\vdots \\\\\n",
    "       a_{m1}  b_{m1} & a_{m2}  b_{m2} & \\dots  & a_{mn}  b_{mn}\n",
    "   \\end{bmatrix}$"
   ],
   "metadata": {
    "collapsed": false
   },
   "id": "30b93de9b3a28aad"
  },
  {
   "cell_type": "code",
   "execution_count": 17,
   "outputs": [
    {
     "data": {
      "text/plain": "(array([[ 0.,  1.,  2.,  3.],\n        [ 4.,  5.,  6.,  7.],\n        [ 8.,  9., 10., 11.],\n        [12., 13., 14., 15.],\n        [16., 17., 18., 19.]]),\n array([[ 0.,  1.,  2.,  3.],\n        [ 4.,  5.,  6.,  7.],\n        [ 8.,  9., 10., 11.],\n        [12., 13., 14., 15.],\n        [16., 17., 18., 19.]]),\n array([[  0.,   1.,   4.,   9.],\n        [ 16.,  25.,  36.,  49.],\n        [ 64.,  81., 100., 121.],\n        [144., 169., 196., 225.],\n        [256., 289., 324., 361.]]))"
     },
     "execution_count": 17,
     "metadata": {},
     "output_type": "execute_result"
    }
   ],
   "source": [
    "A, B, A * B"
   ],
   "metadata": {
    "collapsed": false,
    "ExecuteTime": {
     "end_time": "2024-06-13T06:52:11.465346Z",
     "start_time": "2024-06-13T06:52:11.454914Z"
    }
   },
   "id": "4ad629d67d67a0df"
  },
  {
   "cell_type": "code",
   "execution_count": 20,
   "outputs": [
    {
     "data": {
      "text/plain": "(array([[[ 0.,  1.,  2.,  3.],\n         [ 4.,  5.,  6.,  7.],\n         [ 8.,  9., 10., 11.]],\n \n        [[12., 13., 14., 15.],\n         [16., 17., 18., 19.],\n         [20., 21., 22., 23.]]]),\n array([[[ 2.,  3.,  4.,  5.],\n         [ 6.,  7.,  8.,  9.],\n         [10., 11., 12., 13.]],\n \n        [[14., 15., 16., 17.],\n         [18., 19., 20., 21.],\n         [22., 23., 24., 25.]]]),\n array([[[ 0.,  2.,  4.,  6.],\n         [ 8., 10., 12., 14.],\n         [16., 18., 20., 22.]],\n \n        [[24., 26., 28., 30.],\n         [32., 34., 36., 38.],\n         [40., 42., 44., 46.]]]),\n (2, 3, 4),\n (2, 3, 4))"
     },
     "execution_count": 20,
     "metadata": {},
     "output_type": "execute_result"
    }
   ],
   "source": [
    "# 将张量乘以或加上一个标量不会改变张量的形状，其中张量的每个元素都将与标量相加或相乘\n",
    "a = 2\n",
    "X, a + X, a * X, X.shape, (a * X).shape"
   ],
   "metadata": {
    "collapsed": false,
    "ExecuteTime": {
     "end_time": "2024-06-13T06:53:30.793948Z",
     "start_time": "2024-06-13T06:53:30.785035Z"
    }
   },
   "id": "7944922d7d018eeb"
  },
  {
   "cell_type": "markdown",
   "source": [
    "## 2.3.6. Reduction 降维\n",
    "有时候，我们会想要减少张量的维度，例如，计算一个矩阵的和。在数学表示法中，我们使用$\\sum$符号表示求和。\n",
    "为了计算矩阵的和，我们需要沿着行和列的方向加和矩阵中的所有元素。在代码中，我们可以调用计算求和的函数。"
   ],
   "metadata": {
    "collapsed": false
   },
   "id": "e2e5aacd9dba69a4"
  },
  {
   "cell_type": "code",
   "execution_count": 21,
   "outputs": [
    {
     "data": {
      "text/plain": "(array([0., 1., 2., 3.]), array(6.))"
     },
     "execution_count": 21,
     "metadata": {},
     "output_type": "execute_result"
    }
   ],
   "source": [
    "x = np.arange(4)\n",
    "x, x.sum()"
   ],
   "metadata": {
    "collapsed": false,
    "ExecuteTime": {
     "end_time": "2024-06-13T06:55:01.718555Z",
     "start_time": "2024-06-13T06:55:01.705663Z"
    }
   },
   "id": "b7564a87e6d55ca"
  },
  {
   "cell_type": "markdown",
   "source": [
    "我们可以表示任意形状张量的元素和。 例如，矩阵$\\mathbf{A}$中元素的和可以记为$\\sum^m_{i=1}\\sum^n_{j=1}a_{ij}$。"
   ],
   "metadata": {
    "collapsed": false
   },
   "id": "fce6d032f2842c64"
  },
  {
   "cell_type": "code",
   "execution_count": 22,
   "outputs": [
    {
     "data": {
      "text/plain": "(array([[ 0.,  1.,  2.,  3.],\n        [ 4.,  5.,  6.,  7.],\n        [ 8.,  9., 10., 11.],\n        [12., 13., 14., 15.],\n        [16., 17., 18., 19.]]),\n (5, 4),\n array(190.))"
     },
     "execution_count": 22,
     "metadata": {},
     "output_type": "execute_result"
    }
   ],
   "source": [
    "A, A.shape, A.sum()  # 矩阵的元素和"
   ],
   "metadata": {
    "collapsed": false,
    "ExecuteTime": {
     "end_time": "2024-06-13T06:56:10.180884Z",
     "start_time": "2024-06-13T06:56:10.125866Z"
    }
   },
   "id": "231c545d12bfae6b"
  },
  {
   "cell_type": "markdown",
   "source": [
    "默认情况下，调用求和函数会沿所有的轴降低张量的维度，使它变为一个标量。 \n",
    "我们还可以指定张量沿哪一个轴来通过求和降低维度。 以矩阵为例，为了通过求和所有行的元素来降维（轴0），可以在调用函数时指定axis=0。 由于输入矩阵沿0轴降维以生成输出向量，因此输入轴0的维数在输出形状中消失。"
   ],
   "metadata": {
    "collapsed": false
   },
   "id": "bea70687807dd3bc"
  },
  {
   "cell_type": "code",
   "execution_count": 23,
   "outputs": [
    {
     "data": {
      "text/plain": "(array([40., 45., 50., 55.]), (4,))"
     },
     "execution_count": 23,
     "metadata": {},
     "output_type": "execute_result"
    }
   ],
   "source": [
    "A_sum_axis0 = A.sum(axis=0)\n",
    "A_sum_axis0, A_sum_axis0.shape"
   ],
   "metadata": {
    "collapsed": false,
    "ExecuteTime": {
     "end_time": "2024-06-13T06:57:55.532098Z",
     "start_time": "2024-06-13T06:57:55.498426Z"
    }
   },
   "id": "9a3e4a597a291b21"
  },
  {
   "cell_type": "code",
   "execution_count": 24,
   "outputs": [
    {
     "data": {
      "text/plain": "(array([ 6., 22., 38., 54., 70.]), (5,))"
     },
     "execution_count": 24,
     "metadata": {},
     "output_type": "execute_result"
    }
   ],
   "source": [
    "# 指定axis=1将通过汇总所有列的元素降维（轴1）。因此，输入轴1的维数在输出形状中消失。\n",
    "A_sum_axis1 = A.sum(axis=1)\n",
    "A_sum_axis1, A_sum_axis1.shape"
   ],
   "metadata": {
    "collapsed": false,
    "ExecuteTime": {
     "end_time": "2024-06-13T06:58:53.015811Z",
     "start_time": "2024-06-13T06:58:52.978400Z"
    }
   },
   "id": "e3654f335e4c394b"
  },
  {
   "cell_type": "code",
   "execution_count": 25,
   "outputs": [
    {
     "data": {
      "text/plain": "array(190.)"
     },
     "execution_count": 25,
     "metadata": {},
     "output_type": "execute_result"
    }
   ],
   "source": [
    "# 沿着行和列对矩阵求和，等价于对矩阵的所有元素进行求和。\n",
    "A.sum(axis=[0, 1])  # 结果和A.sum()相同"
   ],
   "metadata": {
    "collapsed": false,
    "ExecuteTime": {
     "end_time": "2024-06-13T07:00:26.758818Z",
     "start_time": "2024-06-13T07:00:26.722937Z"
    }
   },
   "id": "92b02af2c7905eb2"
  },
  {
   "cell_type": "code",
   "execution_count": 26,
   "outputs": [
    {
     "data": {
      "text/plain": "(array(9.5), array(9.5))"
     },
     "execution_count": 26,
     "metadata": {},
     "output_type": "execute_result"
    }
   ],
   "source": [
    "# 一个与求和相关的量是平均值（mean或average）。 我们通过将总和除以元素总数来计算平均值。 在代码中，我们可以调用函数来计算任意形状张量的平均值。\n",
    "A.mean(), A.sum() / A.size"
   ],
   "metadata": {
    "collapsed": false,
    "ExecuteTime": {
     "end_time": "2024-06-13T07:01:03.501577Z",
     "start_time": "2024-06-13T07:01:03.464232Z"
    }
   },
   "id": "469b1731670c0c64"
  },
  {
   "cell_type": "code",
   "execution_count": 27,
   "outputs": [
    {
     "data": {
      "text/plain": "(array([ 8.,  9., 10., 11.]), array([ 8.,  9., 10., 11.]))"
     },
     "execution_count": 27,
     "metadata": {},
     "output_type": "execute_result"
    }
   ],
   "source": [
    "# 同样，计算平均值的函数也可以沿指定轴降维。\n",
    "A.mean(axis=0), A.sum(axis=0) / A.shape[0]"
   ],
   "metadata": {
    "collapsed": false,
    "ExecuteTime": {
     "end_time": "2024-06-13T07:01:15.850959Z",
     "start_time": "2024-06-13T07:01:15.814268Z"
    }
   },
   "id": "44932cbf051557ac"
  },
  {
   "cell_type": "markdown",
   "source": [
    "非降维求和\n",
    "但是，有时在调用函数来计算总和或均值时保持轴数不变会很有用。\n",
    "例如，由于总和函数会消除轴，我们可能会丢失有关输入张量轴的信息。"
   ],
   "metadata": {
    "collapsed": false
   },
   "id": "5f5b26f000f8edd0"
  },
  {
   "cell_type": "code",
   "execution_count": 29,
   "outputs": [
    {
     "data": {
      "text/plain": "(array([[ 6.],\n        [22.],\n        [38.],\n        [54.],\n        [70.]]),\n (5, 1))"
     },
     "execution_count": 29,
     "metadata": {},
     "output_type": "execute_result"
    }
   ],
   "source": [
    "sum_A = A.sum(axis=1, keepdims=True)  # keepdims=True保持轴数不变\n",
    "sum_A, sum_A.shape"
   ],
   "metadata": {
    "collapsed": false,
    "ExecuteTime": {
     "end_time": "2024-06-13T07:02:52.438432Z",
     "start_time": "2024-06-13T07:02:52.429384Z"
    }
   },
   "id": "9e7136017f88c798"
  },
  {
   "cell_type": "code",
   "execution_count": 30,
   "outputs": [
    {
     "data": {
      "text/plain": "(array([[ 0.,  1.,  2.,  3.],\n        [ 4.,  5.,  6.,  7.],\n        [ 8.,  9., 10., 11.],\n        [12., 13., 14., 15.],\n        [16., 17., 18., 19.]]),\n array([[ 6.],\n        [22.],\n        [38.],\n        [54.],\n        [70.]]),\n array([[0.        , 0.16666667, 0.33333334, 0.5       ],\n        [0.18181819, 0.22727273, 0.27272728, 0.3181818 ],\n        [0.21052632, 0.23684211, 0.2631579 , 0.28947368],\n        [0.22222222, 0.24074075, 0.25925925, 0.2777778 ],\n        [0.22857143, 0.24285714, 0.25714287, 0.27142859]]))"
     },
     "execution_count": 30,
     "metadata": {},
     "output_type": "execute_result"
    }
   ],
   "source": [
    "# 由于sum_A在对每行进行求和后仍保持两个轴，我们可以通过广播将A除以sum_A。\n",
    "A, sum_A, A / sum_A"
   ],
   "metadata": {
    "collapsed": false,
    "ExecuteTime": {
     "end_time": "2024-06-13T07:03:30.924932Z",
     "start_time": "2024-06-13T07:03:30.897923Z"
    }
   },
   "id": "de40fc1e23b342fb"
  },
  {
   "cell_type": "code",
   "execution_count": 32,
   "outputs": [
    {
     "data": {
      "text/plain": "(array([[ 0.,  1.,  2.,  3.],\n        [ 4.,  5.,  6.,  7.],\n        [ 8.,  9., 10., 11.],\n        [12., 13., 14., 15.],\n        [16., 17., 18., 19.]]),\n array([[ 0.,  1.,  2.,  3.],\n        [ 4.,  6.,  8., 10.],\n        [12., 15., 18., 21.],\n        [24., 28., 32., 36.],\n        [40., 45., 50., 55.]]))"
     },
     "execution_count": 32,
     "metadata": {},
     "output_type": "execute_result"
    }
   ],
   "source": [
    "# 如果我们想沿某个轴计算A元素的累积总和， 比如axis=0（按行计算），可以调用cumsum函数。 此函数不会沿任何轴降低输入张量的维度。\n",
    "A, A.cumsum(axis=0)"
   ],
   "metadata": {
    "collapsed": false,
    "ExecuteTime": {
     "end_time": "2024-06-13T07:04:22.007064Z",
     "start_time": "2024-06-13T07:04:21.999353Z"
    }
   },
   "id": "b52c770f49aae24"
  },
  {
   "cell_type": "markdown",
   "source": [
    "## 2.3.7 Dot Product 点积\n",
    "给定两个向量 $\\mathbf{x}, \\mathbf{y} \\in \\mathbb{R}^d$，它们的点积 $\\mathbf{x}^\\top \\mathbf{y}$（或 $\\langle \\mathbf{x}, \\mathbf{y} \\rangle$）是相同位置的按元素乘积的和：$\\mathbf{x}^\\top \\mathbf{y} = \\sum_{i=1}^{d} x(i) \\cdot y(i)$。"
   ],
   "metadata": {
    "collapsed": false
   },
   "id": "25ec6c1368b5b9fd"
  },
  {
   "cell_type": "code",
   "execution_count": 33,
   "outputs": [
    {
     "data": {
      "text/plain": "(array([0., 1., 2., 3.]), array([1., 1., 1., 1.]), array(6.))"
     },
     "execution_count": 33,
     "metadata": {},
     "output_type": "execute_result"
    }
   ],
   "source": [
    "y = np.ones(4)\n",
    "x, y, np.dot(x, y)"
   ],
   "metadata": {
    "collapsed": false,
    "ExecuteTime": {
     "end_time": "2024-06-13T07:05:44.303005Z",
     "start_time": "2024-06-13T07:05:44.279547Z"
    }
   },
   "id": "e742df8b6d3b6d31"
  },
  {
   "cell_type": "code",
   "execution_count": 34,
   "outputs": [
    {
     "data": {
      "text/plain": "(array([0., 1., 2., 3.]), array(6.))"
     },
     "execution_count": 34,
     "metadata": {},
     "output_type": "execute_result"
    }
   ],
   "source": [
    "# 我们可以通过执行按元素乘法，然后进行求和来表示两个向量的点积。\n",
    "x * y, np.sum(x * y)"
   ],
   "metadata": {
    "collapsed": false,
    "ExecuteTime": {
     "end_time": "2024-06-13T07:06:19.514580Z",
     "start_time": "2024-06-13T07:06:19.469992Z"
    }
   },
   "id": "8b8c47e30c9100c4"
  },
  {
   "cell_type": "code",
   "execution_count": 39,
   "outputs": [
    {
     "data": {
      "text/plain": "(array([[ 0.,  1.,  2.,  3.],\n        [ 4.,  5.,  6.,  7.],\n        [ 8.,  9., 10., 11.],\n        [12., 13., 14., 15.],\n        [16., 17., 18., 19.]]),\n array([[  14.,   38.,   62.,   86.,  110.],\n        [  38.,  126.,  214.,  302.,  390.],\n        [  62.,  214.,  366.,  518.,  670.],\n        [  86.,  302.,  518.,  734.,  950.],\n        [ 110.,  390.,  670.,  950., 1230.]]))"
     },
     "execution_count": 39,
     "metadata": {},
     "output_type": "execute_result"
    }
   ],
   "source": [
    "A, A.T, np.dot(A, A.T)  # 矩阵-矩阵乘法"
   ],
   "metadata": {
    "collapsed": false,
    "ExecuteTime": {
     "end_time": "2024-06-13T07:09:58.924262Z",
     "start_time": "2024-06-13T07:09:58.889579Z"
    }
   },
   "id": "19c5b85c5a27ac88"
  },
  {
   "cell_type": "markdown",
   "source": [
    "点积在很多场合都很有用。 例如，给定一组由向量 $\\mathbf{x} \\in \\mathbb{R}^d$ 表示的数值特征，和一组由 $\\mathbf{w} \\in \\mathbb{R}^d$ 表示的权重。 那么这个模型的预测值可以通过两者的点积来计算，通过 $\\mathbf{x}^\\top \\mathbf{w}$。\n",
    "当权重为非负数且和为1时，即$\\sum_{i=1}^{d} w(i) = 1$，点积 $\\mathbf{x}^\\top \\mathbf{w}$ 点积表示加权平均（weighted average）。 \n",
    "将两个向量规范化得到单位长度后，点积表示它们夹角的余弦。 本节后面的内容将正式介绍长度（length）的概念。"
   ],
   "metadata": {
    "collapsed": false
   },
   "id": "f7a5dfe2e14d9eab"
  },
  {
   "cell_type": "markdown",
   "source": [
    "## 2.3.8. Matrix–Vector Products 矩阵-向量 乘法\n",
    "现在我们知道如何计算点积，可以开始理解矩阵-向量积（matrix-vector product）。 当我们将一个矩阵和一个向量相乘时，得到的是另一个向量。\n",
    "定义一个矩阵$\\mathbf{A}$, 矩阵$\\mathbf{A} \\in \\mathbb{R}^{m \\times n}$让我们将矩阵$\\mathbf{A}$用它的行向量表示：\n",
    "$\\mathbf{A} = \\begin{bmatrix} \\mathbf{a}_1^\\top \\\\ \\mathbf{a}_2^\\top \\\\ \\dots \\\\ \\mathbf{a}_m^\\top \\end{bmatrix}$\n",
    "其中每个$\\mathbf{a}_i^\\top \\in \\mathbb{R}^n$是一个行向量，表示表示矩阵的行, 例如$\\mathbf{a}_i^\\top$表示$\\mathbf{A}$的第$i$行。\n",
    "另外我们定义向量$\\mathbf{x}\\in \\mathbb{R}^n$, 那么矩阵$\\mathbf{A}$与向量$\\mathbf{x}$的积为$\\mathbf{A}\\mathbf{x}$, $\\mathbf{A}\\mathbf{x}$是一个长度为$m$的列向量，其第$i$个元素是点积$\\mathbf{a}_i^\\top \\mathbf{x}$：\n",
    "$\\mathbf{A}\\mathbf{x} = \\begin{bmatrix} \\mathbf{a}_1^\\top \\mathbf{x} \\\\ \\mathbf{a}_2^\\top \\mathbf{x} \\\\ \\dots \\\\ \\mathbf{a}_m^\\top \\mathbf{x} \\end{bmatrix}$"
   ],
   "metadata": {
    "collapsed": false
   },
   "id": "f44005c41d72a0b1"
  },
  {
   "cell_type": "code",
   "execution_count": 42,
   "outputs": [
    {
     "data": {
      "text/plain": "((5, 4),\n (4,),\n array([[ 0.,  1.,  2.,  3.],\n        [ 4.,  5.,  6.,  7.],\n        [ 8.,  9., 10., 11.],\n        [12., 13., 14., 15.],\n        [16., 17., 18., 19.]]),\n array([0., 1., 2., 3.]))"
     },
     "execution_count": 42,
     "metadata": {},
     "output_type": "execute_result"
    }
   ],
   "source": [
    "A.shape, x.shape, A, x"
   ],
   "metadata": {
    "collapsed": false,
    "ExecuteTime": {
     "end_time": "2024-06-13T07:47:29.438028Z",
     "start_time": "2024-06-13T07:47:29.435400Z"
    }
   },
   "id": "bd30442a9512b2b8"
  },
  {
   "cell_type": "code",
   "execution_count": 41,
   "outputs": [
    {
     "data": {
      "text/plain": "array([ 14.,  38.,  62.,  86., 110.])"
     },
     "execution_count": 41,
     "metadata": {},
     "output_type": "execute_result"
    }
   ],
   "source": [
    "np.dot(A, x)  # 矩阵-向量乘法"
   ],
   "metadata": {
    "collapsed": false,
    "ExecuteTime": {
     "end_time": "2024-06-13T07:47:27.207565Z",
     "start_time": "2024-06-13T07:47:27.162776Z"
    }
   },
   "id": "42c7bdccfcd716c0"
  },
  {
   "cell_type": "code",
   "execution_count": 50,
   "outputs": [
    {
     "data": {
      "text/plain": "(array([4., 5., 6., 7.]), array([0., 1., 2., 3.]), array(38.))"
     },
     "execution_count": 50,
     "metadata": {},
     "output_type": "execute_result"
    }
   ],
   "source": [
    "A[1], x, np.dot(A[1], x)  # 矩阵-向量乘法, 第二行"
   ],
   "metadata": {
    "collapsed": false,
    "ExecuteTime": {
     "end_time": "2024-06-13T07:50:33.240211Z",
     "start_time": "2024-06-13T07:50:33.230958Z"
    }
   },
   "id": "8e63153c083b7db7"
  },
  {
   "cell_type": "code",
   "execution_count": 53,
   "outputs": [
    {
     "data": {
      "text/plain": "array(38.)"
     },
     "execution_count": 53,
     "metadata": {},
     "output_type": "execute_result"
    }
   ],
   "source": [
    "np.sum(np.array([4 * 0, 5 * 1, 6 * 2, 7 * 3]))  # 矩阵-向量乘法, 第二行"
   ],
   "metadata": {
    "collapsed": false,
    "ExecuteTime": {
     "end_time": "2024-06-13T07:53:29.832643Z",
     "start_time": "2024-06-13T07:53:29.808485Z"
    }
   },
   "id": "18c4367a6f9bce1d"
  },
  {
   "cell_type": "markdown",
   "source": [
    "## 2.3.9. Matrix–Matrix Multiplication 矩阵-矩阵 乘法\n",
    "假设有两个矩阵 $\\mathbf{A} \\in \\mathbb{R}^{n \\times k}$ 和 $\\mathbf{B} \\in \\mathbb{R}^{k \\times m}$, :\n",
    "$\\mathbf{A}=\\begin{bmatrix}\n",
    "    a_{11} & a_{12} & \\cdots & a_{1k} \\\\\n",
    "    a_{21} & a_{22} & \\cdots & a_{2k} \\\\\n",
    "   \\vdots & \\vdots & \\ddots & \\vdots \\\\\n",
    "    a_{n1} & a_{n2} & \\cdots & a_{nk} \\\\\n",
    "   \\end{bmatrix},\\quad\n",
    "   \\mathbf{B}=\\begin{bmatrix}\n",
    "    b_{11} & b_{12} & \\cdots & b_{1m} \\\\\n",
    "    b_{21} & b_{22} & \\cdots & b_{2m} \\\\\n",
    "   \\vdots & \\vdots & \\ddots & \\vdots \\\\\n",
    "    b_{k1} & b_{k2} & \\cdots & b_{km} \\\\\n",
    "   \\end{bmatrix}$\n",
    "用行向量$\\mathbf{a}_i^\\top$表示$\\mathbf{A}$的每一行，用列向量$\\mathbf{b}_j$表示$\\mathbf{B}$的每一列:\n",
    "$\\mathbf{A}=\n",
    "   \\begin{bmatrix}\n",
    "   \\mathbf{a}^\\top_{1} \\\\\n",
    "   \\mathbf{a}^\\top_{2} \\\\\n",
    "   \\vdots \\\\\n",
    "   \\mathbf{a}^\\top_n \\\\\n",
    "   \\end{bmatrix},\n",
    "   \\quad \\mathbf{B}=\\begin{bmatrix}\n",
    "    \\mathbf{b}_{1} & \\mathbf{b}_{2} & \\cdots & \\mathbf{b}_{m} \\\\\n",
    "   \\end{bmatrix}$\n",
    "那么矩阵$\\mathbf{A}$和$\\mathbf{B}$的乘积$\\mathbf{C} = \\mathbf{A}\\mathbf{B}$是一个矩阵$\\mathbf{C} \\in \\mathbb{R}^{n \\times m}$, 其中第$i$行第$j$列的元素是点积$\\mathbf{a}_i^\\top \\mathbf{b}_j$：\n",
    "$\\mathbf{C} = \\mathbf{AB} = \\begin{bmatrix}\n",
    "   \\mathbf{a}^\\top_{1} \\\\\n",
    "   \\mathbf{a}^\\top_{2} \\\\\n",
    "   \\vdots \\\\\n",
    "   \\mathbf{a}^\\top_n \\\\\n",
    "   \\end{bmatrix}\n",
    "   \\begin{bmatrix}\n",
    "    \\mathbf{b}_{1} & \\mathbf{b}_{2} & \\cdots & \\mathbf{b}_{m} \\\\\n",
    "   \\end{bmatrix}\n",
    "   = \\begin{bmatrix}\n",
    "   \\mathbf{a}^\\top_{1} \\mathbf{b}_1 & \\mathbf{a}^\\top_{1}\\mathbf{b}_2& \\cdots & \\mathbf{a}^\\top_{1} \\mathbf{b}_m \\\\\n",
    "    \\mathbf{a}^\\top_{2}\\mathbf{b}_1 & \\mathbf{a}^\\top_{2} \\mathbf{b}_2 & \\cdots & \\mathbf{a}^\\top_{2} \\mathbf{b}_m \\\\\n",
    "    \\vdots & \\vdots & \\ddots &\\vdots\\\\\n",
    "   \\mathbf{a}^\\top_{n} \\mathbf{b}_1 & \\mathbf{a}^\\top_{n}\\mathbf{b}_2& \\cdots& \\mathbf{a}^\\top_{n} \\mathbf{b}_m\n",
    "   \\end{bmatrix}$\n",
    "矩阵$\\mathbf{A}$的列数与矩阵$\\mathbf{B}$的行数都是$k$, 最后得到的矩阵$\\mathbf{C}$的形状是$n \\times m$。"
   ],
   "metadata": {
    "collapsed": false
   },
   "id": "d6b9b8eb571272b4"
  },
  {
   "cell_type": "code",
   "execution_count": 55,
   "outputs": [
    {
     "data": {
      "text/plain": "(array([[ 0.,  1.,  2.,  3.],\n        [ 4.,  5.,  6.,  7.],\n        [ 8.,  9., 10., 11.],\n        [12., 13., 14., 15.],\n        [16., 17., 18., 19.]]),\n array([[1., 1., 1.],\n        [1., 1., 1.],\n        [1., 1., 1.],\n        [1., 1., 1.]]),\n array([[ 6.,  6.,  6.],\n        [22., 22., 22.],\n        [38., 38., 38.],\n        [54., 54., 54.],\n        [70., 70., 70.]]))"
     },
     "execution_count": 55,
     "metadata": {},
     "output_type": "execute_result"
    }
   ],
   "source": [
    "B = np.ones(shape=(4, 3))\n",
    "A, B, np.dot(A, B)"
   ],
   "metadata": {
    "collapsed": false,
    "ExecuteTime": {
     "end_time": "2024-06-13T08:08:35.746507Z",
     "start_time": "2024-06-13T08:08:35.724380Z"
    }
   },
   "id": "ec40177a51049f03"
  },
  {
   "cell_type": "code",
   "execution_count": 64,
   "outputs": [
    {
     "data": {
      "text/plain": "(array([4., 5., 6., 7.]), array([1., 1., 1., 1.]), array(22.))"
     },
     "execution_count": 64,
     "metadata": {},
     "output_type": "execute_result"
    }
   ],
   "source": [
    "A[1], B[:, 1], np.dot(A[1], B[:, 1])    # 矩阵-矩阵乘法, 第二行和第二列"
   ],
   "metadata": {
    "collapsed": false,
    "ExecuteTime": {
     "end_time": "2024-06-13T08:10:53.715736Z",
     "start_time": "2024-06-13T08:10:53.701478Z"
    }
   },
   "id": "f3d3cef8854dc017"
  },
  {
   "cell_type": "markdown",
   "source": [
    "## 2.3.10. Norms 范数\n",
    "线性代数中范数（norm）是一个函数，它将向量映射到非负实数，表示向量的大小或长度。 在深度学习中，我们通常使用范数的概念来衡量模型参数向量的大小。\n",
    "范数是向量空间中的一个重要概念，给定一个向量 $\\mathbf{x} \\in \\mathbb{R}^n$，范数 $f(\\mathbf{x})$ 是一个将向量映射到标量的函数，并满足以下四个性质：\n",
    "1. 第一个性质是齐次性（Homogeneity or Scaling）：如果我们按常数因子$\\alpha$缩放向量的所有元素, 其范数也会按相同常数因子的绝对值缩放：\n",
    "- 例如，如果你将一个向量的所有元素都乘以 2，那么它的范数也会乘以 2。\n",
    "- $f(\\alpha \\mathbf{x}) = |\\alpha| f(\\mathbf{x})$。\n",
    "\n",
    "2. 第二个性质是熟悉的三角不等式 (Triangle Inequality): 如果我们把向量$\\mathbf{x}$和$\\mathbf{y}$相加，那么它们的范数一定不大于两个向量的范数之和:\n",
    "- 这意味着在几何上，连接两个向量端点的线段的长度不超过两向量长度之和\n",
    "- $f(\\mathbf{x} + \\mathbf{y}) \\leq f(\\mathbf{x}) + f(\\mathbf{y})$。\n",
    "\n",
    "3. 第三个是非负性（Non-negativity): 向量的范数一定非负:\n",
    "- 向量的范数表示其大小，因此不会是负值\n",
    "- $f(\\mathbf{x}) \\geq 0$\n",
    "\n",
    "4. 最后一个性质是正定性（Positive Definiteness): 要求范数最小为0，当且仅当向量全由0组成时:\n",
    "- 只有零向量的范数是 0，其它向量的范数都是正数\n",
    "- $f(\\mathbf{x}) = 0 \\Leftrightarrow \\mathbf{x} = \\mathbf{0}$\n",
    "\n",
    "L1 范数（曼哈顿范数）是向量元素的绝对值之和\n",
    "- $\\|\\mathbf{x}\\|_1 = |x_1| + |x_2| + \\cdots + |x_n|=\\sum_{i=1}^n \\left|x_i \\right|$\n",
    "- 例如，向量 $\\mathbf{x} = [1, -2, 3]$ 的 L1 范数是 $|1| + |-2| + |3| = 6$\n",
    "\n",
    "L2 范数（欧几里得范数）这是最常见的一种范数，也称为欧几里得范数，表示向量的长度\n",
    "- $\\|\\mathbf{x}\\|_2 = \\sqrt{x_1^2 + x_2^2 + \\cdots + x_n^2}=\\sqrt{\\sum_{i=1}^n x_i^2}$\n",
    "- 例如，向量 $\\mathbf{x} = [3, 4]$ 的 L2 范数是 $\\sqrt{3^2 + 4^2} = 5$\n"
   ],
   "metadata": {
    "collapsed": false
   },
   "id": "b577f96d3d42a881"
  },
  {
   "cell_type": "code",
   "execution_count": 65,
   "outputs": [
    {
     "data": {
      "text/plain": "(array([ 3., -4.]), array(5.))"
     },
     "execution_count": 65,
     "metadata": {},
     "output_type": "execute_result"
    }
   ],
   "source": [
    "# 在代码中，我们可以按如下方式计算向量的 L2 范数\n",
    "u = np.array([3, -4])\n",
    "u, np.linalg.norm(u)"
   ],
   "metadata": {
    "collapsed": false,
    "ExecuteTime": {
     "end_time": "2024-06-13T08:34:25.495610Z",
     "start_time": "2024-06-13T08:34:25.446222Z"
    }
   },
   "id": "c24a5372c96fa462"
  },
  {
   "cell_type": "code",
   "execution_count": 66,
   "outputs": [
    {
     "data": {
      "text/plain": "(array([ 3., -4.]), array(7.))"
     },
     "execution_count": 66,
     "metadata": {},
     "output_type": "execute_result"
    }
   ],
   "source": [
    "# 与L2范数相比，L1范数受异常值的影响较小. 为了计算L1范数，我们将向量中所有元素的绝对值相加\n",
    "u, np.abs(u).sum()"
   ],
   "metadata": {
    "collapsed": false,
    "ExecuteTime": {
     "end_time": "2024-06-13T08:39:15.289946Z",
     "start_time": "2024-06-13T08:39:15.241619Z"
    }
   },
   "id": "df8bdb6d941e4147"
  },
  {
   "cell_type": "markdown",
   "source": [
    "$L_2$范数与$L_1$范数都是更一般范数$L_p$的特例。 \n",
    "$\\|\\mathbf{x}\\|_p = \\left(\\sum_{i=1}^n \\left|x_i \\right|^p \\right)^{1/p}$\n",
    "类似于向量的$L_2$范数，矩阵$X \\in \\mathbb{R}^{m \\times n}$的Frobenius范数是矩阵中所有元素平方和的平方根：\n",
    "$\\|X\\|_F = \\sqrt{\\sum_{i=1}^m \\sum_{j=1}^n \\left| x_{ij} \\right|^2}$"
   ],
   "metadata": {
    "collapsed": false
   },
   "id": "f3084e22ea572182"
  },
  {
   "cell_type": "code",
   "execution_count": 68,
   "outputs": [
    {
     "data": {
      "text/plain": "(array([[1., 1., 1., 1., 1., 1., 1., 1., 1.],\n        [1., 1., 1., 1., 1., 1., 1., 1., 1.],\n        [1., 1., 1., 1., 1., 1., 1., 1., 1.],\n        [1., 1., 1., 1., 1., 1., 1., 1., 1.]]),\n array(6.))"
     },
     "execution_count": 68,
     "metadata": {},
     "output_type": "execute_result"
    }
   ],
   "source": [
    "# Frobenius范数满足向量范数的所有性质，它就像是矩阵形向量的L2范数\n",
    "np.ones((4, 9)), np.linalg.norm(np.ones((4, 9)))"
   ],
   "metadata": {
    "collapsed": false,
    "ExecuteTime": {
     "end_time": "2024-06-13T08:52:28.967616Z",
     "start_time": "2024-06-13T08:52:28.942385Z"
    }
   },
   "id": "2608c65982ff3ac"
  },
  {
   "cell_type": "markdown",
   "source": [
    "范数和目标\n",
    "在深度学习中，我们经常试图解决优化问题：最大化分配给观测数据的概率; 最小化预测和真实观测之间的距离。 \n",
    "用向量表示物品（如单词、产品或新闻文章），以便最小化相似项目之间的距离，最大化不同项目之间的距离。 \n",
    "目标，或许是深度学习算法最重要的组成部分（除了数据），通常被表达为范数。"
   ],
   "metadata": {
    "collapsed": false
   },
   "id": "dc310ae38cb92ba8"
  },
  {
   "cell_type": "code",
   "execution_count": null,
   "outputs": [],
   "source": [],
   "metadata": {
    "collapsed": false
   },
   "id": "cb83235e88600b16"
  }
 ],
 "metadata": {
  "kernelspec": {
   "display_name": "Python 3",
   "language": "python",
   "name": "python3"
  },
  "language_info": {
   "codemirror_mode": {
    "name": "ipython",
    "version": 2
   },
   "file_extension": ".py",
   "mimetype": "text/x-python",
   "name": "python",
   "nbconvert_exporter": "python",
   "pygments_lexer": "ipython2",
   "version": "2.7.6"
  }
 },
 "nbformat": 4,
 "nbformat_minor": 5
}
