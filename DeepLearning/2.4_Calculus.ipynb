{
 "cells": [
  {
   "cell_type": "markdown",
   "source": [
    "# 2.4. Calculus\n",
    "逼近法就是积分（integral calculus）的起源. 微积分的另一支，微分（differential calculus）被发明出来。 在微分学最重要的应用是优化问题，即考虑如何把事情做到最好。 这种问题在深度学习中是无处不在的。\n",
    "在深度学习中，我们“训练”模型，不断更新它们，使它们在看到越来越多的数据时变得越来越好。 通常情况下，变得更好意味着最小化一个损失函数（loss function）， 即一个衡量“模型有多糟糕”这个问题的分数, 损失函数的值越低，模型的表现越好。最终，我们真正关心的是生成一个模型，它能够在从未见过的数据上表现良好。 但“训练”模型只能将模型与我们实际能看到的数据相拟合。 因此，我们可以将拟合模型的任务分解为两个关键问题：\n",
    "- 优化（optimization）：用模型拟合观测数据的过程, 优化的目标是调整模型的参数，使损失函数的值尽可能低，也就是说，使模型在训练数据上的预测尽可能准确。\n",
    "- 泛化（generalization）：训练模型的最终目的是让它在未见过的新数据上表现良好，这就是泛化。简单来说，我们希望模型不仅在训练数据上表现良好，还能在测试数据或实际应用中也能做出准确的预测。\n",
    "\n",
    "为了帮助读者在后面的章节中更好地理解优化问题和方法， 本节提供了一个非常简短的入门教程，帮助读者快速掌握深度学习中常用的微分知识。"
   ],
   "metadata": {
    "collapsed": false
   },
   "id": "16429c4fb6f030eb"
  },
  {
   "cell_type": "markdown",
   "source": [
    "## 2.4.1. Derivatives and Differentiation 导数和微分\n",
    "我们首先讨论导数的计算，这是几乎所有深度学习优化算法的关键步骤。 在深度学习中，我们通常选择对于模型参数可微的损失函数。 \n",
    "简而言之，对于每个参数， 如果我们把这个参数增加或减少一个无穷小的量，可以知道损失会以多快的速度增加或减少\n",
    "假设我们有一个函数$f$: $R \\rightarrow R$，其输入和输出都是标量。如果$f$的导数存在，这个极限被定义为：\n",
    "$$f'(x) = \\lim_{h \\rightarrow 0} \\frac{f(x+h) - f(x)}{h}$$\n",
    "如果$f'(a)$存在，则称$f$在$a$处是可微的 (differentiable)。如果$f$在一个区间内的每个数上都是可微的，则称$f$在该区间上是可微的。如果$f$在一个区间上是可微的，那么$f$在该区间上是连续的。\n",
    "我们可以将导数$f'(x)$解释为$f(x)$相对于$x$的瞬时（instantaneous）变化率。 所谓的瞬时变化率是基于$x$的变化$h$，且$h$接近0。"
   ],
   "metadata": {
    "collapsed": false
   },
   "id": "b5e86d4f6dc4efa6"
  },
  {
   "cell_type": "markdown",
   "source": [
    "- 导数的定义\n",
    "导数是一个数学概念，用于描述一个函数的变化率。简单来说，导数告诉我们函数在某一点的瞬时变化率，或者说函数值随着输入变化的速度。导数的直观理解是：如果你在某一点上增加或减少一个非常小的量，函数值会以多快的速度增加或减少。\n",
    "\n",
    "- 导数的定义公式\n",
    "导数的定义公式如下：\n",
    "$$ f'(x) = \\lim_{h \\rightarrow 0} \\frac{f(x+h) - f(x)}{h} $$\n",
    "\n",
    "- 公式的含义\n",
    "\n",
    "  1. 函数 $ f $：\n",
    "     - $ f $ 是一个从实数到实数的函数，意味着它接受一个实数作为输入，并输出一个实数。\n",
    "\n",
    "  2. 导数 $ f'(x) $：\n",
    "     - $ f'(x) $ 表示函数 $ f $ 在点 $ x $ 处的导数，也称为 $ f $ 在点 $ x $ 处的瞬时变化率。\n",
    "\n",
    "  3. 极限 $ \\lim_{h \\rightarrow 0} $：\n",
    "     - 这是一个极限过程，表示我们让 $h$ 变得非常非常小，接近于 0。\n",
    "\n",
    "  4. 增量$ h$：\n",
    "     - $h$ 是一个非常小的数，用来表示我们对输入$x$的微小改变。\n",
    "\n",
    "  5. 差商$\\frac{f(x+h) - f(x)}{h}$：\n",
    "     - 这是$ x$ 增加$h$后函数值的变化率。分子$f(x+h) - f(x)$表示函数值的变化，分母$h$表示输入的变化量。\n",
    "     - 当$h$趋近于 0 时，这个比值表示函数在$x$点处的瞬时变化率，也就是导数。\n",
    "\n",
    "- 举例说明\n",
    "假设我们有一个简单的函数 $f(x) = x^2$，我们来计算它在点 $x = 2$ 处的导数。\n",
    "  1. 函数 $f(x) = x^2$：\n",
    "      - 这是一个二次函数，其图像是一条抛物线。\n",
    "  2. 计算 $f'(2)$：\n",
    "      - 根据导数的定义，我们计算：$\n",
    "     f'(x) = \\lim_{h \\rightarrow 0} \\frac{(2+h)^2 - 2^2}{h}\n",
    "     $\n",
    "  3. 展开计算：\n",
    "      - 先展开分子：$(2+h)^2 = 4 + 4h + h^2$ 所以，$f(2+h) - f(2) = 4 + 4h + h^2 - 4 = 4h + h^2$\n",
    "  4. 代入公式：\n",
    "      - $f'(2) = \\lim_{h \\rightarrow 0} \\frac{4h + h^2}{h} = \\lim_{h \\rightarrow 0} (4 + h)$\n",
    "\n",
    "  5. 取极限：\n",
    "     - 当 $h$ 趋近于 0 时，$4 + h$ 趋近于 4，因此：$f'(2) = 4$\n",
    "     - 这意味着，对于函数 $f(x) = x^2$，当 $x = 2$ 时，函数值随输入的变化率是 4。换句话说，在$x = 2$处，函数值以每单位输入增加 4 个单位输出的速度变化。\n",
    "\n",
    "- 深度学习中的应用\n",
    "在深度学习中，导数用于计算损失函数相对于模型参数的变化率。这是优化算法的核心步骤，因为通过计算这些导数（梯度），我们可以知道如何调整模型参数以最小化损失函数。例如，在梯度下降算法中，我们使用损失函数的导数来确定每一步的参数更新方向和步幅，以逐步减小损失函数值，从而优化模型。\n",
    "\n",
    "总结来说，导数是描述函数变化率的重要工具，它在深度学习中用于优化模型参数，使得模型能够更好地拟合训练数据。"
   ],
   "metadata": {
    "collapsed": false
   },
   "id": "89f10b23ac963702"
  },
  {
   "cell_type": "markdown",
   "source": [
    "为了更好地解释导数，让我们做一个实验。 定义$f(x) = 3x^2 - 4x$，计算$f'(1)$。根据导数的定义，我们得到："
   ],
   "metadata": {
    "collapsed": false
   },
   "id": "ee790cddafac234"
  },
  {
   "cell_type": "code",
   "execution_count": 3,
   "outputs": [
    {
     "name": "stdout",
     "output_type": "stream",
     "text": [
      "h=0.10000, numerical limit=2.30000\n",
      "h=0.01000, numerical limit=2.03000\n",
      "h=0.00100, numerical limit=2.00300\n",
      "h=0.00010, numerical limit=2.00030\n",
      "h=0.00001, numerical limit=2.00003\n"
     ]
    }
   ],
   "source": [
    "%matplotlib inline\n",
    "from matplotlib_inline import backend_inline\n",
    "from mxnet import np, npx\n",
    "\n",
    "npx.set_np()\n",
    "\n",
    "\n",
    "def f(x):\n",
    "    return 3 * x ** 2 - 4 * x\n",
    "\n",
    "\n",
    "def numerical_lim(f, x, h):\n",
    "    return (f(x + h) - f(x)) / h\n",
    "\n",
    "\n",
    "h = 0.1\n",
    "for i in range(5):\n",
    "    print(f'h={h:.5f}, numerical limit={numerical_lim(f, 1, h):.5f}')\n",
    "    h *= 0.1"
   ],
   "metadata": {
    "collapsed": false,
    "ExecuteTime": {
     "end_time": "2024-06-21T01:31:51.685469Z",
     "start_time": "2024-06-21T01:31:51.621281Z"
    }
   },
   "id": "6d97be771f50d174"
  },
  {
   "cell_type": "markdown",
   "source": [
    "通过令$x=1$和, 并让$h$接近0，$\\frac{f(x+h) - f(x)}{h}$ 的数值结果接近2"
   ],
   "metadata": {
    "collapsed": false
   },
   "id": "1d81ae34cba8fa1e"
  },
  {
   "cell_type": "markdown",
   "source": [
    "让我们熟悉一下导数的几个等价符号。 给定$y=f(x)$，其中$x$和$y$分别是函数$f$的自变量和因变量。以下表达式是等价的：\n",
    "$$f'(x) = y' = \\frac{dy}{dx} = \\frac{df}{dx} = \\frac{d}{dx} f(x) = Df(x) = D_x f(x)$$\n",
    "其中符号$\\frac{d}{dx}$和$D$是微分运算符，表示微分操作。我们可以使用这些符号之一来表示函数$f$关于$x$的导数。\n",
    "我们可以使用以下规则来对常见函数求微分：\n",
    "- 对于任何常数$C$（$C$是一个标量）, $DC = 0$\n",
    "- $Dx^n = nx^{n-1}$ (幂定律 (power rule），$n$是任意实数)\n",
    "- $D\\exp(x) = \\exp(x)$\n",
    "- $D\\log(x) = 1/x$\n",
    "- $D\\sin(x) = \\cos(x)$\n",
    "- $D\\cos(x) = -\\sin(x)$"
   ],
   "metadata": {
    "collapsed": false
   },
   "id": "c4ecd2adeeeda082"
  },
  {
   "cell_type": "markdown",
   "source": [
    "\n",
    "为了微分一个由一些常见函数组成的函数，下面的一些法则方便使用。 假设函数$f$和$g$是可微的，$C$是一个常数，我们有：\n",
    "$$\n",
    "\\begin{aligned} \n",
    "\\frac{d}{dx} [C f(x)] & = C \\frac{d}{dx} f(x) && \\textrm{Constant multiple rule 常数相乘法则} \\\\ \n",
    "\\frac{d}{dx} [f(x) + g(x)] & = \\frac{d}{dx} f(x) + \\frac{d}{dx} g(x) && \\textrm{Sum rule 加法法则} \\\\ \n",
    "\\frac{d}{dx} [f(x) g(x)] & = f(x) \\frac{d}{dx} g(x) + g(x) \\frac{d}{dx} f(x) && \\textrm{Product rule 乘法法则} \\\\ \n",
    "\\frac{d}{dx} \\frac{f(x)}{g(x)} & = \\frac{g(x) \\frac{d}{dx} f(x) - f(x) \\frac{d}{dx} g(x)}{g^2(x)} && \\textrm{Quotient rule 除法法则} \n",
    "\\end{aligned}\n",
    "$$"
   ],
   "metadata": {
    "collapsed": false
   },
   "id": "dba82c6387d37a1"
  },
  {
   "cell_type": "markdown",
   "source": [
    "现在我们可以应用上述几个法则来计算导数。 例如，假设$f(x) = 3x^2 - 4x$，我们可以使用幂定律和常数相乘法则来计算$f$的导数。 \n",
    "首先，$D(3x^2) = 3 \\cdot 2 x^{2-1} = 6x$ 和 $D(-4x) = -4$。 因此，根据加法法则，$D(3x^2 - 4x) = 6x - 4$。\n",
    "令$x=1$，得到$6 \\times 1 - 4 = 2$。 因此，根据导数的定义，当$x=1$时，函数$f(x) = 3x^2 - 4x$的导数是2。此导数也是曲线$y=3x^2 - 4x$在$x=1$处切线的斜率。\n",
    "\n",
    "为了对导数的这种解释进行可视化，我们将使用matplotlib， 这是一个Python中流行的绘图库。 要配置matplotlib生成图形的属性，我们需要定义几个函数。 在下面，use_svg_display函数指定matplotlib软件包输出svg图表以获得更清晰的图像。"
   ],
   "metadata": {
    "collapsed": false
   },
   "id": "36f823999de75b15"
  },
  {
   "cell_type": "code",
   "execution_count": 4,
   "outputs": [
    {
     "data": {
      "text/plain": "<Figure size 350x250 with 1 Axes>",
      "image/svg+xml": "<?xml version=\"1.0\" encoding=\"utf-8\" standalone=\"no\"?>\n<!DOCTYPE svg PUBLIC \"-//W3C//DTD SVG 1.1//EN\"\n  \"http://www.w3.org/Graphics/SVG/1.1/DTD/svg11.dtd\">\n<svg xmlns:xlink=\"http://www.w3.org/1999/xlink\" width=\"243.529353pt\" height=\"183.35625pt\" viewBox=\"0 0 243.529353 183.35625\" xmlns=\"http://www.w3.org/2000/svg\" version=\"1.1\">\n <metadata>\n  <rdf:RDF xmlns:dc=\"http://purl.org/dc/elements/1.1/\" xmlns:cc=\"http://creativecommons.org/ns#\" xmlns:rdf=\"http://www.w3.org/1999/02/22-rdf-syntax-ns#\">\n   <cc:Work>\n    <dc:type rdf:resource=\"http://purl.org/dc/dcmitype/StillImage\"/>\n    <dc:date>2024-06-21T09:31:51.725828</dc:date>\n    <dc:format>image/svg+xml</dc:format>\n    <dc:creator>\n     <cc:Agent>\n      <dc:title>Matplotlib v3.7.3, https://matplotlib.org/</dc:title>\n     </cc:Agent>\n    </dc:creator>\n   </cc:Work>\n  </rdf:RDF>\n </metadata>\n <defs>\n  <style type=\"text/css\">*{stroke-linejoin: round; stroke-linecap: butt}</style>\n </defs>\n <g id=\"figure_1\">\n  <g id=\"patch_1\">\n   <path d=\"M 0 183.35625 \nL 243.529353 183.35625 \nL 243.529353 0 \nL 0 0 \nz\n\" style=\"fill: #ffffff\"/>\n  </g>\n  <g id=\"axes_1\">\n   <g id=\"patch_2\">\n    <path d=\"M 40.603125 145.8 \nL 235.903125 145.8 \nL 235.903125 7.2 \nL 40.603125 7.2 \nz\n\" style=\"fill: #ffffff\"/>\n   </g>\n   <g id=\"matplotlib.axis_1\">\n    <g id=\"xtick_1\">\n     <g id=\"line2d_1\">\n      <path d=\"M 49.480398 145.8 \nL 49.480398 7.2 \n\" clip-path=\"url(#p60801b3b64)\" style=\"fill: none; stroke: #b0b0b0; stroke-width: 0.8; stroke-linecap: square\"/>\n     </g>\n     <g id=\"line2d_2\">\n      <defs>\n       <path id=\"m5fa283bbd0\" d=\"M 0 0 \nL 0 3.5 \n\" style=\"stroke: #000000; stroke-width: 0.8\"/>\n      </defs>\n      <g>\n       <use xlink:href=\"#m5fa283bbd0\" x=\"49.480398\" y=\"145.8\" style=\"stroke: #000000; stroke-width: 0.8\"/>\n      </g>\n     </g>\n     <g id=\"text_1\">\n      <!-- 0 -->\n      <g transform=\"translate(46.299148 160.398438) scale(0.1 -0.1)\">\n       <defs>\n        <path id=\"DejaVuSans-30\" d=\"M 2034 4250 \nQ 1547 4250 1301 3770 \nQ 1056 3291 1056 2328 \nQ 1056 1369 1301 889 \nQ 1547 409 2034 409 \nQ 2525 409 2770 889 \nQ 3016 1369 3016 2328 \nQ 3016 3291 2770 3770 \nQ 2525 4250 2034 4250 \nz\nM 2034 4750 \nQ 2819 4750 3233 4129 \nQ 3647 3509 3647 2328 \nQ 3647 1150 3233 529 \nQ 2819 -91 2034 -91 \nQ 1250 -91 836 529 \nQ 422 1150 422 2328 \nQ 422 3509 836 4129 \nQ 1250 4750 2034 4750 \nz\n\" transform=\"scale(0.015625)\"/>\n       </defs>\n       <use xlink:href=\"#DejaVuSans-30\"/>\n      </g>\n     </g>\n    </g>\n    <g id=\"xtick_2\">\n     <g id=\"line2d_3\">\n      <path d=\"M 110.702966 145.8 \nL 110.702966 7.2 \n\" clip-path=\"url(#p60801b3b64)\" style=\"fill: none; stroke: #b0b0b0; stroke-width: 0.8; stroke-linecap: square\"/>\n     </g>\n     <g id=\"line2d_4\">\n      <g>\n       <use xlink:href=\"#m5fa283bbd0\" x=\"110.702966\" y=\"145.8\" style=\"stroke: #000000; stroke-width: 0.8\"/>\n      </g>\n     </g>\n     <g id=\"text_2\">\n      <!-- 1 -->\n      <g transform=\"translate(107.521716 160.398438) scale(0.1 -0.1)\">\n       <defs>\n        <path id=\"DejaVuSans-31\" d=\"M 794 531 \nL 1825 531 \nL 1825 4091 \nL 703 3866 \nL 703 4441 \nL 1819 4666 \nL 2450 4666 \nL 2450 531 \nL 3481 531 \nL 3481 0 \nL 794 0 \nL 794 531 \nz\n\" transform=\"scale(0.015625)\"/>\n       </defs>\n       <use xlink:href=\"#DejaVuSans-31\"/>\n      </g>\n     </g>\n    </g>\n    <g id=\"xtick_3\">\n     <g id=\"line2d_5\">\n      <path d=\"M 171.925535 145.8 \nL 171.925535 7.2 \n\" clip-path=\"url(#p60801b3b64)\" style=\"fill: none; stroke: #b0b0b0; stroke-width: 0.8; stroke-linecap: square\"/>\n     </g>\n     <g id=\"line2d_6\">\n      <g>\n       <use xlink:href=\"#m5fa283bbd0\" x=\"171.925535\" y=\"145.8\" style=\"stroke: #000000; stroke-width: 0.8\"/>\n      </g>\n     </g>\n     <g id=\"text_3\">\n      <!-- 2 -->\n      <g transform=\"translate(168.744285 160.398438) scale(0.1 -0.1)\">\n       <defs>\n        <path id=\"DejaVuSans-32\" d=\"M 1228 531 \nL 3431 531 \nL 3431 0 \nL 469 0 \nL 469 531 \nQ 828 903 1448 1529 \nQ 2069 2156 2228 2338 \nQ 2531 2678 2651 2914 \nQ 2772 3150 2772 3378 \nQ 2772 3750 2511 3984 \nQ 2250 4219 1831 4219 \nQ 1534 4219 1204 4116 \nQ 875 4013 500 3803 \nL 500 4441 \nQ 881 4594 1212 4672 \nQ 1544 4750 1819 4750 \nQ 2544 4750 2975 4387 \nQ 3406 4025 3406 3419 \nQ 3406 3131 3298 2873 \nQ 3191 2616 2906 2266 \nQ 2828 2175 2409 1742 \nQ 1991 1309 1228 531 \nz\n\" transform=\"scale(0.015625)\"/>\n       </defs>\n       <use xlink:href=\"#DejaVuSans-32\"/>\n      </g>\n     </g>\n    </g>\n    <g id=\"xtick_4\">\n     <g id=\"line2d_7\">\n      <path d=\"M 233.148103 145.8 \nL 233.148103 7.2 \n\" clip-path=\"url(#p60801b3b64)\" style=\"fill: none; stroke: #b0b0b0; stroke-width: 0.8; stroke-linecap: square\"/>\n     </g>\n     <g id=\"line2d_8\">\n      <g>\n       <use xlink:href=\"#m5fa283bbd0\" x=\"233.148103\" y=\"145.8\" style=\"stroke: #000000; stroke-width: 0.8\"/>\n      </g>\n     </g>\n     <g id=\"text_4\">\n      <!-- 3 -->\n      <g transform=\"translate(229.966853 160.398438) scale(0.1 -0.1)\">\n       <defs>\n        <path id=\"DejaVuSans-33\" d=\"M 2597 2516 \nQ 3050 2419 3304 2112 \nQ 3559 1806 3559 1356 \nQ 3559 666 3084 287 \nQ 2609 -91 1734 -91 \nQ 1441 -91 1130 -33 \nQ 819 25 488 141 \nL 488 750 \nQ 750 597 1062 519 \nQ 1375 441 1716 441 \nQ 2309 441 2620 675 \nQ 2931 909 2931 1356 \nQ 2931 1769 2642 2001 \nQ 2353 2234 1838 2234 \nL 1294 2234 \nL 1294 2753 \nL 1863 2753 \nQ 2328 2753 2575 2939 \nQ 2822 3125 2822 3475 \nQ 2822 3834 2567 4026 \nQ 2313 4219 1838 4219 \nQ 1578 4219 1281 4162 \nQ 984 4106 628 3988 \nL 628 4550 \nQ 988 4650 1302 4700 \nQ 1616 4750 1894 4750 \nQ 2613 4750 3031 4423 \nQ 3450 4097 3450 3541 \nQ 3450 3153 3228 2886 \nQ 3006 2619 2597 2516 \nz\n\" transform=\"scale(0.015625)\"/>\n       </defs>\n       <use xlink:href=\"#DejaVuSans-33\"/>\n      </g>\n     </g>\n    </g>\n    <g id=\"text_5\">\n     <!-- x -->\n     <g transform=\"translate(135.29375 174.076563) scale(0.1 -0.1)\">\n      <defs>\n       <path id=\"DejaVuSans-78\" d=\"M 3513 3500 \nL 2247 1797 \nL 3578 0 \nL 2900 0 \nL 1881 1375 \nL 863 0 \nL 184 0 \nL 1544 1831 \nL 300 3500 \nL 978 3500 \nL 1906 2253 \nL 2834 3500 \nL 3513 3500 \nz\n\" transform=\"scale(0.015625)\"/>\n      </defs>\n      <use xlink:href=\"#DejaVuSans-78\"/>\n     </g>\n    </g>\n   </g>\n   <g id=\"matplotlib.axis_2\">\n    <g id=\"ytick_1\">\n     <g id=\"line2d_9\">\n      <path d=\"M 40.603125 116.769998 \nL 235.903125 116.769998 \n\" clip-path=\"url(#p60801b3b64)\" style=\"fill: none; stroke: #b0b0b0; stroke-width: 0.8; stroke-linecap: square\"/>\n     </g>\n     <g id=\"line2d_10\">\n      <defs>\n       <path id=\"m00ccdddd7f\" d=\"M 0 0 \nL -3.5 0 \n\" style=\"stroke: #000000; stroke-width: 0.8\"/>\n      </defs>\n      <g>\n       <use xlink:href=\"#m00ccdddd7f\" x=\"40.603125\" y=\"116.769998\" style=\"stroke: #000000; stroke-width: 0.8\"/>\n      </g>\n     </g>\n     <g id=\"text_6\">\n      <!-- 0 -->\n      <g transform=\"translate(27.240625 120.569217) scale(0.1 -0.1)\">\n       <use xlink:href=\"#DejaVuSans-30\"/>\n      </g>\n     </g>\n    </g>\n    <g id=\"ytick_2\">\n     <g id=\"line2d_11\">\n      <path d=\"M 40.603125 78.886661 \nL 235.903125 78.886661 \n\" clip-path=\"url(#p60801b3b64)\" style=\"fill: none; stroke: #b0b0b0; stroke-width: 0.8; stroke-linecap: square\"/>\n     </g>\n     <g id=\"line2d_12\">\n      <g>\n       <use xlink:href=\"#m00ccdddd7f\" x=\"40.603125\" y=\"78.886661\" style=\"stroke: #000000; stroke-width: 0.8\"/>\n      </g>\n     </g>\n     <g id=\"text_7\">\n      <!-- 5 -->\n      <g transform=\"translate(27.240625 82.68588) scale(0.1 -0.1)\">\n       <defs>\n        <path id=\"DejaVuSans-35\" d=\"M 691 4666 \nL 3169 4666 \nL 3169 4134 \nL 1269 4134 \nL 1269 2991 \nQ 1406 3038 1543 3061 \nQ 1681 3084 1819 3084 \nQ 2600 3084 3056 2656 \nQ 3513 2228 3513 1497 \nQ 3513 744 3044 326 \nQ 2575 -91 1722 -91 \nQ 1428 -91 1123 -41 \nQ 819 9 494 109 \nL 494 744 \nQ 775 591 1075 516 \nQ 1375 441 1709 441 \nQ 2250 441 2565 725 \nQ 2881 1009 2881 1497 \nQ 2881 1984 2565 2268 \nQ 2250 2553 1709 2553 \nQ 1456 2553 1204 2497 \nQ 953 2441 691 2322 \nL 691 4666 \nz\n\" transform=\"scale(0.015625)\"/>\n       </defs>\n       <use xlink:href=\"#DejaVuSans-35\"/>\n      </g>\n     </g>\n    </g>\n    <g id=\"ytick_3\">\n     <g id=\"line2d_13\">\n      <path d=\"M 40.603125 41.003325 \nL 235.903125 41.003325 \n\" clip-path=\"url(#p60801b3b64)\" style=\"fill: none; stroke: #b0b0b0; stroke-width: 0.8; stroke-linecap: square\"/>\n     </g>\n     <g id=\"line2d_14\">\n      <g>\n       <use xlink:href=\"#m00ccdddd7f\" x=\"40.603125\" y=\"41.003325\" style=\"stroke: #000000; stroke-width: 0.8\"/>\n      </g>\n     </g>\n     <g id=\"text_8\">\n      <!-- 10 -->\n      <g transform=\"translate(20.878125 44.802544) scale(0.1 -0.1)\">\n       <use xlink:href=\"#DejaVuSans-31\"/>\n       <use xlink:href=\"#DejaVuSans-30\" x=\"63.623047\"/>\n      </g>\n     </g>\n    </g>\n    <g id=\"text_9\">\n     <!-- f(x) -->\n     <g transform=\"translate(14.798437 85.121094) rotate(-90) scale(0.1 -0.1)\">\n      <defs>\n       <path id=\"DejaVuSans-66\" d=\"M 2375 4863 \nL 2375 4384 \nL 1825 4384 \nQ 1516 4384 1395 4259 \nQ 1275 4134 1275 3809 \nL 1275 3500 \nL 2222 3500 \nL 2222 3053 \nL 1275 3053 \nL 1275 0 \nL 697 0 \nL 697 3053 \nL 147 3053 \nL 147 3500 \nL 697 3500 \nL 697 3744 \nQ 697 4328 969 4595 \nQ 1241 4863 1831 4863 \nL 2375 4863 \nz\n\" transform=\"scale(0.015625)\"/>\n       <path id=\"DejaVuSans-28\" d=\"M 1984 4856 \nQ 1566 4138 1362 3434 \nQ 1159 2731 1159 2009 \nQ 1159 1288 1364 580 \nQ 1569 -128 1984 -844 \nL 1484 -844 \nQ 1016 -109 783 600 \nQ 550 1309 550 2009 \nQ 550 2706 781 3412 \nQ 1013 4119 1484 4856 \nL 1984 4856 \nz\n\" transform=\"scale(0.015625)\"/>\n       <path id=\"DejaVuSans-29\" d=\"M 513 4856 \nL 1013 4856 \nQ 1481 4119 1714 3412 \nQ 1947 2706 1947 2009 \nQ 1947 1309 1714 600 \nQ 1481 -109 1013 -844 \nL 513 -844 \nQ 928 -128 1133 580 \nQ 1338 1288 1338 2009 \nQ 1338 2731 1133 3434 \nQ 928 4138 513 4856 \nz\n\" transform=\"scale(0.015625)\"/>\n      </defs>\n      <use xlink:href=\"#DejaVuSans-66\"/>\n      <use xlink:href=\"#DejaVuSans-28\" x=\"35.205078\"/>\n      <use xlink:href=\"#DejaVuSans-78\" x=\"74.21875\"/>\n      <use xlink:href=\"#DejaVuSans-29\" x=\"133.398438\"/>\n     </g>\n    </g>\n   </g>\n   <g id=\"line2d_15\">\n    <path d=\"M 49.480398 116.769998 \nL 55.602655 119.573365 \nL 61.724912 121.922132 \nL 67.847169 123.816299 \nL 73.969426 125.255865 \nL 80.091682 126.240832 \nL 86.21394 126.771199 \nL 92.336195 126.846966 \nL 98.458453 126.468132 \nL 104.580712 125.634698 \nL 110.702966 124.346665 \nL 116.825225 122.604032 \nL 122.947483 120.406799 \nL 129.069741 117.754962 \nL 135.191992 114.648533 \nL 141.314251 111.087498 \nL 147.436509 107.071862 \nL 153.558767 102.601631 \nL 159.681025 97.676789 \nL 165.803276 92.297362 \nL 171.925535 86.463329 \nL 178.0478 80.174681 \nL 184.170051 73.431459 \nL 190.292302 66.233626 \nL 196.414568 58.581191 \nL 202.536819 50.474159 \nL 208.659085 41.91251 \nL 214.781336 32.896286 \nL 220.903587 23.425466 \nL 227.025852 13.5 \n\" clip-path=\"url(#p60801b3b64)\" style=\"fill: none; stroke: #1f77b4; stroke-width: 1.5; stroke-linecap: square\"/>\n   </g>\n   <g id=\"line2d_16\">\n    <path d=\"M 49.480398 139.5 \nL 55.602655 137.984666 \nL 61.724912 136.469332 \nL 67.847169 134.954 \nL 73.969426 133.438667 \nL 80.091682 131.923333 \nL 86.21394 130.407999 \nL 92.336195 128.892666 \nL 98.458453 127.377332 \nL 104.580712 125.861998 \nL 110.702966 124.346665 \nL 116.825225 122.831332 \nL 122.947483 121.315998 \nL 129.069741 119.800664 \nL 135.191992 118.285332 \nL 141.314251 116.769998 \nL 147.436509 115.254664 \nL 153.558767 113.73933 \nL 159.681025 112.223997 \nL 165.803276 110.708665 \nL 171.925535 109.193331 \nL 178.0478 107.677995 \nL 184.170051 106.162663 \nL 190.292302 104.647331 \nL 196.414568 103.131995 \nL 202.536819 101.616663 \nL 208.659085 100.101328 \nL 214.781336 98.585996 \nL 220.903587 97.070664 \nL 227.025852 95.555328 \n\" clip-path=\"url(#p60801b3b64)\" style=\"fill: none; stroke-dasharray: 5.55,2.4; stroke-dashoffset: 0; stroke: #bf00bf; stroke-width: 1.5\"/>\n   </g>\n   <g id=\"patch_3\">\n    <path d=\"M 40.603125 145.8 \nL 40.603125 7.2 \n\" style=\"fill: none; stroke: #000000; stroke-width: 0.8; stroke-linejoin: miter; stroke-linecap: square\"/>\n   </g>\n   <g id=\"patch_4\">\n    <path d=\"M 235.903125 145.8 \nL 235.903125 7.2 \n\" style=\"fill: none; stroke: #000000; stroke-width: 0.8; stroke-linejoin: miter; stroke-linecap: square\"/>\n   </g>\n   <g id=\"patch_5\">\n    <path d=\"M 40.603125 145.8 \nL 235.903125 145.8 \n\" style=\"fill: none; stroke: #000000; stroke-width: 0.8; stroke-linejoin: miter; stroke-linecap: square\"/>\n   </g>\n   <g id=\"patch_6\">\n    <path d=\"M 40.603125 7.2 \nL 235.903125 7.2 \n\" style=\"fill: none; stroke: #000000; stroke-width: 0.8; stroke-linejoin: miter; stroke-linecap: square\"/>\n   </g>\n   <g id=\"legend_1\">\n    <g id=\"patch_7\">\n     <path d=\"M 47.603125 44.55625 \nL 172.153125 44.55625 \nQ 174.153125 44.55625 174.153125 42.55625 \nL 174.153125 14.2 \nQ 174.153125 12.2 172.153125 12.2 \nL 47.603125 12.2 \nQ 45.603125 12.2 45.603125 14.2 \nL 45.603125 42.55625 \nQ 45.603125 44.55625 47.603125 44.55625 \nz\n\" style=\"fill: #ffffff; opacity: 0.8; stroke: #cccccc; stroke-linejoin: miter\"/>\n    </g>\n    <g id=\"line2d_17\">\n     <path d=\"M 49.603125 20.298438 \nL 59.603125 20.298438 \nL 69.603125 20.298438 \n\" style=\"fill: none; stroke: #1f77b4; stroke-width: 1.5; stroke-linecap: square\"/>\n    </g>\n    <g id=\"text_10\">\n     <!-- f(x) -->\n     <g transform=\"translate(77.603125 23.798438) scale(0.1 -0.1)\">\n      <use xlink:href=\"#DejaVuSans-66\"/>\n      <use xlink:href=\"#DejaVuSans-28\" x=\"35.205078\"/>\n      <use xlink:href=\"#DejaVuSans-78\" x=\"74.21875\"/>\n      <use xlink:href=\"#DejaVuSans-29\" x=\"133.398438\"/>\n     </g>\n    </g>\n    <g id=\"line2d_18\">\n     <path d=\"M 49.603125 34.976562 \nL 59.603125 34.976562 \nL 69.603125 34.976562 \n\" style=\"fill: none; stroke-dasharray: 5.55,2.4; stroke-dashoffset: 0; stroke: #bf00bf; stroke-width: 1.5\"/>\n    </g>\n    <g id=\"text_11\">\n     <!-- Tangent line (x=1) -->\n     <g transform=\"translate(77.603125 38.476562) scale(0.1 -0.1)\">\n      <defs>\n       <path id=\"DejaVuSans-54\" d=\"M -19 4666 \nL 3928 4666 \nL 3928 4134 \nL 2272 4134 \nL 2272 0 \nL 1638 0 \nL 1638 4134 \nL -19 4134 \nL -19 4666 \nz\n\" transform=\"scale(0.015625)\"/>\n       <path id=\"DejaVuSans-61\" d=\"M 2194 1759 \nQ 1497 1759 1228 1600 \nQ 959 1441 959 1056 \nQ 959 750 1161 570 \nQ 1363 391 1709 391 \nQ 2188 391 2477 730 \nQ 2766 1069 2766 1631 \nL 2766 1759 \nL 2194 1759 \nz\nM 3341 1997 \nL 3341 0 \nL 2766 0 \nL 2766 531 \nQ 2569 213 2275 61 \nQ 1981 -91 1556 -91 \nQ 1019 -91 701 211 \nQ 384 513 384 1019 \nQ 384 1609 779 1909 \nQ 1175 2209 1959 2209 \nL 2766 2209 \nL 2766 2266 \nQ 2766 2663 2505 2880 \nQ 2244 3097 1772 3097 \nQ 1472 3097 1187 3025 \nQ 903 2953 641 2809 \nL 641 3341 \nQ 956 3463 1253 3523 \nQ 1550 3584 1831 3584 \nQ 2591 3584 2966 3190 \nQ 3341 2797 3341 1997 \nz\n\" transform=\"scale(0.015625)\"/>\n       <path id=\"DejaVuSans-6e\" d=\"M 3513 2113 \nL 3513 0 \nL 2938 0 \nL 2938 2094 \nQ 2938 2591 2744 2837 \nQ 2550 3084 2163 3084 \nQ 1697 3084 1428 2787 \nQ 1159 2491 1159 1978 \nL 1159 0 \nL 581 0 \nL 581 3500 \nL 1159 3500 \nL 1159 2956 \nQ 1366 3272 1645 3428 \nQ 1925 3584 2291 3584 \nQ 2894 3584 3203 3211 \nQ 3513 2838 3513 2113 \nz\n\" transform=\"scale(0.015625)\"/>\n       <path id=\"DejaVuSans-67\" d=\"M 2906 1791 \nQ 2906 2416 2648 2759 \nQ 2391 3103 1925 3103 \nQ 1463 3103 1205 2759 \nQ 947 2416 947 1791 \nQ 947 1169 1205 825 \nQ 1463 481 1925 481 \nQ 2391 481 2648 825 \nQ 2906 1169 2906 1791 \nz\nM 3481 434 \nQ 3481 -459 3084 -895 \nQ 2688 -1331 1869 -1331 \nQ 1566 -1331 1297 -1286 \nQ 1028 -1241 775 -1147 \nL 775 -588 \nQ 1028 -725 1275 -790 \nQ 1522 -856 1778 -856 \nQ 2344 -856 2625 -561 \nQ 2906 -266 2906 331 \nL 2906 616 \nQ 2728 306 2450 153 \nQ 2172 0 1784 0 \nQ 1141 0 747 490 \nQ 353 981 353 1791 \nQ 353 2603 747 3093 \nQ 1141 3584 1784 3584 \nQ 2172 3584 2450 3431 \nQ 2728 3278 2906 2969 \nL 2906 3500 \nL 3481 3500 \nL 3481 434 \nz\n\" transform=\"scale(0.015625)\"/>\n       <path id=\"DejaVuSans-65\" d=\"M 3597 1894 \nL 3597 1613 \nL 953 1613 \nQ 991 1019 1311 708 \nQ 1631 397 2203 397 \nQ 2534 397 2845 478 \nQ 3156 559 3463 722 \nL 3463 178 \nQ 3153 47 2828 -22 \nQ 2503 -91 2169 -91 \nQ 1331 -91 842 396 \nQ 353 884 353 1716 \nQ 353 2575 817 3079 \nQ 1281 3584 2069 3584 \nQ 2775 3584 3186 3129 \nQ 3597 2675 3597 1894 \nz\nM 3022 2063 \nQ 3016 2534 2758 2815 \nQ 2500 3097 2075 3097 \nQ 1594 3097 1305 2825 \nQ 1016 2553 972 2059 \nL 3022 2063 \nz\n\" transform=\"scale(0.015625)\"/>\n       <path id=\"DejaVuSans-74\" d=\"M 1172 4494 \nL 1172 3500 \nL 2356 3500 \nL 2356 3053 \nL 1172 3053 \nL 1172 1153 \nQ 1172 725 1289 603 \nQ 1406 481 1766 481 \nL 2356 481 \nL 2356 0 \nL 1766 0 \nQ 1100 0 847 248 \nQ 594 497 594 1153 \nL 594 3053 \nL 172 3053 \nL 172 3500 \nL 594 3500 \nL 594 4494 \nL 1172 4494 \nz\n\" transform=\"scale(0.015625)\"/>\n       <path id=\"DejaVuSans-20\" transform=\"scale(0.015625)\"/>\n       <path id=\"DejaVuSans-6c\" d=\"M 603 4863 \nL 1178 4863 \nL 1178 0 \nL 603 0 \nL 603 4863 \nz\n\" transform=\"scale(0.015625)\"/>\n       <path id=\"DejaVuSans-69\" d=\"M 603 3500 \nL 1178 3500 \nL 1178 0 \nL 603 0 \nL 603 3500 \nz\nM 603 4863 \nL 1178 4863 \nL 1178 4134 \nL 603 4134 \nL 603 4863 \nz\n\" transform=\"scale(0.015625)\"/>\n       <path id=\"DejaVuSans-3d\" d=\"M 678 2906 \nL 4684 2906 \nL 4684 2381 \nL 678 2381 \nL 678 2906 \nz\nM 678 1631 \nL 4684 1631 \nL 4684 1100 \nL 678 1100 \nL 678 1631 \nz\n\" transform=\"scale(0.015625)\"/>\n      </defs>\n      <use xlink:href=\"#DejaVuSans-54\"/>\n      <use xlink:href=\"#DejaVuSans-61\" x=\"44.583984\"/>\n      <use xlink:href=\"#DejaVuSans-6e\" x=\"105.863281\"/>\n      <use xlink:href=\"#DejaVuSans-67\" x=\"169.242188\"/>\n      <use xlink:href=\"#DejaVuSans-65\" x=\"232.71875\"/>\n      <use xlink:href=\"#DejaVuSans-6e\" x=\"294.242188\"/>\n      <use xlink:href=\"#DejaVuSans-74\" x=\"357.621094\"/>\n      <use xlink:href=\"#DejaVuSans-20\" x=\"396.830078\"/>\n      <use xlink:href=\"#DejaVuSans-6c\" x=\"428.617188\"/>\n      <use xlink:href=\"#DejaVuSans-69\" x=\"456.400391\"/>\n      <use xlink:href=\"#DejaVuSans-6e\" x=\"484.183594\"/>\n      <use xlink:href=\"#DejaVuSans-65\" x=\"547.5625\"/>\n      <use xlink:href=\"#DejaVuSans-20\" x=\"609.085938\"/>\n      <use xlink:href=\"#DejaVuSans-28\" x=\"640.873047\"/>\n      <use xlink:href=\"#DejaVuSans-78\" x=\"679.886719\"/>\n      <use xlink:href=\"#DejaVuSans-3d\" x=\"739.066406\"/>\n      <use xlink:href=\"#DejaVuSans-31\" x=\"822.855469\"/>\n      <use xlink:href=\"#DejaVuSans-29\" x=\"886.478516\"/>\n     </g>\n    </g>\n   </g>\n  </g>\n </g>\n <defs>\n  <clipPath id=\"p60801b3b64\">\n   <rect x=\"40.603125\" y=\"7.2\" width=\"195.3\" height=\"138.6\"/>\n  </clipPath>\n </defs>\n</svg>\n"
     },
     "metadata": {},
     "output_type": "display_data"
    }
   ],
   "source": [
    "from tools_func import *\n",
    "\n",
    "x = np.arange(0, 3, 0.1)\n",
    "plot(x, [f(x), 2 * x - 3], 'x', 'f(x)', legend=['f(x)', 'Tangent line (x=1)'])"
   ],
   "metadata": {
    "collapsed": false,
    "ExecuteTime": {
     "end_time": "2024-06-21T01:31:51.775541Z",
     "start_time": "2024-06-21T01:31:51.626204Z"
    }
   },
   "id": "e0abbc96e1ff5219"
  },
  {
   "cell_type": "markdown",
   "source": [
    "## 2.4.2. Partial Derivatives 偏导数\n",
    "到目前为止，我们只讨论了仅含一个变量的函数的微分。 在深度学习中，函数通常依赖于许多变量。 \n",
    "因此，我们需要将微分的思想推广到多元函数（multivariate function）上。 这就涉及到偏导数（partial derivative）的概念。\n",
    "设$y = f(x_1, x_2, \\ldots, x_n)$是一个具有个变量的函数。$y$关于第$i$个参数$x_i$的偏导数是：\n",
    "$$\\frac{\\partial y}{\\partial x_i} = \\lim_{h \\rightarrow 0} \\frac{f(x_1, \\ldots, x_i + h, \\ldots, x_n) - f(x_1, \\ldots, x_i, \\ldots, x_n)}{h}$$\n",
    "为了计算$\\frac{\\partial y}{\\partial x_i}$，我们可以简单地将$x_1, \\ldots, x_{i-1}, x_{i+1}, \\ldots, x_n$看作常数， 并计算$y$关于$x$的导数。对于偏导数的表示，以下是等价的：\n",
    "$$\\frac{\\partial y}{\\partial x_i} = \\frac{\\partial f}{\\partial x_i} = \\partial_{x_i} f = \\partial_i f = f_{x_i} = f_i = D_i f = D_{x_i} f$$"
   ],
   "metadata": {
    "collapsed": false
   },
   "id": "4f46e1ae26760dc9"
  },
  {
   "cell_type": "markdown",
   "source": [
    "偏导数的例子\n",
    "假设我们有一个函数 $ f(x, y) = x^2 + xy + y^2 $。我们来计算这个函数对 $ x $ 和 $ y $ 的偏导数。\n",
    "1. 关于 $x$ 的偏导数, 即 $x$ 增加一个微小的值，对整体函数 $f$ 的变化率是多少：\n",
    "$$\n",
    "\\frac{\\partial f}{\\partial x} = \\lim_{h \\rightarrow 0} \\frac{f(x + h, y) - f(x, y)}{h} \n",
    "$$\n",
    "\n",
    "  - 计算步骤如下：\n",
    "$$\n",
    "f(x + h, y) = (x + h)^2 + (x + h)y + y^2 = x^2 + 2xh + h^2 + xy + hy + y^2 \n",
    "$$\n",
    "$$\n",
    "f(x, y) = x^2 + xy + y^2 \n",
    "$$\n",
    "\n",
    "  - 因此：\n",
    "$$\n",
    "\\frac{\\partial f}{\\partial x} = \\lim_{h \\rightarrow 0} \\frac{x^2 + 2xh + h^2 + xy + hy + y^2 - (x^2 + xy + y^2)}{h} \n",
    "$$\n",
    "$$\n",
    "= \\lim_{h \\rightarrow 0} \\frac{2xh + h^2 + hy}{h} \n",
    "$$\n",
    "$$\n",
    "= \\lim_{h \\rightarrow 0} (2x + h + y) \n",
    "$$\n",
    "\n",
    "  - 当 $h$ 趋近于 0 时，我们得到：\n",
    "$$\n",
    "\\frac{\\partial f}{\\partial x} = 2x + y \n",
    "$$\n",
    "\n",
    "2. 关于 $y$ 的偏导数, 即 $y$ 增加一个微小的值，对整体函数 $f$ 的变化率是多少：\n",
    "$$\n",
    "\\frac{\\partial f}{\\partial y} = \\lim_{h \\rightarrow 0} \\frac{f(x, y + h) - f(x, y)}{h} \n",
    "$$\n",
    "\n",
    "  - 计算步骤如下：\n",
    "$$\n",
    "f(x, y + h) = x^2 + x(y + h) + (y + h)^2 = x^2 + xy + xh + y^2 + 2yh + h^2 \n",
    "$$\n",
    "$$\n",
    "f(x, y) = x^2 + xy + y^2 \n",
    "$$\n",
    "\n",
    "  - 因此：\n",
    "$$\n",
    "\\frac{\\partial f}{\\partial y} = \\lim_{h \\rightarrow 0} \\frac{x^2 + xy + xh + y^2 + 2yh + h^2 - (x^2 + xy + y^2)}{h} \n",
    "$$\n",
    "$$\n",
    "= \\lim_{h \\rightarrow 0} \\frac{xh + 2yh + h^2}{h} \n",
    "$$\n",
    "$$ \n",
    "= \\lim_{h \\rightarrow 0} (x + 2y + h) \n",
    "$$\n",
    "\n",
    "  - 当 $h$ 趋近于 0 时，我们得到：\n",
    "$$\n",
    "\\frac{\\partial f}{\\partial y} = x + 2y \n",
    "$$\n"
   ],
   "metadata": {
    "collapsed": false
   },
   "id": "72692a9dc6be9e13"
  },
  {
   "cell_type": "markdown",
   "source": [
    "## 2.4.3. Gradients 梯度\n",
    "在多变量函数中，偏导数描述了函数对其中一个变量的变化率，而其他变量保持不变。梯度（gradient）则是一个向量，由所有偏导数组成，描述了函数在某一点的变化趋势和方向。梯度向量的每个分量就是函数对相应变量的偏导数。我们可以连结一个多元函数对其所有变量的偏导数，以得到该函数的梯度（gradient）向量。 \n",
    "具体而言，设函数$f: R^n \\rightarrow R$是一个多变量函数, 其输入是一个$n$维向量$\\mathbf{x} = [x_1, x_2, \\ldots, x_n]^\\top$，并且输出是一个标量。\n",
    "函数$f(\\mathbf{x})$关于$\\mathbf{x}$的梯度是一个包含$n$个偏导数的向量：\n",
    "$$\\nabla_{\\mathbf{x}} f(\\mathbf{x}) = \\left[\\partial_{x_1} f(\\mathbf{x}), \\partial_{x_2} f(\\mathbf{x}), \\ldots\n",
    "   \\partial_{x_n} f(\\mathbf{x})\\right]^\\top$$\n",
    "或写作:$$\\ \\nabla_{\\mathbf{x}} f(\\mathbf{x}) = \\bigg[\\frac{\\partial f(\\mathbf{x})}{\\partial x_1}, \\frac{\\partial f(\\mathbf{x})}{\\partial x_2}, \\ldots, \\frac{\\partial f(\\mathbf{x})}{\\partial x_n}\\bigg]^\\top$$\n",
    "其中$\\nabla_{\\mathbf{x}} f(\\mathbf{x})$通常在没有歧义时被$\\nabla f(\\mathbf{x})$取代。\n"
   ],
   "metadata": {
    "collapsed": false
   },
   "id": "7295a616819a26a2"
  },
  {
   "cell_type": "markdown",
   "source": [
    "例子：二元函数的梯度\n",
    "\n",
    "假设我们有一个二元函数 $ f(x, y) = x^2 + xy + y^2 $。我们来计算这个函数的梯度。\n",
    "\n",
    "1. 计算偏导数：\n",
    "  - 对 $x$ 的偏导数：\n",
    "$$\n",
    "\\frac{\\partial f}{\\partial x} = \\frac{\\partial}{\\partial x} (x^2 + xy + y^2) = 2x + y\n",
    "$$\n",
    "\n",
    "  - 对 $y$ 的偏导数：\n",
    "$$\n",
    "\\frac{\\partial f}{\\partial y} = \\frac{\\partial}{\\partial y} (x^2 + xy + y^2) = x + 2y\n",
    "$$\n",
    "\n",
    "2. 构造梯度向量：\n",
    "$$\n",
    "\\nabla f(x, y) = \\left[\\frac{\\partial f}{\\partial x}, \\frac{\\partial f}{\\partial y}\\right]^\\top = \\left[2x + y, x + 2y\\right]^\\top\n",
    "$$\n",
    "\n",
    "  - 所以，函数 $f(x, y) = x^2 + xy + y^2$ 的梯度向量是：\n",
    "$$\n",
    "\\nabla f(x, y) = \\begin{pmatrix}\n",
    "2x + y \\\\\n",
    "x + 2y\n",
    "\\end{pmatrix}\n",
    "$$\n",
    "\n",
    "梯度的意义\n",
    "\n",
    "梯度向量 $\\nabla f(x, y)$ 在几何上表示函数 $f$ 在点 $(x, y)$ 处的最陡上升方向。梯度向量的方向是函数值增加最快的方向，其长度表示函数值增加的速率。"
   ],
   "metadata": {
    "collapsed": false
   },
   "id": "34ceb6629a8eeff8"
  },
  {
   "cell_type": "markdown",
   "source": [
    "假设$\\mathbf{x}$是一个$n$维向量, 在微分多元函数时经常使用以下规则:\n",
    "1. 对于任何常数矩阵$A \\in R^{n \\times n}$，有$\\nabla_{\\mathbf{x}} \\mathbf{A} \\mathbf{x} = \\mathbf{A}^\\top$\n",
    "  - 这是一个线性变换的梯度。对向量 $\\mathbf{x}$ 进行线性变换得到的新向量 $\\mathbf{A} \\mathbf{x}$，其梯度是 $\\mathbf{A}$ 的转置。\n",
    "  - 举例, 设 $\\mathbf{x} \\in \\mathbb{R}^3$ 和矩阵 $\\mathbf{A} = \\begin{pmatrix}1 & 2 & 3 \\\\ 4 & 5 & 6 \\\\ 7 & 8 & 9\\end{pmatrix}$，则：$\\nabla_{\\mathbf{x}} (\\mathbf{A} \\mathbf{x}) = \\begin{pmatrix}1 & 4 & 7 \\\\ 2 & 5 & 8 \\\\ 3 & 6 & 9\\end{pmatrix}$\n",
    "2. 对于任何常数矩阵$A \\in R^{n \\times n}$，有$\\nabla_{\\mathbf{x}} \\mathbf{x}^\\top \\mathbf{A} =\\mathbf{A}$\n",
    "  - 这里的 $\\mathbf{x}^\\top \\mathbf{A}$ 是一个行向量。对行向量的梯度是矩阵 $\\mathbf{A}$ 本身。\n",
    "  - 举例, 设 $\\mathbf{x} \\in \\mathbb{R}^3$ 和矩阵 $\\mathbf{A} = \\begin{pmatrix}1 & 2 & 3 \\\\ 4 & 5 & 6 \\\\ 7 & 8 & 9\\end{pmatrix}$，则： $\\nabla_{\\mathbf{x}} (\\mathbf{x}^\\top \\mathbf{A}) = \\begin{pmatrix}1 & 2 & 3 \\\\ 4 & 5 & 6 \\\\ 7 & 8 & 9\\end{pmatrix}$\n",
    "3. 对于任何常数矩阵$A \\in R^{n \\times n}$，有$\\nabla_{\\mathbf{x}} \\mathbf{x}^\\top \\mathbf{A} \\mathbf{x} = (\\mathbf{A} + \\mathbf{A}^\\top) \\mathbf{x}$\n",
    "  - 这是一个二次型的梯度，二次型表示为 $\\mathbf{x}^\\top \\mathbf{A} \\mathbf{x}$。其梯度是 $\\mathbf{A}$ 与 $\\mathbf{A}^\\top$ 之和，再乘以向量 $\\mathbf{x}$。\n",
    "  - 举例, 设 $\\mathbf{x} \\in \\mathbb{R}^2$ 和矩阵 $\\mathbf{A} = \\begin{pmatrix}1 & 2 \\\\ 3 & 4\\end{pmatrix}$，则：$\\mathbf{A} + \\mathbf{A}^\\top = \\begin{pmatrix}1 & 3 \\\\ 2 & 4\\end{pmatrix} + \\begin{pmatrix}1 & 2 \\\\ 3 & 4\\end{pmatrix} = \\begin{pmatrix}2 & 5 \\\\ 5 & 8\\end{pmatrix}$ 所以，梯度是：$\n",
    "\\nabla_{\\mathbf{x}} (\\mathbf{x}^\\top \\mathbf{A} \\mathbf{x}) = \\begin{pmatrix}2 & 5 \\\\ 5 & 8\\end{pmatrix} \\mathbf{x}$\n",
    "4. $\\nabla_{\\mathbf{x}} \\|\\mathbf{x} \\|^2 = \\nabla_{\\mathbf{x}} \\mathbf{x}^\\top \\mathbf{x} = 2\\mathbf{x}$ \n",
    "  - 这里的 $\\|\\mathbf{x}\\|^2$ 是向量 $\\mathbf{x}$ 的二范数的平方，也可以表示为 $\\mathbf{x}^\\top \\mathbf{x}$。其梯度是 $2\\mathbf{x}$。\n",
    "  - 举例, 设 $\\mathbf{x} = \\begin{pmatrix}x_1 \\\\ x_2 \\\\ x_3\\end{pmatrix}$，则：$\\|\\mathbf{x}\\|^2 = x_1^2 + x_2^2 + x_3^2$ 对 $\\mathbf{x}$ 求偏导数：$\\nabla_{\\mathbf{x}} \\|\\mathbf{x}\\|^2 = \\begin{pmatrix}\\frac{\\partial (x_1^2 + x_2^2 + x_3^2)}{\\partial x_1} \\\\ \\frac{\\partial (x_1^2 + x_2^2 + x_3^2)}{\\partial x_2} \\\\ \\frac{\\partial (x_1^2 + x_2^2 + x_3^2)}{\\partial x_3}\\end{pmatrix} = \\begin{pmatrix}2x_1 \\\\ 2x_2 \\\\ 2x_3\\end{pmatrix} = 2\\mathbf{x}$\n"
   ],
   "metadata": {
    "collapsed": false
   },
   "id": "fc49f5a6c319a3ed"
  },
  {
   "cell_type": "markdown",
   "source": [
    "## 2.4.4. Chain Rule 链式法则\n",
    "然而，上面方法可能很难找到梯度。 这是因为在深度学习中，多元函数通常是复合（composite）的， 所以难以应用上述任何规则来微分这些函数。 幸运的是，链式法则可以被用来微分复合函数。\n",
    "让我们先考虑单变量函数。假设函数$y=f(u)$和$u=g(x)$都是可微的，根据链式法则: \n",
    "$$\\frac{dy}{dx} = \\frac{dy}{du} \\frac{du}{dx}$$\n",
    "现在考虑一个更一般的场景，即函数具有任意数量的变量的情况。 假设可微分函数$y$有变量$u_1, u_2, \\ldots, u_m$，其中每个可微分函数$u_i$有变量$x_1, x_2, \\ldots, x_n$。 注意，$y$是$x_1, x_2, \\ldots, x_n$的函数。 \n",
    "对于任意$1 \\leq i \\leq m$和$1 \\leq j \\leq n$，链式法则给出：\n",
    "$$\\frac{\\partial y}{\\partial x_{i}} = \\frac{\\partial y}{\\partial u_{1}} \\frac{\\partial u_{1}}{\\partial x_{i}} + \\frac{\\partial y}{\\partial u_{2}} \\frac{\\partial u_{2}}{\\partial x_{i}} + \\ldots + \\frac{\\partial y}{\\partial u_{m}} \\frac{\\partial u_{m}}{\\partial x_{i}} \\ \\textrm{ and so } \\ \\nabla_{\\mathbf{x}} y =  \\mathbf{A} \\nabla_{\\mathbf{u}} y$$"
   ],
   "metadata": {
    "collapsed": false
   },
   "id": "493687ccd9a1fe7d"
  },
  {
   "cell_type": "markdown",
   "source": [
    "**偏导数的计算为何难以找到梯度**\n",
    "- 在深度学习中，计算梯度（即偏导数）变得复杂，因为模型通常涉及许多层和非线性变换。这些复合函数的复杂性使得直接应用简单的微分规则变得困难。\n",
    "- 举例说明\n",
    "    - 设我们有一个简单的神经网络，其输出 $y$ 取决于输入 $x$ 和权重 $w$：$y = f(g(h(x, w), w), w)$\n",
    "    - 这里 $h$、$g$ 和 $f$ 都是非线性函数，而每一层的输出又作为下一层的输入。因此，直接微分 $y$ 对 $x$ 和 $w$ 是非常复杂的，因为每一层的输出都依赖于前一层的输出和参数。\n",
    "\n",
    "**链式法则的解释**\n",
    "- 链式法则（Chain Rule）提供了一种系统的方法来微分复合函数。它允许我们通过逐步计算每一层的导数，将复杂的微分问题分解为多个简单的微分问题。\n",
    "- 单变量情况下的链式法则\n",
    "    - 假设我们有两个可微函数 $y = f(u)$ 和 $u = g(x)$，根据链式法则：$\\frac{dy}{dx} = \\frac{dy}{du} \\cdot \\frac{du}{dx}$\n",
    "- 多变量情况下的链式法则\n",
    "    - 设函数 $y$ 依赖于多个中间变量 $u_1, u_2, \\ldots, u_m$，而这些中间变量又依赖于 $x_1, x_2, \\ldots, x_n$。根据链式法则，对于任意 $i$ 和 $j$：$\\frac{\\partial y}{\\partial x_i} = \\sum_{k=1}^{m} \\frac{\\partial y}{\\partial u_k} \\cdot \\frac{\\partial u_k}{\\partial x_i}$\n",
    "    - 这意味着总导数是每个路径导数的乘积的和。\n",
    "- 链式法则允许我们通过计算每一层的偏导数并将它们组合起来，逐层求解复杂的复合函数的梯度。\n",
    "    - 假设我们有一个简单的两层神经网络：第一层： $u = h(x, w_1)$; 第二层： $y = g(u, w_2)$\n",
    "    - 我们想要计算 $y$ 关于 $x$ 的梯度。根据链式法则：$\\frac{\\partial y}{\\partial x} = \\frac{\\partial y}{\\partial u} \\cdot \\frac{\\partial u}{\\partial x}$\n",
    "    - 首先计算每一层的偏导数：\n",
    "        - 对第二层的输出 $y$：$\\frac{\\partial y}{\\partial u} = g'(u, w_2)$\n",
    "        - 对第一层的输出 $u$：$\\frac{\\partial u}{\\partial x} = h'(x, w_1)$\n",
    "    - 然后将这些偏导数组合起来：\n",
    "        - $ \\frac{\\partial y}{\\partial x} = g'(u, w_2) \\cdot h'(x, w_1)$\n",
    "        - 这里，$g'(u, w_2)$ 表示对第二层的输出 $y$ 的偏导数，$h'(x, w_1)$ 表示对第一层的输出 $u$ 的偏导数。"
   ],
   "metadata": {
    "collapsed": false
   },
   "id": "e6d0c4dd3f2cffac"
  },
  {
   "cell_type": "markdown",
   "source": [
    "2.4.5. Discussion 小节\n",
    "微分和积分是微积分的两个分支，前者可以应用于深度学习中的优化问题。\n",
    "导数可以被解释为函数相对于其变量的瞬时变化率，它也是函数曲线的切线的斜率。\n",
    "梯度是一个向量，其分量是多变量函数相对于其所有变量的偏导数。\n",
    "链式法则可以用来微分复合函数。"
   ],
   "metadata": {
    "collapsed": false
   },
   "id": "17c3299bb814f4f4"
  },
  {
   "cell_type": "markdown",
   "source": [
    "2.4.6. Exercises\n",
    "\n",
    "1.  So far we took the rules for derivatives for granted. Using the definition and limits prove the properties for \n",
    "    1. $f(x) = c$\n",
    "    2. $f(x) = x^n$\n",
    "    3. $f(x) = e^x$ \n",
    "    4. $f(x) = \\log x$\n",
    "2.  In the same vein, prove the product, sum, and quotient rule from first principles.\n",
    "3.  Prove that the constant multiple rule follows as a special case of the product rule.\n",
    "4.  Calculate the derivative of $f(x) = x^x$.\n",
    "5.  What does it mean that $f'(x) = 0$ for some $x$? Give an example of a function $f$ and a location $x$ for which this might hold.\n",
    "6.  Plot the function $y = f(x) = x^3 - \\frac{1}{x}$ and plot its tangent line at $x = 1$.\n",
    "7.  Find the gradient of the function $f(\\mathbf{x}) = 3x_1^2 + 5e^{x_2}$.\n",
    "8.  What is the gradient of the function $f(\\mathbf{x}) = \\|\\mathbf{x}\\|_2$? What happens for $\\mathbf{x} = \\mathbf{0}$?\n",
    "9.  Can you write out the chain rule for the case where $u = f(x, y, z)$ and $x = x(a, b)$, $y = y(a, b)$, and $z = z(a, b)$?\n",
    "10. Given a function $f(x)$ that is invertible, compute the derivative of its inverse $f^{-1}(x)$. Here we have that $f^{-1}(f(x)) = x$ and conversely $f(f^{-1}(y)) = y$.\n",
    "    Hint: use these properties in your derivation."
   ],
   "metadata": {
    "collapsed": false
   },
   "id": "26f71ed5a088616b"
  },
  {
   "cell_type": "code",
   "execution_count": 4,
   "outputs": [],
   "source": [],
   "metadata": {
    "collapsed": false,
    "ExecuteTime": {
     "end_time": "2024-06-21T01:31:51.775678Z",
     "start_time": "2024-06-21T01:31:51.752097Z"
    }
   },
   "id": "5457c1dbad7250f7"
  }
 ],
 "metadata": {
  "kernelspec": {
   "display_name": "Python 3",
   "language": "python",
   "name": "python3"
  },
  "language_info": {
   "codemirror_mode": {
    "name": "ipython",
    "version": 2
   },
   "file_extension": ".py",
   "mimetype": "text/x-python",
   "name": "python",
   "nbconvert_exporter": "python",
   "pygments_lexer": "ipython2",
   "version": "2.7.6"
  }
 },
 "nbformat": 4,
 "nbformat_minor": 5
}
