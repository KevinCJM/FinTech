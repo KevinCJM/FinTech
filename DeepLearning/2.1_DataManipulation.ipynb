{
 "cells": [
  {
   "cell_type": "markdown",
   "source": [
    "# 2.1 Data Manipulation\n",
    "\n",
    "Apache MXNet是一个开源深度学习软件框架，用于训练及部署深度神经网络。本节将介绍如何使用 MXNet 提供的 NDArray 类来处理数据。如果你之前用过 NumPy，你会发现 MXNet 的 NDArray 和 NumPy 的多维数组非常类似。然而，NDArray 提供更多的功能，例如在 GPU 上计算。"
   ],
   "metadata": {
    "collapsed": false
   },
   "id": "7ae89023580c475c"
  },
  {
   "cell_type": "code",
   "execution_count": 79,
   "outputs": [],
   "source": [
    "from mxnet import np, npx\n",
    "npx.set_np()    # 启用这个模式后，MXNet 的 ndarray 行为将更加类似于 NumPy 的 ndarray，包括支持大部分 NumPy 的接口和操作。这样可以使开发人员在从 NumPy 迁移到 MXNet 时更加方便，并且可以利用 MXNet 提供的 GPU 加速等高级功能。"
   ],
   "metadata": {
    "collapsed": false,
    "ExecuteTime": {
     "end_time": "2024-06-13T05:52:12.175061Z",
     "start_time": "2024-06-13T05:52:12.094096Z"
    }
   },
   "id": "initial_id"
  },
  {
   "cell_type": "markdown",
   "source": [
    "## 2.1.1 创建 NDArray"
   ],
   "metadata": {
    "collapsed": false
   },
   "id": "5d71a3cf01631e3d"
  },
  {
   "cell_type": "code",
   "execution_count": 80,
   "outputs": [
    {
     "data": {
      "text/plain": "array([ 0.,  1.,  2.,  3.,  4.,  5.,  6.,  7.,  8.,  9., 10., 11.])"
     },
     "execution_count": 80,
     "metadata": {},
     "output_type": "execute_result"
    }
   ],
   "source": [
    "x = np.arange(12)   # 可以使用 arange 创建一个行向量, 默认创建为浮点数\n",
    "x"
   ],
   "metadata": {
    "collapsed": false,
    "ExecuteTime": {
     "end_time": "2024-06-13T05:52:12.204846Z",
     "start_time": "2024-06-13T05:52:12.098034Z"
    }
   },
   "id": "6bed28f6495df5ad"
  },
  {
   "cell_type": "code",
   "execution_count": 81,
   "outputs": [
    {
     "data": {
      "text/plain": "(12,)"
     },
     "execution_count": 81,
     "metadata": {},
     "output_type": "execute_result"
    }
   ],
   "source": [
    "x.shape # shape属性来访问 NDArray 对象的形状"
   ],
   "metadata": {
    "collapsed": false,
    "ExecuteTime": {
     "end_time": "2024-06-13T05:52:12.286929Z",
     "start_time": "2024-06-13T05:52:12.104208Z"
    }
   },
   "id": "346940b688be7300"
  },
  {
   "cell_type": "code",
   "execution_count": 82,
   "outputs": [
    {
     "data": {
      "text/plain": "12"
     },
     "execution_count": 82,
     "metadata": {},
     "output_type": "execute_result"
    }
   ],
   "source": [
    "x.size # size属性来访问 NDArray 对象的大小"
   ],
   "metadata": {
    "collapsed": false,
    "ExecuteTime": {
     "end_time": "2024-06-13T05:52:12.290375Z",
     "start_time": "2024-06-13T05:52:12.110340Z"
    }
   },
   "id": "73a061fa2533662f"
  },
  {
   "cell_type": "code",
   "execution_count": 83,
   "outputs": [
    {
     "data": {
      "text/plain": "array([[ 0.,  1.,  2.,  3.],\n       [ 4.,  5.,  6.,  7.],\n       [ 8.,  9., 10., 11.]])"
     },
     "execution_count": 83,
     "metadata": {},
     "output_type": "execute_result"
    }
   ],
   "source": [
    "X = x.reshape(3, 4) # 通过 reshape 函数把向量 x 的形状改为 (3, 4)\n",
    "X"
   ],
   "metadata": {
    "collapsed": false,
    "ExecuteTime": {
     "end_time": "2024-06-13T05:52:12.290592Z",
     "start_time": "2024-06-13T05:52:12.115224Z"
    }
   },
   "id": "759b7af6ffaee684"
  },
  {
   "cell_type": "code",
   "execution_count": 84,
   "outputs": [
    {
     "data": {
      "text/plain": "array([[[0., 0., 0., 0.],\n        [0., 0., 0., 0.],\n        [0., 0., 0., 0.]],\n\n       [[0., 0., 0., 0.],\n        [0., 0., 0., 0.],\n        [0., 0., 0., 0.]]])"
     },
     "execution_count": 84,
     "metadata": {},
     "output_type": "execute_result"
    }
   ],
   "source": [
    "np.zeros((2, 3, 4)) # 创建一个形状为 (2, 3, 4) 的张量，其中所有元素都是 0"
   ],
   "metadata": {
    "collapsed": false,
    "ExecuteTime": {
     "end_time": "2024-06-13T05:52:12.325456Z",
     "start_time": "2024-06-13T05:52:12.119512Z"
    }
   },
   "id": "28c5905c4606648d"
  },
  {
   "cell_type": "code",
   "execution_count": 85,
   "outputs": [
    {
     "data": {
      "text/plain": "array([[1., 1., 1., 1.],\n       [1., 1., 1., 1.],\n       [1., 1., 1., 1.]])"
     },
     "execution_count": 85,
     "metadata": {},
     "output_type": "execute_result"
    }
   ],
   "source": [
    "np.ones((3, 4)) # 创建一个形状为 (3, 4) 的张量，其中所有元素都是 1"
   ],
   "metadata": {
    "collapsed": false,
    "ExecuteTime": {
     "end_time": "2024-06-13T05:52:12.325648Z",
     "start_time": "2024-06-13T05:52:12.125100Z"
    }
   },
   "id": "64de75f80514e605"
  },
  {
   "cell_type": "code",
   "execution_count": 86,
   "outputs": [
    {
     "data": {
      "text/plain": "array([[-0.59164983, -0.7882176 ,  0.8586049 ,  0.7417728 ],\n       [-0.22794184, -1.4734439 ,  0.20131476, -1.0730928 ],\n       [ 0.35005474, -1.0424827 ,  0.5360521 , -1.3278849 ]])"
     },
     "execution_count": 86,
     "metadata": {},
     "output_type": "execute_result"
    }
   ],
   "source": [
    "np.random.normal(0, 1, size=(3, 4)) # 创建一个形状为 (3, 4) 的张量，其中所有元素都是从均值为 0 标准差为 1 的正态分布中随机采样的"
   ],
   "metadata": {
    "collapsed": false,
    "ExecuteTime": {
     "end_time": "2024-06-13T05:52:12.326766Z",
     "start_time": "2024-06-13T05:52:12.130044Z"
    }
   },
   "id": "5d497b39b167cac9"
  },
  {
   "cell_type": "code",
   "execution_count": 87,
   "outputs": [
    {
     "data": {
      "text/plain": "array([[2., 1., 4., 3.],\n       [1., 2., 3., 4.],\n       [4., 3., 2., 1.]])"
     },
     "execution_count": 87,
     "metadata": {},
     "output_type": "execute_result"
    }
   ],
   "source": [
    "np.array([[2, 1, 4, 3], [1, 2, 3, 4], [4, 3, 2, 1]]) # 通过 Python 的列表（list）指定需要创建的 NDArray 中的元素"
   ],
   "metadata": {
    "collapsed": false,
    "ExecuteTime": {
     "end_time": "2024-06-13T05:52:12.326873Z",
     "start_time": "2024-06-13T05:52:12.134864Z"
    }
   },
   "id": "bd97ee63e71e1b0e"
  },
  {
   "cell_type": "markdown",
   "source": [
    "## 2.1.2. Indexing and Slicing\n",
    "索引和切片: 与任何Python数组一样：第一个元素的索引是0，最后一个元素索引是-1； 可以指定范围以包含第一个元素和最后一个之前的元素"
   ],
   "metadata": {
    "collapsed": false
   },
   "id": "bd32030f13a9c05"
  },
  {
   "cell_type": "code",
   "execution_count": 88,
   "outputs": [
    {
     "data": {
      "text/plain": "(array([[ 0.,  1.,  2.,  3.],\n        [ 4.,  5.,  6.,  7.],\n        [ 8.,  9., 10., 11.]]),\n array([ 8.,  9., 10., 11.]),\n array([[ 4.,  5.,  6.,  7.],\n        [ 8.,  9., 10., 11.]]))"
     },
     "execution_count": 88,
     "metadata": {},
     "output_type": "execute_result"
    }
   ],
   "source": [
    "X, X[-1], X[1:3]    # X[-1] 是最后一个元素，X[1:3] 是第二个和第三个元素"
   ],
   "metadata": {
    "collapsed": false,
    "ExecuteTime": {
     "end_time": "2024-06-13T05:52:12.326992Z",
     "start_time": "2024-06-13T05:52:12.142276Z"
    }
   },
   "id": "c3dc19162f3147bf"
  },
  {
   "cell_type": "code",
   "execution_count": 89,
   "outputs": [
    {
     "data": {
      "text/plain": "array([[ 0.,  1.,  2.,  3.],\n       [ 4.,  5.,  9.,  7.],\n       [ 8.,  9., 10., 11.]])"
     },
     "execution_count": 89,
     "metadata": {},
     "output_type": "execute_result"
    }
   ],
   "source": [
    "# 除读取外，我们还可以通过指定索引来将元素写入矩阵。\n",
    "X[1, 2] = 9 # 将索引为 (1, 2) (第二行,第三个) 的元素替换为 9\n",
    "X"
   ],
   "metadata": {
    "collapsed": false,
    "ExecuteTime": {
     "end_time": "2024-06-13T05:52:12.327088Z",
     "start_time": "2024-06-13T05:52:12.146574Z"
    }
   },
   "id": "7320f03b488aad4b"
  },
  {
   "cell_type": "code",
   "execution_count": 90,
   "outputs": [
    {
     "data": {
      "text/plain": "array([[12., 12., 12., 12.],\n       [12., 12., 12., 12.],\n       [ 8.,  9., 10., 11.]])"
     },
     "execution_count": 90,
     "metadata": {},
     "output_type": "execute_result"
    }
   ],
   "source": [
    "# 如果我们想为多个元素赋值相同的值，我们只需要索引所有元素，然后为它们赋值\n",
    "X[0:2, :] = 12 # 将第一行和第二行的所有元素替换为 12\n",
    "X"
   ],
   "metadata": {
    "collapsed": false,
    "ExecuteTime": {
     "end_time": "2024-06-13T05:52:12.327184Z",
     "start_time": "2024-06-13T05:52:12.152549Z"
    }
   },
   "id": "198f673539b79ac"
  },
  {
   "cell_type": "markdown",
   "source": [
    "## 2.1.3. Operations\n",
    "运算符\n",
    "我们可以在这些数据上执行数学运算，其中最简单且最有用的操作是按元素（elementwise）运算。 \n",
    "它们将标准标量运算符应用于数组的每个元素。 对于将两个数组作为输入的函数，按元素运算将二元运算符应用于两个数组中的每对位置对应的元素。 我们可以基于任何从标量到标量的函数来创建按元素函数。\n",
    "在数学表示法中，我们将通过符号 $f: \\mathbb{R} \\rightarrow \\mathbb{R}$ 表一元标量运算符（只接收一个输入）\n",
    "同样，我们通过符号 $f: \\mathbb{R}, \\mathbb{R} \\rightarrow \\mathbb{R}$ 表示二元标量运算符，这意味着该函数接收两个输入，并产生一个输出。 \n",
    "给定同一形状的任意两个向量 $u$ 和 $v$，我们可以通过符号 $f$ 得到一个向量 $z$，其中 $z_i = f(u_i, v_i)$。\n"
   ],
   "metadata": {
    "collapsed": false
   },
   "id": "ecf5f4d085ba1826"
  },
  {
   "cell_type": "code",
   "execution_count": 91,
   "outputs": [
    {
     "data": {
      "text/plain": "(array([ 3.,  4.,  6., 10.]),\n array([-1.,  0.,  2.,  6.]),\n array([ 2.,  4.,  8., 16.]),\n array([0.5, 1. , 2. , 4. ]),\n array([ 1.,  4., 16., 64.]))"
     },
     "execution_count": 91,
     "metadata": {},
     "output_type": "execute_result"
    }
   ],
   "source": [
    "x = np.array([1, 2, 4, 8])\n",
    "y = np.array([2, 2, 2, 2])\n",
    "x + y, x - y, x * y, x / y, x ** y  # 按元素运算"
   ],
   "metadata": {
    "collapsed": false,
    "ExecuteTime": {
     "end_time": "2024-06-13T05:52:12.327553Z",
     "start_time": "2024-06-13T05:52:12.155557Z"
    }
   },
   "id": "8df18ea308b6a189"
  },
  {
   "cell_type": "code",
   "execution_count": 92,
   "outputs": [
    {
     "data": {
      "text/plain": "array([2.7182817e+00, 7.3890562e+00, 5.4598148e+01, 2.9809580e+03])"
     },
     "execution_count": 92,
     "metadata": {},
     "output_type": "execute_result"
    }
   ],
   "source": [
    "np.exp(x)   # 按元素计算指数函数"
   ],
   "metadata": {
    "collapsed": false,
    "ExecuteTime": {
     "end_time": "2024-06-13T05:52:12.327650Z",
     "start_time": "2024-06-13T05:52:12.163454Z"
    }
   },
   "id": "ef7851ee6b30f45d"
  },
  {
   "cell_type": "code",
   "execution_count": 93,
   "outputs": [
    {
     "data": {
      "text/plain": "(array([[ 0.,  1.,  2.,  3.],\n        [ 4.,  5.,  6.,  7.],\n        [ 8.,  9., 10., 11.]]),\n array([[2., 1., 4., 3.],\n        [1., 2., 3., 4.],\n        [4., 3., 2., 1.]]),\n array([[ 0.,  1.,  2.,  3.],\n        [ 4.,  5.,  6.,  7.],\n        [ 8.,  9., 10., 11.],\n        [ 2.,  1.,  4.,  3.],\n        [ 1.,  2.,  3.,  4.],\n        [ 4.,  3.,  2.,  1.]]),\n array([[ 0.,  1.,  2.,  3.,  2.,  1.,  4.,  3.],\n        [ 4.,  5.,  6.,  7.,  1.,  2.,  3.,  4.],\n        [ 8.,  9., 10., 11.,  4.,  3.,  2.,  1.]]))"
     },
     "execution_count": 93,
     "metadata": {},
     "output_type": "execute_result"
    }
   ],
   "source": [
    "# 我们可以把多个 NDArray 合并（concatenate）。只需要提供一个 NDArray 列表，并给定需要连接的轴的编号\n",
    "X = np.arange(12).reshape(3, 4)\n",
    "Y = np.array([[2, 1, 4, 3], [1, 2, 3, 4], [4, 3, 2, 1]])\n",
    "X, Y, np.concatenate([X, Y], axis=0), np.concatenate([X, Y], axis=1)  # 沿行和列连接两个矩阵"
   ],
   "metadata": {
    "collapsed": false,
    "ExecuteTime": {
     "end_time": "2024-06-13T05:52:12.327776Z",
     "start_time": "2024-06-13T05:52:12.168343Z"
    }
   },
   "id": "cfdd6ffc5862f300"
  },
  {
   "cell_type": "code",
   "execution_count": 94,
   "outputs": [
    {
     "data": {
      "text/plain": "array([[False,  True, False,  True],\n       [False, False, False, False],\n       [False, False, False, False]])"
     },
     "execution_count": 94,
     "metadata": {},
     "output_type": "execute_result"
    }
   ],
   "source": [
    "# 可以通过逻辑运算符构建二元 NDArray\n",
    "X == Y"
   ],
   "metadata": {
    "collapsed": false,
    "ExecuteTime": {
     "end_time": "2024-06-13T05:52:12.328188Z",
     "start_time": "2024-06-13T05:52:12.174634Z"
    }
   },
   "id": "8d7e5a1672566bc1"
  },
  {
   "cell_type": "code",
   "execution_count": 95,
   "outputs": [
    {
     "data": {
      "text/plain": "array(66.)"
     },
     "execution_count": 95,
     "metadata": {},
     "output_type": "execute_result"
    }
   ],
   "source": [
    "X.sum() # NDArray 中的所有元素的和"
   ],
   "metadata": {
    "collapsed": false,
    "ExecuteTime": {
     "end_time": "2024-06-13T05:52:12.328287Z",
     "start_time": "2024-06-13T05:52:12.179230Z"
    }
   },
   "id": "47beaf19bbd25b7c"
  },
  {
   "cell_type": "markdown",
   "source": [
    "## 2.1.4. Broadcasting\n",
    "广播机制\n",
    "在上面的部分中，我们看到了如何在相同形状的两个张量上执行按元素操作。 在某些情况下，即使形状不同，我们仍然可以通过调用 广播机制（broadcasting mechanism）来执行按元素操作。 \n",
    "这种机制的工作方式如下：\n",
    " 1. 通过适当复制元素来扩展一个或两个数组，以便在转换之后，两个张量具有相同的形状；\n",
    " 2. 对生成的数组执行按元素操作。"
   ],
   "metadata": {
    "collapsed": false
   },
   "id": "edd8109fb9941c6b"
  },
  {
   "cell_type": "code",
   "execution_count": 96,
   "outputs": [
    {
     "data": {
      "text/plain": "(array([[0.],\n        [1.],\n        [2.]]),\n array([[0., 1.]]))"
     },
     "execution_count": 96,
     "metadata": {},
     "output_type": "execute_result"
    }
   ],
   "source": [
    "# 在大多数情况下，我们将沿着数组中长度为1的轴进行广播\n",
    "a = np.arange(3).reshape(3, 1)\n",
    "b = np.arange(2).reshape(1, 2)\n",
    "a, b"
   ],
   "metadata": {
    "collapsed": false,
    "ExecuteTime": {
     "end_time": "2024-06-13T05:52:12.328430Z",
     "start_time": "2024-06-13T05:52:12.183081Z"
    }
   },
   "id": "ef4e48da0151941c"
  },
  {
   "cell_type": "markdown",
   "source": [
    "由于a和b分别是$3\\times1$和$1\\times2$矩阵，如果让它们相加，它们的形状不匹配。 我们将两个矩阵广播为一个更大的$3\\times2$矩阵：\n",
    "如下代码, 矩阵a将复制列， 矩阵b将复制行，然后再按元素相加。"
   ],
   "metadata": {
    "collapsed": false
   },
   "id": "1d4b544f06f0ab37"
  },
  {
   "cell_type": "code",
   "execution_count": 97,
   "outputs": [
    {
     "data": {
      "text/plain": "array([[0., 1.],\n       [1., 2.],\n       [2., 3.]])"
     },
     "execution_count": 97,
     "metadata": {},
     "output_type": "execute_result"
    }
   ],
   "source": [
    "a + b   # 广播机制"
   ],
   "metadata": {
    "collapsed": false,
    "ExecuteTime": {
     "end_time": "2024-06-13T05:52:12.328660Z",
     "start_time": "2024-06-13T05:52:12.188893Z"
    }
   },
   "id": "9dba0717d1852b28"
  },
  {
   "cell_type": "code",
   "execution_count": 98,
   "outputs": [
    {
     "data": {
      "text/plain": "(array([[0., 0.],\n        [1., 1.],\n        [2., 2.]]),\n array([[0., 1.],\n        [0., 1.],\n        [0., 1.]]),\n array([[0., 1.],\n        [1., 2.],\n        [2., 3.]]))"
     },
     "execution_count": 98,
     "metadata": {},
     "output_type": "execute_result"
    }
   ],
   "source": [
    "# 以下代码等价于 a + b\n",
    "np.broadcast_to(a, (3, 2)), np.broadcast_to(b, (3, 2)), np.broadcast_to(a, (3, 2)) + np.broadcast_to(b, (3, 2))"
   ],
   "metadata": {
    "collapsed": false,
    "ExecuteTime": {
     "end_time": "2024-06-13T05:52:12.328770Z",
     "start_time": "2024-06-13T05:52:12.192994Z"
    }
   },
   "id": "e827c74bb29bebeb"
  },
  {
   "cell_type": "markdown",
   "source": [
    "# 2.1.5 Saving Memory 减少内存\n",
    "运行一些操作可能会导致为新结果分配内存。 例如，如果我们用Y = X + Y，我们将取消引用Y指向的张量，而是指向新分配的内存处的NDArray。\n",
    "在下面的例子中，我们用Python的id()函数演示了这一点，它给我们提供了内存中引用对象的确切地址。 运行Y = Y + X后，我们会发现id(Y)指向另一个位置。 \n",
    "这在某些情况下是有用的，但通常我们希望避免这种情况，原因有两个：\n",
    "1. 首先，我们不想总是不必要地分配内存。在机器学习中，我们可能有数百兆的参数，并且在一秒内多次更新所有参数。通常情况下，我们希望原地执行这些更新；\n",
    "2. 如果我们不原地更新，其他引用仍然会指向旧的内存位置，这样我们的某些代码可能会无意中引用旧的参数。"
   ],
   "metadata": {
    "collapsed": false
   },
   "id": "ac467618483fa10"
  },
  {
   "cell_type": "code",
   "execution_count": 99,
   "outputs": [
    {
     "data": {
      "text/plain": "False"
     },
     "execution_count": 99,
     "metadata": {},
     "output_type": "execute_result"
    }
   ],
   "source": [
    "before = id(Y)\n",
    "Y = Y + X\n",
    "id(Y) == before"
   ],
   "metadata": {
    "collapsed": false,
    "ExecuteTime": {
     "end_time": "2024-06-13T05:52:12.328920Z",
     "start_time": "2024-06-13T05:52:12.197640Z"
    }
   },
   "id": "f8411abb494d22dd"
  },
  {
   "cell_type": "code",
   "execution_count": 100,
   "outputs": [
    {
     "name": "stdout",
     "output_type": "stream",
     "text": [
      "id(Z): 140514024109616\n",
      "id(Z): 140514024109616\n"
     ]
    },
    {
     "data": {
      "text/plain": "(array([[ 0.,  1.,  2.,  3.],\n        [ 4.,  5.,  6.,  7.],\n        [ 8.,  9., 10., 11.]]),\n array([[ 2.,  2.,  6.,  6.],\n        [ 5.,  7.,  9., 11.],\n        [12., 12., 12., 12.]]),\n array([[ 2.,  3.,  8.,  9.],\n        [ 9., 12., 15., 18.],\n        [20., 21., 22., 23.]]))"
     },
     "execution_count": 100,
     "metadata": {},
     "output_type": "execute_result"
    }
   ],
   "source": [
    "# 执行原地操作非常简单。 我们可以使用切片表示法将操作的结果分配给先前分配的数组，例如Y[:] = <expression>\n",
    "Z = np.zeros_like(Y) # 创建一个形状和 Y 一样，但是元素为 0 的张量\n",
    "print('id(Z):', id(Z))\n",
    "Z[:] = X + Y # 原地操作\n",
    "print('id(Z):', id(Z))\n",
    "X, Y, Z"
   ],
   "metadata": {
    "collapsed": false,
    "ExecuteTime": {
     "end_time": "2024-06-13T05:52:12.358852Z",
     "start_time": "2024-06-13T05:52:12.202485Z"
    }
   },
   "id": "1003cb91a1a6c9bf"
  },
  {
   "cell_type": "markdown",
   "source": [
    "# 2.1.6 Conversion to Other Python Objects 转换为其他 Python 对象\n",
    "将深度学习框架mxnet定义的张量转换为NumPy张量（ndarray）很容易，反之也同样容易。但是转换后的结果不共享内存。 \n",
    "这个小的不便实际上是非常重要的：当在CPU或GPU上执行操作的时候， 如果Python的NumPy包也希望使用相同的内存块执行其他操作，人们不希望停下计算来等它。"
   ],
   "metadata": {
    "collapsed": false
   },
   "id": "ed3f39a7b74cf999"
  },
  {
   "cell_type": "code",
   "execution_count": 101,
   "outputs": [
    {
     "data": {
      "text/plain": "(numpy.ndarray, mxnet.numpy.ndarray)"
     },
     "execution_count": 101,
     "metadata": {},
     "output_type": "execute_result"
    }
   ],
   "source": [
    "A = X.asnumpy() # 将 MXNet NDArray 转换为 NumPy ndarray\n",
    "B = np.array(A) # 将 NumPy ndarray 转换为 MXNet NDArray\n",
    "type(A), type(B)"
   ],
   "metadata": {
    "collapsed": false,
    "ExecuteTime": {
     "end_time": "2024-06-13T05:52:12.359052Z",
     "start_time": "2024-06-13T05:52:12.207896Z"
    }
   },
   "id": "63fe9875fc3c082f"
  },
  {
   "cell_type": "code",
   "execution_count": 102,
   "outputs": [
    {
     "data": {
      "text/plain": "(array([3.5]), 3.5, 3.5, 3)"
     },
     "execution_count": 102,
     "metadata": {},
     "output_type": "execute_result"
    }
   ],
   "source": [
    "# 要将大小为1的张量转换为Python标量，我们可以调用item函数或Python的内置函数。\n",
    "a = np.array([3.5])\n",
    "a, a.item(), float(a), int(a)   # item() 返回一个 Python 标量, float() 返回浮点数, int() 返回整数"
   ],
   "metadata": {
    "collapsed": false,
    "ExecuteTime": {
     "end_time": "2024-06-13T05:52:38.472022Z",
     "start_time": "2024-06-13T05:52:38.428584Z"
    }
   },
   "id": "7aca164cabce6cf1"
  },
  {
   "cell_type": "code",
   "execution_count": null,
   "outputs": [],
   "source": [],
   "metadata": {
    "collapsed": false
   },
   "id": "3f256c2daa05dddf"
  }
 ],
 "metadata": {
  "kernelspec": {
   "display_name": "Python 3",
   "language": "python",
   "name": "python3"
  },
  "language_info": {
   "codemirror_mode": {
    "name": "ipython",
    "version": 2
   },
   "file_extension": ".py",
   "mimetype": "text/x-python",
   "name": "python",
   "nbconvert_exporter": "python",
   "pygments_lexer": "ipython2",
   "version": "2.7.6"
  }
 },
 "nbformat": 4,
 "nbformat_minor": 5
}
