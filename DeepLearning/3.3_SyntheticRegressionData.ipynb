{
 "cells": [
  {
   "cell_type": "code",
   "execution_count": 1,
   "id": "initial_id",
   "metadata": {
    "collapsed": true,
    "ExecuteTime": {
     "end_time": "2024-06-27T05:43:43.079814Z",
     "start_time": "2024-06-27T05:43:41.288663Z"
    }
   },
   "outputs": [
    {
     "name": "stderr",
     "output_type": "stream",
     "text": [
      "[13:43:43] ../src/storage/storage.cc:202: Using Pooled (Naive) StorageManager for CPU\n"
     ]
    }
   ],
   "source": [
    "from mxnet import autograd, gluon, np, npx\n",
    "import tools_func as d2l\n",
    "\n",
    "npx.set_np()\n",
    "\n",
    "true_w = np.array([2, -3.4])\n",
    "true_b = 4.2\n",
    "features, labels = d2l.synthetic_data(true_w, true_b, 1000)"
   ]
  },
  {
   "cell_type": "code",
   "execution_count": 4,
   "outputs": [
    {
     "data": {
      "text/plain": "[array([[ 0.727588  , -1.1137296 ],\n        [-0.6937636 , -1.3805288 ],\n        [ 0.25114498, -0.18006676],\n        [-0.35159528,  0.02315214],\n        [ 0.82629275, -0.53320163],\n        [ 1.3769009 , -1.8785107 ],\n        [ 1.5580711 , -1.2347414 ],\n        [ 0.19793853, -0.11836779],\n        [-2.791788  , -0.6768518 ],\n        [ 0.20124863, -0.65390635]]),\n array([[ 9.455694 ],\n        [ 7.498965 ],\n        [ 5.317286 ],\n        [ 3.429054 ],\n        [ 7.6852117],\n        [13.321277 ],\n        [11.515528 ],\n        [ 4.995922 ],\n        [ 0.9424268],\n        [ 6.846017 ]])]"
     },
     "execution_count": 4,
     "metadata": {},
     "output_type": "execute_result"
    }
   ],
   "source": [
    "def load_array(data_arrays, batch_size, is_train=True):\n",
    "    \"\"\"构造一个Gluon数据迭代器\"\"\"\n",
    "    dataset = gluon.data.ArrayDataset(*data_arrays)\n",
    "    return gluon.data.DataLoader(dataset, batch_size, shuffle=is_train)\n",
    "\n",
    "batch_size = 10\n",
    "data_iter = load_array((features, labels), batch_size)\n",
    "next(iter(data_iter))"
   ],
   "metadata": {
    "collapsed": false,
    "ExecuteTime": {
     "end_time": "2024-06-27T05:44:03.300231Z",
     "start_time": "2024-06-27T05:44:03.230114Z"
    }
   },
   "id": "3a0d403b5c0cd6c8"
  },
  {
   "cell_type": "code",
   "execution_count": null,
   "outputs": [],
   "source": [],
   "metadata": {
    "collapsed": false
   },
   "id": "a488301301e9f8f1"
  }
 ],
 "metadata": {
  "kernelspec": {
   "display_name": "Python 3",
   "language": "python",
   "name": "python3"
  },
  "language_info": {
   "codemirror_mode": {
    "name": "ipython",
    "version": 2
   },
   "file_extension": ".py",
   "mimetype": "text/x-python",
   "name": "python",
   "nbconvert_exporter": "python",
   "pygments_lexer": "ipython2",
   "version": "2.7.6"
  }
 },
 "nbformat": 4,
 "nbformat_minor": 5
}
