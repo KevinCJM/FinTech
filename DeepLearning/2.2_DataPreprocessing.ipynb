{
 "cells": [
  {
   "cell_type": "markdown",
   "source": [
    "# 2.2. 数据预处理\n",
    "\n",
    "为了能用深度学习来解决现实世界的问题，我们经常从预处理原始数据开始，而不是从那些准备好的张量格式数据开始。 \n",
    "在Python中常用的数据分析工具中，我们通常使用pandas软件包。像庞大的Python生态系统中的许多其他扩展包一样，pandas可以与张量兼容。 \n",
    "本节我们将简要介绍使用pandas预处理原始数据，并将原始数据转换为张量格式的步骤。 后面的章节将介绍更多的数据预处理技术。"
   ],
   "metadata": {
    "collapsed": false
   },
   "id": "b885dc971762cd9a"
  },
  {
   "cell_type": "markdown",
   "source": [
    "## 2.2.1. 读取数据集\n",
    "举一个例子，我们首先创建一个人工数据集，并存储在CSV（逗号分隔值）文件 ../data/house_tiny.csv中。 以其他格式存储的数据也可以通过类似的方式进行处理。 下面我们将数据集按行写入CSV文件中。"
   ],
   "metadata": {
    "collapsed": false
   },
   "id": "80708e223aa885aa"
  },
  {
   "cell_type": "code",
   "execution_count": null,
   "outputs": [],
   "source": [
    "import os\n",
    "\n",
    "# os.makedirs(os.path.join('..', 'data'), exist_ok=True)\n",
    "data_file = os.path.join('data', 'house_tiny.csv')\n",
    "with open(data_file, 'w') as f:\n",
    "    f.write('NumRooms,Alley,Price\\n')  # 列名\n",
    "    f.write('NA,Pave,127500\\n')  # 每行表示一个数据样本\n",
    "    f.write('2,NA,106000\\n')\n",
    "    f.write('4,NA,178100\\n')\n",
    "    f.write('NA,NA,140000\\n')\n",
    "print(data_file)"
   ],
   "metadata": {
    "collapsed": false
   },
   "id": "56ba898eca97e569"
  },
  {
   "cell_type": "code",
   "execution_count": null,
   "outputs": [],
   "source": [
    "# 如果没有安装pandas，只需取消对以下行的注释来安装pandas\n",
    "# !pip install pandas\n",
    "import pandas as pd\n",
    "\n",
    "# 该数据集有四行三列。其中每行描述了房间数量（“NumRooms”）、巷子类型（“Alley”）和房屋价格（“Price”）。\n",
    "data = pd.read_csv(data_file)\n",
    "print(data_file)\n",
    "print(data)"
   ],
   "metadata": {
    "collapsed": false
   },
   "id": "f123bdac1e1fdaa2"
  },
  {
   "cell_type": "markdown",
   "source": [
    "## 2.2.2. 处理缺失值\n",
    "注意，“NaN”项代表缺失值。 为了处理缺失的数据，典型的方法包括插值法和删除法， 其中插值法用一个替代值弥补缺失值，而删除法则直接忽略缺失值。 在这里，我们将考虑插值法。\n",
    "通过位置索引iloc，我们将data分成inputs和outputs， 其中前者为data的前两列，而后者为data的最后一列。 对于inputs中缺少的数值，我们用同一列的均值替换“NaN”项。"
   ],
   "metadata": {
    "collapsed": false
   },
   "id": "e1e522d583fa76b7"
  },
  {
   "cell_type": "code",
   "execution_count": null,
   "outputs": [],
   "source": [
    "inputs, outputs = data.iloc[:, 0:2], data.iloc[:, 2]    # iloc: 通过行号获取行数据\n",
    "inputs['NumRooms'] = inputs['NumRooms'].astype('float32')   # 将NumRooms转换为浮点数\n",
    "inputs['NumRooms'] = inputs['NumRooms'].fillna(inputs['NumRooms'].mean())   # 用均值填充缺失值\n",
    "inputs"
   ],
   "metadata": {
    "collapsed": false
   },
   "id": "84d88cf1db11cb6b"
  },
  {
   "cell_type": "code",
   "execution_count": null,
   "outputs": [],
   "source": [
    "# 对于inputs中的类别值或离散值，我们将“NaN”视为一个类别。 由于“巷子类型”（“Alley”）列只接受两种类型的类别值“Pave”和“NaN”， pandas可以自动将此列转换为两列“Alley_Pave”和“Alley_nan”。 \n",
    "# 巷子类型为“Pave”的行会将“Alley_Pave”的值设置为1，“Alley_nan”的值设置为0。 缺少巷子类型的行会将“Alley_Pave”和“Alley_nan”分别设置为0和1。\n",
    "inputs = pd.get_dummies(inputs, dummy_na=True)  # 将inputs中的类别变量转换为指示变量\n",
    "inputs"
   ],
   "metadata": {
    "collapsed": false
   },
   "id": "81d0dd8bd5502661"
  },
  {
   "cell_type": "markdown",
   "source": [
    "## 2.2.3. 转换为张量格式\n",
    "现在inputs和outputs中的所有条目都是数值类型，它们可以转换为 NDArray 格式。 \n",
    "当数据采用张量格式后，可以通过在 2.1 节中引入的那些张量函数来进一步操作。"
   ],
   "metadata": {
    "collapsed": false
   },
   "id": "7df57aa4b4cb906"
  },
  {
   "cell_type": "code",
   "execution_count": null,
   "outputs": [],
   "source": [
    "from mxnet import np\n",
    "\n",
    "X, y = np.array(inputs.to_numpy(dtype=float)), np.array(outputs.to_numpy(dtype=float))\n",
    "X, y"
   ],
   "metadata": {
    "collapsed": false
   },
   "id": "91414bf225211c33"
  },
  {
   "cell_type": "code",
   "execution_count": null,
   "outputs": [],
   "source": [],
   "metadata": {
    "collapsed": false
   },
   "id": "2af03ab4cc02a8cd"
  }
 ],
 "metadata": {
  "kernelspec": {
   "display_name": "Python 3",
   "language": "python",
   "name": "python3"
  },
  "language_info": {
   "codemirror_mode": {
    "name": "ipython",
    "version": 2
   },
   "file_extension": ".py",
   "mimetype": "text/x-python",
   "name": "python",
   "nbconvert_exporter": "python",
   "pygments_lexer": "ipython2",
   "version": "2.7.6"
  }
 },
 "nbformat": 4,
 "nbformat_minor": 5
}
