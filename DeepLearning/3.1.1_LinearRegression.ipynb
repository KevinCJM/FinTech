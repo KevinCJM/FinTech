{
 "cells": [
  {
   "cell_type": "markdown",
   "source": [
    "## 3.1. Linear Regression 线性回归\n",
    "回归（regression）是能为一个或多个自变量与因变量之间关系建模的一类方法。 在自然科学和社会科学领域，回归经常用来表示输入和输出之间的关系。\n",
    "\n",
    "在机器学习领域中的大多数任务通常都与预测（prediction）有关。 当我们想预测一个数值时，就会涉及到回归问题。 常见的例子包括：预测价格（房屋、股票等）、预测住院时间（针对住院病人等）、 预测需求（零售销量等）。 但不是所有的预测都是回归问题。 在后面的章节中，我们将介绍分类问题。分类问题的目标是预测数据属于一组类别中的哪一个。"
   ],
   "metadata": {
    "collapsed": false
   },
   "id": "97c8566531e0c24f"
  },
  {
   "cell_type": "markdown",
   "source": [
    "### 3.1.1. Basics 线性回归的基本元素\n",
    "线性回归（linear regression）可以追溯到19世纪初， 它在回归的各种标准工具中最简单而且最流行。 线性回归基于几个简单的假设： 首先，假设自变量x和因变量y和之间的关系是线性的， 即y可以表示为x中元素的加权和，这里通常允许包含观测值的一些噪声； 其次，我们假设任何噪声都比较正常，如噪声遵循正态分布。\n",
    "\n",
    "为了解释线性回归，我们举一个实际的例子： 我们希望根据房屋的面积（平方英尺）和房龄（年）来估算房屋价格（美元）。 为了开发一个能预测房价的模型，我们需要收集一个真实的数据集。 这个数据集包括了房屋的销售价格、面积和房龄。 在机器学习的术语中，该数据集称为训练数据集（training data set） 或训练集（training set）。 每行数据（比如一次房屋交易相对应的数据）称为样本（sample）， 也可以称为数据点（data point）或数据样本（data instance）。 我们把试图预测的目标（比如预测房屋价格）称为标签（label）或目标（target）。 预测所依据的自变量（面积和房龄）称为特征（feature）或协变量（covariate）。\n",
    "\n",
    "通常，我们使用n来表示数据集中的样本数量。 对索引为i的样本，其输入表示为$\\mathbf{x}^{(i)} = [x_1^{(i)}, x_2^{(i)}]$，其对应的标签是$y^{(i)}$。\n",
    "解释公式\n",
    "- $n$：数据集中的样本数量。\n",
    "- $\\mathbf{x}^{(i)} = [x_1^{(i)}, x_2^{(i)}]$：索引为 $i$ 的样本的输入特征向量，其中 $x_1^{(i)$ 表示第 $i$ 个样本的面积，$x_2^{(i)}$ 表示第 $i$ 个样本的房龄。\n",
    "- $y^{(i)}$：索引为 $i$ 的样本的标签，即第 $i$ 个样本的房价。\n"
   ],
   "metadata": {
    "collapsed": false
   },
   "id": "280ed336186889cd"
  },
  {
   "cell_type": "markdown",
   "source": [
    "**线性模型**\n",
    "线性假设是指目标（房屋价格）可以表示为特征（面积和房龄）的加权和，如下面的式子：\n",
    "$$price = w_{area} \\times area + w_{age} \\times age + b$$\n",
    "其中的$w_{area}$、$w_{age}$称为权重（weight），权重决定了每个特征对我们预测值的影响。 $b$称为偏置（bias）、偏移量（offset）或截距（intercept）。 偏置是指当所有特征都取值为0时，预测值应该为多少。 即使现实中不会有任何房子的面积是0或房龄正好是0年，我们仍然需要偏置项。 如果没有偏置项，我们模型的表达能力将受到限制。 严格来说, 上面公式是输入特征的一个 仿射变换（affine transformation）。 仿射变换的特点是通过加权和对特征进行线性变换（linear transformation）， 并通过偏置项来进行平移（translation）。(上面公式中简化掉了残差项 $\\epsilon$)  \n",
    "给定一个数据集，我们的目标是寻找模型的权重$\\mathbf{x}$和偏置$b$，使得根据模型做出的预测大体符合数据里的真实价格。 输出的预测值由输入特征通过线性模型的仿射变换决定，仿射变换由所选权重和偏置确定。\n",
    "而在机器学习领域，我们通常使用的是高维数据集，建模时采用线性代数表示法会比较方便。 当我们的输入包含$d$个特征时，我们将预测结果$\\hat{y}$（通常使用“尖角”符号表示$y$的估计值）表示为：\n",
    "$$\\hat{y}= w_1 \\cdot x_1 + w_2 \\cdot x_2 + \\ldots + w_d \\cdot x_d + b$$\n",
    "将所有特征放到向量$\\mathbf{x} \\in \\mathbb{R}^d$中，并将所有权重放到向量$\\mathbf{w} \\in \\mathbb{R}^d$中，我们可以用点积形式来简洁地表达模型：$$\\hat{y} = \\mathbf{w}^\\top \\mathbf{x} + b$$\n",
    "在上面公式中, 向量$\\mathbf{x}$对应于单个数据样本的特征。 用符号表示的矩阵$\\mathbf{X} \\in \\mathbb{R}^{n \\times d}$可以很方便地引用我们整个数据集的$n$个样本。 其中，$\\mathbf{X}$的每一行是一个样本，每一列是一种特征。\n",
    "对于特征集合$\\mathbf{X}$，预测值$\\hat{\\mathbf{y}} \\in  \\mathbb{R}^n$可以通过矩阵-向量乘法表示为：\n",
    "$$\\hat{\\mathbf{y}} = \\mathbf{X} \\mathbf{w} + b$$\n",
    "\n",
    "这个过程中的求和将使用numpy的广播机制。 给定训练数据特征$\\mathbf{X}$和对应的已知标签$\\mathbf{y}$，线性回归的目标是找到一组权重向量$\\mathbf{w}$和偏置$b$，尽可能的使得预测值$\\hat{\\mathbf{y}} \\approx \\mathbf{y}$。 当给定从$\\mathbf{X}$的同分布中取样的新样本特征时， 这组权重向量和偏置能够使得新样本预测标签的误差尽可能小。\n",
    "虽然我们相信/假定给定$\\mathbf{x}$和预测$y$的最佳模型会是线性的， 但我们很难找到一个有$n$个样本的真实数据集，其中对于所有的$1\\leq i \\le n$，$y_{(i)}$完全等于$\\mathbf{w}^\\top \\mathbf{x}^{(i)} + b$。 因此，即使我们找到了最佳的$\\mathbf{w}$和$b$，我们仍然会观察到少量的观测误差。 因此，即使确信特征与标签的潜在关系是线性的， 我们也会加入一个噪声项来考虑观测误差带来的影响。 在统计学中，这个噪声通常被假定为均值为0的正态分布。 我们假设噪声$\\epsilon$与特征$x$是独立的，并且$\\epsilon \\sim \\mathcal{N}(0, \\sigma^2)$。 因此，我们可以将观测$y$建模为：$$\\hat{y} = \\mathbf{w}^\\top \\mathbf{x} + b + \\epsilon \\text{  或  }\n",
    "\\hat{\\mathbf{y}} = \\mathbf{X} \\mathbf{w} + b + \\epsilon$$\n",
    "\n",
    "在开始寻找最好的模型参数（model parameters）$\\mathbf{w}$和$b$之前，我们需要两个东西：\n",
    "（1）一个模型评估指标，用来衡量模型的好坏 (模型质量的度量方式)\n",
    "（2）一种能够更新模型以提高模型预测质量的方法"
   ],
   "metadata": {
    "collapsed": false
   },
   "id": "583aa4e0c5205583"
  },
  {
   "cell_type": "markdown",
   "source": [
    "**Loss Function 损失函数**\n",
    "\n",
    "在我们开始考虑如何用模型拟合（fit）数据之前，我们需要确定一个拟合程度的度量。 损失函数（loss function）能够量化目标的实际值与预测值之间的差距。 通常我们会选择非负数作为损失，且数值越小表示损失越小，完美预测时的损失为0。 回归问题中最常用的损失函数是平方误差函数。 当样本 $i$ 的预测值为 $\\hat{y}^{(i)}$ 时，平方误差可以定义为以下公式：\n",
    "$$\n",
    "l^{(i)}(\\mathbf{w}, b) = \\frac{1}{2} \\left( \\hat{y}^{(i)} - y^{(i)} \\right)^2\n",
    "$$\n",
    "常数$1/2$不会带来本质的差别，但这样在形式上稍微简单一些 （因为当我们对损失函数求导后常数系数为1）。 由于训练数据集并不受我们控制，所以经验误差只是关于模型参数的函数。 为了进一步说明，来看下面的例子。 我们为一维情况下的回归问题绘制图像\n",
    "![avatar](/Users/chenjunming/Desktop/FinTech/DeepLearning/pics/WX20240701-103657@2x.png#pic_center)\n",
    "由于均方误差函数中的二次方项， 估计值$\\hat{y}^{(i)}$ 和真实值$y^{(i)}$ 之间较大的差异将贡献更大的损失。 为了衡量整个数据集上的模型预测质量，我们可以计算在$n$个样本的训练集上的平均损失（也等价于求和）。\n",
    "$$\n",
    "\\begin{aligned}\n",
    "L(\\mathbf{w}, b) & = \\frac{1}{n} \\sum_{i=1}^n l^{(i)}(\\mathbf{w}, b) \\\\\n",
    "& = \\frac{1}{n} \\sum_{i=1}^n \\frac{1}{2} \\left( \\hat{y}^{(i)} - y^{(i)} \\right)^2 \\\\\n",
    "& = \\frac{1}{n} \\sum_{i=1}^n \\frac{1}{2} \\left( \\mathbf{w}^\\top \\mathbf{x}^{(i)} + b - y^{(i)} \\right)^2\n",
    "\\end{aligned}\n",
    "$$\n",
    "在训练模型时，我们希望寻找一组参数$(\\mathbf{w}^*, b^*)$，这组参数能够最小化在所有训练样本上的总损失。 换句话说，我们的目标是求解最小化均方误差 (MSE)：\n",
    "$$\n",
    "\\begin{aligned}\n",
    "\\min_{\\mathbf{w}, b} \\quad & \\frac{1}{n} \\sum_{i=1}^n \\frac{1}{2} \\left( \\mathbf{w}^\\top \\mathbf{x}^{(i)} + b - y^{(i)} \\right)^2 \\\\\n",
    "\\text{subject to} \\quad & \\mathbf{w} \\in \\mathbb{R}^d, b \\in \\mathbb{R}\n",
    "\\end{aligned}\n",
    "$$"
   ],
   "metadata": {
    "collapsed": false
   },
   "id": "76a550d04c9487ff"
  },
  {
   "cell_type": "markdown",
   "source": [
    "**Analytic Solution 解析解**\n",
    "\n",
    "线性回归刚好是一个很简单的优化问题。 与我们将在本书中所讲到的其他大部分模型不同，线性回归的解可以用一个公式简单地表达出来， 这类解叫作解析解（analytical solution）。 首先，我们将偏置$b$合并到参数$\\mathbf{w}$中，合并方法是在包含所有参数的矩阵中附加一列。 我们的预测问题是最小化$\\|\\mathbf{y} - \\mathbf{X} \\mathbf{w}\\|^2$。 这在损失平面上只有一个临界点，这个临界点对应于整个区域的损失极小点。 将损失关于$\\mathbf{w}$的导数设为0，我们得到了解析解：$$\\mathbf{w}^* = \\left( \\mathbf{X}^\\top \\mathbf{X} \\right)^{-1} \\mathbf{X}^\\top \\mathbf{y}$$\n",
    "\n",
    "推导过程为:\n",
    "\n",
    "- 目标, 最小化函数: $L(\\mathbf{w})=\\|\\mathbf{y} - \\mathbf{X} \\mathbf{w}\\|^2$\n",
    "- 假设我们有 $n$ 个样本，每个样本有 $p$ 个特征：\n",
    "  - $\\mathbf{X}$ 是一个 $n \\times (p+1)$ 的矩阵，其中每一行是一个样本的特征向量，并在最后一列加上了一个常数1，以合并偏置项 $b$。\n",
    "  - $\\mathbf{w}$ 是一个 $(p+1) \\times 1$ 的列向量，表示模型的权重。\n",
    "  - $\\mathbf{y}$ 是一个 $n \\times 1$ 的列向量，表示真实值。\n",
    "- 展开目标函数 $$L(\\mathbf{w}) = (\\mathbf{y} - \\mathbf{X} \\mathbf{w})^\\top (\\mathbf{y} - \\mathbf{X} \\mathbf{w}) \\\\ L(\\mathbf{w}) = \\mathbf{y}^\\top \\mathbf{y} - 2\\mathbf{y}^\\top \\mathbf{X} \\mathbf{w} + \\mathbf{w}^\\top \\mathbf{X}^\\top \\mathbf{X} \\mathbf{w}$$ \n",
    "- 计算梯度, 我们需要找到使损失函数最小化的 $\\mathbf{w}$。为此，我们对 $\\mathbf{w}$ 求导并设导数为零：$$\\nabla_{\\mathbf{w}} L(\\mathbf{w}) = -2\\mathbf{X}^\\top \\mathbf{y} + 2\\mathbf{X}^\\top \\mathbf{X} \\mathbf{w} \\\\ -2\\mathbf{X}^\\top \\mathbf{y} + 2\\mathbf{X}^\\top \\mathbf{X} \\mathbf{w} = 0$$\n",
    "- 解方程: $$\\mathbf{X}^\\top \\mathbf{X} \\mathbf{w} = \\mathbf{X}^\\top \\mathbf{y} \\\\ \\mathbf{w}^* = (\\mathbf{X}^\\top \\mathbf{X})^{-1} \\mathbf{X}^\\top \\mathbf{y}$$\n",
    "\n",
    "像线性回归这样的简单问题存在解析解，但并不是所有的问题都存在解析解。 解析解可以进行很好的数学分析，但解析解对问题的限制很严格，导致它无法广泛应用在深度学习里。"
   ],
   "metadata": {
    "collapsed": false
   },
   "id": "2a63d75529d759b2"
  },
  {
   "cell_type": "markdown",
   "source": [
    "**Minibatch Stochastic Gradient Descent 随机梯度下降**\n",
    "\n",
    "即使在我们无法得到解析解的情况下，我们仍然可以有效地训练模型。 在许多任务上，那些难以优化的模型效果要更好。 因此，弄清楚如何训练这些难以优化的模型是非常重要的。\n",
    "\n",
    "这里, 我们用到一种名为梯度下降（gradient descent）的方法， 这种方法几乎可以优化所有深度学习模型。 它通过不断地在损失函数递减的方向上更新参数来降低误差。\n",
    "\n",
    "梯度下降最简单的用法是计算损失函数（数据集中所有样本的损失均值） 关于模型参数的导数（在这里也可以称为梯度）。 但实际中的执行可能会非常慢：因为在每一次更新参数之前，我们必须遍历整个数据集。 因此，我们通常会在每次需要计算更新的时候随机抽取一小批样本， 这种变体叫做小批量随机梯度下降（minibatch stochastic gradient descent）。首先咱们先了解下什么是梯度下降和随机梯度下降:\n",
    "\n",
    "- 梯度下降 (Gradient Descent)\n",
    "梯度下降通过以下步骤来最小化损失函数：\n",
    "    1. 计算梯度：计算损失函数对模型参数的导数（梯度），表示在每个参数方向上的变化率。\n",
    "    2. 更新参数：根据梯度，沿梯度负方向更新模型参数，以减少损失。\n",
    "    3. 梯度下降的基本公式为：$\\mathbf{w} \\leftarrow \\mathbf{w} - \\eta \\nabla_{\\mathbf{w}} L(\\mathbf{w})$\n",
    "    其中：\n",
    "          - $\\mathbf{w}$ 是模型参数。\n",
    "          - $\\eta$ 是学习率（控制每次更新的步长）。\n",
    "          - $\\nabla_{\\mathbf{w}} L(\\mathbf{w})$ 是损失函数 $L(\\mathbf{w})$ 对参数 $\\mathbf{w}$ 的梯度。 \n",
    "    4. 公式解释：\n",
    "          - 计算损失函数 $L(\\mathbf{w})$ 对参数 $\\mathbf{w}$ 的梯度 $\\nabla_{\\mathbf{w}} L(\\mathbf{w})$。\n",
    "          - 用负梯度方向更新参数 $\\mathbf{w}$，即 $\\mathbf{w} - \\eta \\nabla_{\\mathbf{w}} L(\\mathbf{w})$。\n",
    "          - 这个过程会不断重复，直到损失函数收敛到一个最小值或者达到预设的迭代次数。\n",
    "- 随机梯度下降 (Stochastic Gradient Descent, SGD)\n",
    "对于大型数据集，遍历整个数据集（即使用所有样本）来计算梯度和更新参数的开销非常大。因此，引入了随机梯度下降（SGD）. SGD通过每次只使用一个样本来计算梯度并更新参数，从而大幅降低每次更新的计算开销。与标准梯度下降法不同，标准梯度下降法在每次更新时都遍历整个数据集，而随机梯度下降每次只使用一个样本。虽然随机梯度下降的更新方向受单个样本影响较大，导致更新过程波动较大，但它通常能够更快地收敛到一个较好的解。：\n",
    "    1. 单样本更新：在每次参数更新时，仅使用一个样本来计算梯度并更新参数。\n",
    "    2. 更新公式：$\\mathbf{w} \\leftarrow \\mathbf{w} - \\eta \\nabla_{\\mathbf{w}} L^{(i)}(\\mathbf{w})$\n",
    "       其中 $L^{(i)}(\\mathbf{w})$ 是第 $i$ 个样本的损失\n",
    "    3. 虽然 SGD 可以大幅降低每次更新的计算开销，但它的更新方向受单个样本影响较大，更新过程波动较大。\n",
    "\n",
    "小批量随机梯度下降 (Minibatch Stochastic Gradient Descent) 结合了全梯度下降和随机梯度下降的优点,在每次迭代中，我们首先随机抽样一个小批量 $\\mathcal{B}$，它是由固定数量的训练样本组成的。 然后，我们计算小批量的平均损失关于模型参数的导数（也可以称为梯度）。 最后，我们将梯度乘以一个预先确定的正数$\\eta$（学习率）来更新模型参数, 并从当前参数的值中减掉。\n",
    "\n",
    "我们用下面的数学公式来表示这一更新过程（$\\partial$表示偏导数）：$$(\\mathbf{w},b) \\leftarrow (\\mathbf{w},b) - \\frac{\\eta}{|\\mathcal{B}|} \\sum_{i \\in \\mathcal{B}_t} \\partial_{(\\mathbf{w},b)} l^{(i)}(\\mathbf{w},b)$$\n",
    "总结一下，算法的步骤如下： （1）初始化模型参数的值，如随机初始化； （2）从数据集中随机抽取小批量样本且在负梯度的方向上更新参数，并不断迭代这一步骤。 对于平方损失和仿射变换，我们可以明确地写成如下形式: \n",
    "$$\\begin{aligned} \\mathbf{w} & \\leftarrow \\mathbf{w} - \\frac{\\eta}{|\\mathcal{B}|} \\sum_{i \\in \\mathcal{B}_t} \\partial_{\\mathbf{w}} l^{(i)}(\\mathbf{w}, b) && = \\mathbf{w} - \\frac{\\eta}{|\\mathcal{B}|} \\sum_{i \\in \\mathcal{B}_t} \\mathbf{x}^{(i)} \\left(\\mathbf{w}^\\top \\mathbf{x}^{(i)} + b - y^{(i)}\\right)\\\\ b &\\leftarrow b -  \\frac{\\eta}{|\\mathcal{B}|} \\sum_{i \\in \\mathcal{B}_t} \\partial_b l^{(i)}(\\mathbf{w}, b) &&  = b - \\frac{\\eta}{|\\mathcal{B}|} \\sum_{i \\in \\mathcal{B}_t} \\left(\\mathbf{w}^\\top \\mathbf{x}^{(i)} + b - y^{(i)}\\right). \\end{aligned}$$\n",
    "上面公式中的$\\mathcal{w}$和$\\mathcal{x}$都是向量。 在这里，更优雅的向量表示法比系数表示法 (如$w_1,w_2,\\ldots,w_d$) 更具可读性。$|\\mathcal{B}|$表示每个小批量中的样本数，这也称为批量大小（batch size）。$\\eta$表示学习率（learning rate）。 批量大小和学习率的值通常是手动预先指定，而不是通过模型训练得到的。 这些可以调整但不在训练过程中更新的参数称为超参数（hyperparameter）。 调参（hyperparameter tuning）是选择超参数的过程。 超参数通常是我们根据训练迭代结果来调整的， 而训练迭代结果是在独立的验证数据集（validation dataset）上评估得到的。\n",
    "\n",
    "在训练了预先确定的若干迭代次数后（或者直到满足某些其他停止条件后）， 我们记录下模型参数的估计值，表示为$\\hat{\\mathbf{w}}$, $\\hat{b}$。但是，即使我们的函数确实是线性的且无噪声，这些估计值也不会使损失函数真正地达到最小值。 因为算法会使得损失向最小值缓慢收敛，但却不能在有限的步数内非常精确地达到最小值。\n",
    "\n",
    "线性回归恰好是一个在整个域中只有一个最小值的学习问题。 但是对像深度神经网络这样复杂的模型来说，损失平面上通常包含多个最小值。 深度学习实践者很少会去花费大力气寻找这样一组参数，使得在训练集上的损失达到最小。 事实上，更难做到的是找到一组参数，这组参数能够在我们从未见过的数据上实现较低的损失， 这一挑战被称为泛化（generalization）。\n"
   ],
   "metadata": {
    "collapsed": false
   },
   "id": "9d5c74e49ef0bd93"
  },
  {
   "cell_type": "markdown",
   "source": [
    "**用模型进行预测**\n",
    "\n",
    "给定“已学习”的线性回归模型 $\\hat{\\mathbf{w}}^T \\mathbf{x} + \\hat{b}$， 现在我们可以通过房屋面积$x_1$和房龄$x_2$来估计一个（未包含在训练数据中的）新房屋价格。 给定特征估计目标的过程通常称为预测（prediction）或推断（inference）。\n",
    "之后会继续使用**预测**这个词。 虽然推断这个词已经成为深度学习的标准术语，但其实推断这个词有些用词不当。 在统计学中，推断更多地表示基于数据集估计参数。 当深度学习从业者与统计学家交谈时，术语的误用经常导致一些误解。"
   ],
   "metadata": {
    "collapsed": false
   },
   "id": "f99d44bf50389c21"
  },
  {
   "cell_type": "markdown",
   "source": [
    "### 3.1.2. Vectorization for Speed 矢量化加速\n",
    "\n",
    "在训练我们的模型时，我们经常希望能够同时处理整个小批量的样本。 为了实现这一点，需要我们对计算进行矢量化， 从而利用线性代数库，而不是在Python中编写开销高昂的for循环。\n",
    "为了说明矢量化为什么如此重要，我们考虑对向量相加的两种方法。 我们实例化两个全为1的10000维向量。 在一种方法中，我们将使用Python的for循环遍历向量； 在另一种方法中，我们将依赖对+的调用。"
   ],
   "metadata": {
    "collapsed": false
   },
   "id": "9db31f09154137ea"
  },
  {
   "cell_type": "code",
   "execution_count": 9,
   "outputs": [
    {
     "data": {
      "text/plain": "array([1., 1., 1., ..., 1., 1., 1.])"
     },
     "execution_count": 9,
     "metadata": {},
     "output_type": "execute_result"
    }
   ],
   "source": [
    "import math\n",
    "import time\n",
    "from mxnet import np\n",
    "from tools_func import *\n",
    "\n",
    "n = 10000\n",
    "a = np.ones([n])\n",
    "b = np.ones([n])\n",
    "a"
   ],
   "metadata": {
    "collapsed": false,
    "ExecuteTime": {
     "end_time": "2024-07-01T02:39:27.166269Z",
     "start_time": "2024-07-01T02:39:27.105808Z"
    }
   },
   "id": "ea22e684de2d0990"
  },
  {
   "cell_type": "markdown",
   "source": [
    "我们将频繁地进行运行时间的基准测试，所以我们定义一个计时器类来方便使用。这个 Timer 类的代码放在了 tools_func.py 文件中。"
   ],
   "metadata": {
    "collapsed": false
   },
   "id": "7a20991d94f02e5e"
  },
  {
   "cell_type": "code",
   "execution_count": 10,
   "outputs": [
    {
     "data": {
      "text/plain": "'2.26448 sec'"
     },
     "execution_count": 10,
     "metadata": {},
     "output_type": "execute_result"
    }
   ],
   "source": [
    "c = np.zeros(n)\n",
    "timer = Timer()\n",
    "for i in range(n):\n",
    "    c[i] = a[i] + b[i]\n",
    "f'{timer.stop():.5f} sec'"
   ],
   "metadata": {
    "collapsed": false,
    "ExecuteTime": {
     "end_time": "2024-07-01T02:39:29.380117Z",
     "start_time": "2024-07-01T02:39:27.111869Z"
    }
   },
   "id": "bb9a357e77f829f4"
  },
  {
   "cell_type": "code",
   "execution_count": 11,
   "outputs": [
    {
     "data": {
      "text/plain": "'0.00033 sec'"
     },
     "execution_count": 11,
     "metadata": {},
     "output_type": "execute_result"
    }
   ],
   "source": [
    "timer.start()\n",
    "d = a + b\n",
    "f'{timer.stop():.5f} sec'"
   ],
   "metadata": {
    "collapsed": false,
    "ExecuteTime": {
     "end_time": "2024-07-01T02:39:29.384777Z",
     "start_time": "2024-07-01T02:39:29.381444Z"
    }
   },
   "id": "5f0fb921b049fbe3"
  },
  {
   "cell_type": "markdown",
   "source": [
    "结果很明显，第二种方法比第一种方法快得多。 矢量化代码通常会带来数量级的加速。 另外，我们将更多的数学运算放到库中，而无须自己编写那么多的计算，从而减少了出错的可能性。"
   ],
   "metadata": {
    "collapsed": false
   },
   "id": "27830701f6980bad"
  },
  {
   "cell_type": "markdown",
   "source": [
    "### 3.1.3. The Normal Distribution and Squared Loss 正态分布与平方损失\n",
    "\n",
    "接下来，我们通过对噪声分布的假设来解读平方损失目标函数。\n",
    "\n",
    "正态分布和线性回归之间的关系很密切。 正态分布（normal distribution），也称为高斯分布（Gaussian distribution）， 最早由德国数学家高斯（Gauss）应用于天文学研究。 简单的说，若随机变量$X$服从正态分布，我们可以将其表示为$x$， 其中$\\mu$是均值，$\\sigma$是标准差。 概率密度函数（probability density function）如下：\n",
    "$$p(x) = \\frac{1}{\\sqrt{2\\pi\\sigma^2}} \\exp\\left(-\\frac{1}{2\\sigma^2}(x-\\mu)^2\\right)$$\n"
   ],
   "metadata": {
    "collapsed": false
   },
   "id": "d72d07b923cee642"
  },
  {
   "cell_type": "code",
   "execution_count": 12,
   "outputs": [
    {
     "data": {
      "text/plain": "<Figure size 350x250 with 1 Axes>",
      "image/svg+xml": "<?xml version=\"1.0\" encoding=\"utf-8\" standalone=\"no\"?>\n<!DOCTYPE svg PUBLIC \"-//W3C//DTD SVG 1.1//EN\"\n  \"http://www.w3.org/Graphics/SVG/1.1/DTD/svg11.dtd\">\n<svg xmlns:xlink=\"http://www.w3.org/1999/xlink\" width=\"246.28125pt\" height=\"183.35625pt\" viewBox=\"0 0 246.28125 183.35625\" xmlns=\"http://www.w3.org/2000/svg\" version=\"1.1\">\n <metadata>\n  <rdf:RDF xmlns:dc=\"http://purl.org/dc/elements/1.1/\" xmlns:cc=\"http://creativecommons.org/ns#\" xmlns:rdf=\"http://www.w3.org/1999/02/22-rdf-syntax-ns#\">\n   <cc:Work>\n    <dc:type rdf:resource=\"http://purl.org/dc/dcmitype/StillImage\"/>\n    <dc:date>2024-07-01T10:39:29.744244</dc:date>\n    <dc:format>image/svg+xml</dc:format>\n    <dc:creator>\n     <cc:Agent>\n      <dc:title>Matplotlib v3.7.3, https://matplotlib.org/</dc:title>\n     </cc:Agent>\n    </dc:creator>\n   </cc:Work>\n  </rdf:RDF>\n </metadata>\n <defs>\n  <style type=\"text/css\">*{stroke-linejoin: round; stroke-linecap: butt}</style>\n </defs>\n <g id=\"figure_1\">\n  <g id=\"patch_1\">\n   <path d=\"M 0 183.35625 \nL 246.28125 183.35625 \nL 246.28125 0 \nL 0 0 \nz\n\" style=\"fill: #ffffff\"/>\n  </g>\n  <g id=\"axes_1\">\n   <g id=\"patch_2\">\n    <path d=\"M 43.78125 145.8 \nL 239.08125 145.8 \nL 239.08125 7.2 \nL 43.78125 7.2 \nz\n\" style=\"fill: #ffffff\"/>\n   </g>\n   <g id=\"matplotlib.axis_1\">\n    <g id=\"xtick_1\">\n     <g id=\"line2d_1\">\n      <path d=\"M 78.040289 145.8 \nL 78.040289 7.2 \n\" clip-path=\"url(#pf0ae66cada)\" style=\"fill: none; stroke: #b0b0b0; stroke-width: 0.8; stroke-linecap: square\"/>\n     </g>\n     <g id=\"line2d_2\">\n      <defs>\n       <path id=\"mcb500d38f5\" d=\"M 0 0 \nL 0 3.5 \n\" style=\"stroke: #000000; stroke-width: 0.8\"/>\n      </defs>\n      <g>\n       <use xlink:href=\"#mcb500d38f5\" x=\"78.040289\" y=\"145.8\" style=\"stroke: #000000; stroke-width: 0.8\"/>\n      </g>\n     </g>\n     <g id=\"text_1\">\n      <!-- -5 -->\n      <g transform=\"translate(73.055133 160.398438) scale(0.1 -0.1)\">\n       <defs>\n        <path id=\"DejaVuSans-2d\" d=\"M 313 2009 \nL 1997 2009 \nL 1997 1497 \nL 313 1497 \nL 313 2009 \nz\n\" transform=\"scale(0.015625)\"/>\n        <path id=\"DejaVuSans-35\" d=\"M 691 4666 \nL 3169 4666 \nL 3169 4134 \nL 1269 4134 \nL 1269 2991 \nQ 1406 3038 1543 3061 \nQ 1681 3084 1819 3084 \nQ 2600 3084 3056 2656 \nQ 3513 2228 3513 1497 \nQ 3513 744 3044 326 \nQ 2575 -91 1722 -91 \nQ 1428 -91 1123 -41 \nQ 819 9 494 109 \nL 494 744 \nQ 775 591 1075 516 \nQ 1375 441 1709 441 \nQ 2250 441 2565 725 \nQ 2881 1009 2881 1497 \nQ 2881 1984 2565 2268 \nQ 2250 2553 1709 2553 \nQ 1456 2553 1204 2497 \nQ 953 2441 691 2322 \nL 691 4666 \nz\n\" transform=\"scale(0.015625)\"/>\n       </defs>\n       <use xlink:href=\"#DejaVuSans-2d\"/>\n       <use xlink:href=\"#DejaVuSans-35\" x=\"36.083984\"/>\n      </g>\n     </g>\n    </g>\n    <g id=\"xtick_2\">\n     <g id=\"line2d_3\">\n      <path d=\"M 141.494706 145.8 \nL 141.494706 7.2 \n\" clip-path=\"url(#pf0ae66cada)\" style=\"fill: none; stroke: #b0b0b0; stroke-width: 0.8; stroke-linecap: square\"/>\n     </g>\n     <g id=\"line2d_4\">\n      <g>\n       <use xlink:href=\"#mcb500d38f5\" x=\"141.494706\" y=\"145.8\" style=\"stroke: #000000; stroke-width: 0.8\"/>\n      </g>\n     </g>\n     <g id=\"text_2\">\n      <!-- 0 -->\n      <g transform=\"translate(138.313456 160.398438) scale(0.1 -0.1)\">\n       <defs>\n        <path id=\"DejaVuSans-30\" d=\"M 2034 4250 \nQ 1547 4250 1301 3770 \nQ 1056 3291 1056 2328 \nQ 1056 1369 1301 889 \nQ 1547 409 2034 409 \nQ 2525 409 2770 889 \nQ 3016 1369 3016 2328 \nQ 3016 3291 2770 3770 \nQ 2525 4250 2034 4250 \nz\nM 2034 4750 \nQ 2819 4750 3233 4129 \nQ 3647 3509 3647 2328 \nQ 3647 1150 3233 529 \nQ 2819 -91 2034 -91 \nQ 1250 -91 836 529 \nQ 422 1150 422 2328 \nQ 422 3509 836 4129 \nQ 1250 4750 2034 4750 \nz\n\" transform=\"scale(0.015625)\"/>\n       </defs>\n       <use xlink:href=\"#DejaVuSans-30\"/>\n      </g>\n     </g>\n    </g>\n    <g id=\"xtick_3\">\n     <g id=\"line2d_5\">\n      <path d=\"M 204.949122 145.8 \nL 204.949122 7.2 \n\" clip-path=\"url(#pf0ae66cada)\" style=\"fill: none; stroke: #b0b0b0; stroke-width: 0.8; stroke-linecap: square\"/>\n     </g>\n     <g id=\"line2d_6\">\n      <g>\n       <use xlink:href=\"#mcb500d38f5\" x=\"204.949122\" y=\"145.8\" style=\"stroke: #000000; stroke-width: 0.8\"/>\n      </g>\n     </g>\n     <g id=\"text_3\">\n      <!-- 5 -->\n      <g transform=\"translate(201.767872 160.398438) scale(0.1 -0.1)\">\n       <use xlink:href=\"#DejaVuSans-35\"/>\n      </g>\n     </g>\n    </g>\n    <g id=\"text_4\">\n     <!-- x -->\n     <g transform=\"translate(138.471875 174.076563) scale(0.1 -0.1)\">\n      <defs>\n       <path id=\"DejaVuSans-78\" d=\"M 3513 3500 \nL 2247 1797 \nL 3578 0 \nL 2900 0 \nL 1881 1375 \nL 863 0 \nL 184 0 \nL 1544 1831 \nL 300 3500 \nL 978 3500 \nL 1906 2253 \nL 2834 3500 \nL 3513 3500 \nz\n\" transform=\"scale(0.015625)\"/>\n      </defs>\n      <use xlink:href=\"#DejaVuSans-78\"/>\n     </g>\n    </g>\n   </g>\n   <g id=\"matplotlib.axis_2\">\n    <g id=\"ytick_1\">\n     <g id=\"line2d_7\">\n      <path d=\"M 43.78125 139.5 \nL 239.08125 139.5 \n\" clip-path=\"url(#pf0ae66cada)\" style=\"fill: none; stroke: #b0b0b0; stroke-width: 0.8; stroke-linecap: square\"/>\n     </g>\n     <g id=\"line2d_8\">\n      <defs>\n       <path id=\"m9c63ed29da\" d=\"M 0 0 \nL -3.5 0 \n\" style=\"stroke: #000000; stroke-width: 0.8\"/>\n      </defs>\n      <g>\n       <use xlink:href=\"#m9c63ed29da\" x=\"43.78125\" y=\"139.5\" style=\"stroke: #000000; stroke-width: 0.8\"/>\n      </g>\n     </g>\n     <g id=\"text_5\">\n      <!-- 0.0 -->\n      <g transform=\"translate(20.878125 143.299219) scale(0.1 -0.1)\">\n       <defs>\n        <path id=\"DejaVuSans-2e\" d=\"M 684 794 \nL 1344 794 \nL 1344 0 \nL 684 0 \nL 684 794 \nz\n\" transform=\"scale(0.015625)\"/>\n       </defs>\n       <use xlink:href=\"#DejaVuSans-30\"/>\n       <use xlink:href=\"#DejaVuSans-2e\" x=\"63.623047\"/>\n       <use xlink:href=\"#DejaVuSans-30\" x=\"95.410156\"/>\n      </g>\n     </g>\n    </g>\n    <g id=\"ytick_2\">\n     <g id=\"line2d_9\">\n      <path d=\"M 43.78125 107.916485 \nL 239.08125 107.916485 \n\" clip-path=\"url(#pf0ae66cada)\" style=\"fill: none; stroke: #b0b0b0; stroke-width: 0.8; stroke-linecap: square\"/>\n     </g>\n     <g id=\"line2d_10\">\n      <g>\n       <use xlink:href=\"#m9c63ed29da\" x=\"43.78125\" y=\"107.916485\" style=\"stroke: #000000; stroke-width: 0.8\"/>\n      </g>\n     </g>\n     <g id=\"text_6\">\n      <!-- 0.1 -->\n      <g transform=\"translate(20.878125 111.715703) scale(0.1 -0.1)\">\n       <defs>\n        <path id=\"DejaVuSans-31\" d=\"M 794 531 \nL 1825 531 \nL 1825 4091 \nL 703 3866 \nL 703 4441 \nL 1819 4666 \nL 2450 4666 \nL 2450 531 \nL 3481 531 \nL 3481 0 \nL 794 0 \nL 794 531 \nz\n\" transform=\"scale(0.015625)\"/>\n       </defs>\n       <use xlink:href=\"#DejaVuSans-30\"/>\n       <use xlink:href=\"#DejaVuSans-2e\" x=\"63.623047\"/>\n       <use xlink:href=\"#DejaVuSans-31\" x=\"95.410156\"/>\n      </g>\n     </g>\n    </g>\n    <g id=\"ytick_3\">\n     <g id=\"line2d_11\">\n      <path d=\"M 43.78125 76.332969 \nL 239.08125 76.332969 \n\" clip-path=\"url(#pf0ae66cada)\" style=\"fill: none; stroke: #b0b0b0; stroke-width: 0.8; stroke-linecap: square\"/>\n     </g>\n     <g id=\"line2d_12\">\n      <g>\n       <use xlink:href=\"#m9c63ed29da\" x=\"43.78125\" y=\"76.332969\" style=\"stroke: #000000; stroke-width: 0.8\"/>\n      </g>\n     </g>\n     <g id=\"text_7\">\n      <!-- 0.2 -->\n      <g transform=\"translate(20.878125 80.132188) scale(0.1 -0.1)\">\n       <defs>\n        <path id=\"DejaVuSans-32\" d=\"M 1228 531 \nL 3431 531 \nL 3431 0 \nL 469 0 \nL 469 531 \nQ 828 903 1448 1529 \nQ 2069 2156 2228 2338 \nQ 2531 2678 2651 2914 \nQ 2772 3150 2772 3378 \nQ 2772 3750 2511 3984 \nQ 2250 4219 1831 4219 \nQ 1534 4219 1204 4116 \nQ 875 4013 500 3803 \nL 500 4441 \nQ 881 4594 1212 4672 \nQ 1544 4750 1819 4750 \nQ 2544 4750 2975 4387 \nQ 3406 4025 3406 3419 \nQ 3406 3131 3298 2873 \nQ 3191 2616 2906 2266 \nQ 2828 2175 2409 1742 \nQ 1991 1309 1228 531 \nz\n\" transform=\"scale(0.015625)\"/>\n       </defs>\n       <use xlink:href=\"#DejaVuSans-30\"/>\n       <use xlink:href=\"#DejaVuSans-2e\" x=\"63.623047\"/>\n       <use xlink:href=\"#DejaVuSans-32\" x=\"95.410156\"/>\n      </g>\n     </g>\n    </g>\n    <g id=\"ytick_4\">\n     <g id=\"line2d_13\">\n      <path d=\"M 43.78125 44.749454 \nL 239.08125 44.749454 \n\" clip-path=\"url(#pf0ae66cada)\" style=\"fill: none; stroke: #b0b0b0; stroke-width: 0.8; stroke-linecap: square\"/>\n     </g>\n     <g id=\"line2d_14\">\n      <g>\n       <use xlink:href=\"#m9c63ed29da\" x=\"43.78125\" y=\"44.749454\" style=\"stroke: #000000; stroke-width: 0.8\"/>\n      </g>\n     </g>\n     <g id=\"text_8\">\n      <!-- 0.3 -->\n      <g transform=\"translate(20.878125 48.548673) scale(0.1 -0.1)\">\n       <defs>\n        <path id=\"DejaVuSans-33\" d=\"M 2597 2516 \nQ 3050 2419 3304 2112 \nQ 3559 1806 3559 1356 \nQ 3559 666 3084 287 \nQ 2609 -91 1734 -91 \nQ 1441 -91 1130 -33 \nQ 819 25 488 141 \nL 488 750 \nQ 750 597 1062 519 \nQ 1375 441 1716 441 \nQ 2309 441 2620 675 \nQ 2931 909 2931 1356 \nQ 2931 1769 2642 2001 \nQ 2353 2234 1838 2234 \nL 1294 2234 \nL 1294 2753 \nL 1863 2753 \nQ 2328 2753 2575 2939 \nQ 2822 3125 2822 3475 \nQ 2822 3834 2567 4026 \nQ 2313 4219 1838 4219 \nQ 1578 4219 1281 4162 \nQ 984 4106 628 3988 \nL 628 4550 \nQ 988 4650 1302 4700 \nQ 1616 4750 1894 4750 \nQ 2613 4750 3031 4423 \nQ 3450 4097 3450 3541 \nQ 3450 3153 3228 2886 \nQ 3006 2619 2597 2516 \nz\n\" transform=\"scale(0.015625)\"/>\n       </defs>\n       <use xlink:href=\"#DejaVuSans-30\"/>\n       <use xlink:href=\"#DejaVuSans-2e\" x=\"63.623047\"/>\n       <use xlink:href=\"#DejaVuSans-33\" x=\"95.410156\"/>\n      </g>\n     </g>\n    </g>\n    <g id=\"ytick_5\">\n     <g id=\"line2d_15\">\n      <path d=\"M 43.78125 13.165939 \nL 239.08125 13.165939 \n\" clip-path=\"url(#pf0ae66cada)\" style=\"fill: none; stroke: #b0b0b0; stroke-width: 0.8; stroke-linecap: square\"/>\n     </g>\n     <g id=\"line2d_16\">\n      <g>\n       <use xlink:href=\"#m9c63ed29da\" x=\"43.78125\" y=\"13.165939\" style=\"stroke: #000000; stroke-width: 0.8\"/>\n      </g>\n     </g>\n     <g id=\"text_9\">\n      <!-- 0.4 -->\n      <g transform=\"translate(20.878125 16.965157) scale(0.1 -0.1)\">\n       <defs>\n        <path id=\"DejaVuSans-34\" d=\"M 2419 4116 \nL 825 1625 \nL 2419 1625 \nL 2419 4116 \nz\nM 2253 4666 \nL 3047 4666 \nL 3047 1625 \nL 3713 1625 \nL 3713 1100 \nL 3047 1100 \nL 3047 0 \nL 2419 0 \nL 2419 1100 \nL 313 1100 \nL 313 1709 \nL 2253 4666 \nz\n\" transform=\"scale(0.015625)\"/>\n       </defs>\n       <use xlink:href=\"#DejaVuSans-30\"/>\n       <use xlink:href=\"#DejaVuSans-2e\" x=\"63.623047\"/>\n       <use xlink:href=\"#DejaVuSans-34\" x=\"95.410156\"/>\n      </g>\n     </g>\n    </g>\n    <g id=\"text_10\">\n     <!-- p(x) -->\n     <g transform=\"translate(14.798437 86.535156) rotate(-90) scale(0.1 -0.1)\">\n      <defs>\n       <path id=\"DejaVuSans-70\" d=\"M 1159 525 \nL 1159 -1331 \nL 581 -1331 \nL 581 3500 \nL 1159 3500 \nL 1159 2969 \nQ 1341 3281 1617 3432 \nQ 1894 3584 2278 3584 \nQ 2916 3584 3314 3078 \nQ 3713 2572 3713 1747 \nQ 3713 922 3314 415 \nQ 2916 -91 2278 -91 \nQ 1894 -91 1617 61 \nQ 1341 213 1159 525 \nz\nM 3116 1747 \nQ 3116 2381 2855 2742 \nQ 2594 3103 2138 3103 \nQ 1681 3103 1420 2742 \nQ 1159 2381 1159 1747 \nQ 1159 1113 1420 752 \nQ 1681 391 2138 391 \nQ 2594 391 2855 752 \nQ 3116 1113 3116 1747 \nz\n\" transform=\"scale(0.015625)\"/>\n       <path id=\"DejaVuSans-28\" d=\"M 1984 4856 \nQ 1566 4138 1362 3434 \nQ 1159 2731 1159 2009 \nQ 1159 1288 1364 580 \nQ 1569 -128 1984 -844 \nL 1484 -844 \nQ 1016 -109 783 600 \nQ 550 1309 550 2009 \nQ 550 2706 781 3412 \nQ 1013 4119 1484 4856 \nL 1984 4856 \nz\n\" transform=\"scale(0.015625)\"/>\n       <path id=\"DejaVuSans-29\" d=\"M 513 4856 \nL 1013 4856 \nQ 1481 4119 1714 3412 \nQ 1947 2706 1947 2009 \nQ 1947 1309 1714 600 \nQ 1481 -109 1013 -844 \nL 513 -844 \nQ 928 -128 1133 580 \nQ 1338 1288 1338 2009 \nQ 1338 2731 1133 3434 \nQ 928 4138 513 4856 \nz\n\" transform=\"scale(0.015625)\"/>\n      </defs>\n      <use xlink:href=\"#DejaVuSans-70\"/>\n      <use xlink:href=\"#DejaVuSans-28\" x=\"63.476562\"/>\n      <use xlink:href=\"#DejaVuSans-78\" x=\"102.490234\"/>\n      <use xlink:href=\"#DejaVuSans-29\" x=\"161.669922\"/>\n     </g>\n    </g>\n   </g>\n   <g id=\"line2d_17\">\n    <path d=\"M 52.658523 139.5 \nL 93.776985 139.392742 \nL 97.964975 139.148719 \nL 100.75697 138.770771 \nL 102.914418 138.259541 \nL 104.691143 137.619982 \nL 106.340959 136.782175 \nL 107.736952 135.836272 \nL 109.132951 134.620555 \nL 110.402038 133.234671 \nL 111.671131 131.535198 \nL 112.940218 129.475501 \nL 114.209306 127.008708 \nL 115.605304 123.771378 \nL 117.001297 119.933259 \nL 118.397296 115.451283 \nL 119.920201 109.79601 \nL 121.570017 102.761262 \nL 123.346739 94.176239 \nL 125.377284 83.248543 \nL 128.169276 66.89515 \nL 132.484178 41.57206 \nL 134.387812 31.785748 \nL 135.910716 25.125076 \nL 137.179804 20.576333 \nL 138.195073 17.687637 \nL 139.083437 15.753899 \nL 139.84489 14.560209 \nL 140.479436 13.90255 \nL 141.113977 13.556683 \nL 141.621612 13.506297 \nL 142.129246 13.657398 \nL 142.763793 14.128434 \nL 143.398334 14.909549 \nL 144.159792 16.247892 \nL 145.04815 18.343631 \nL 146.06342 21.405868 \nL 147.205601 25.632897 \nL 148.474688 31.186249 \nL 150.124504 39.508813 \nL 152.281955 51.702591 \nL 159.261938 92.21078 \nL 161.292477 102.181739 \nL 163.069205 109.795985 \nL 164.719021 115.886181 \nL 166.241926 120.677889 \nL 167.637919 124.403198 \nL 169.033924 127.536843 \nL 170.429916 130.134033 \nL 171.825909 132.255567 \nL 173.221914 133.963946 \nL 174.617907 135.320327 \nL 176.0139 136.382337 \nL 177.536816 137.266697 \nL 179.186621 137.969134 \nL 181.09026 138.530444 \nL 183.374623 138.955952 \nL 186.293521 139.251961 \nL 190.481511 139.426724 \nL 198.603681 139.494952 \nL 230.203977 139.5 \nL 230.203977 139.5 \n\" clip-path=\"url(#pf0ae66cada)\" style=\"fill: none; stroke: #1f77b4; stroke-width: 1.5; stroke-linecap: square\"/>\n   </g>\n   <g id=\"line2d_18\">\n    <path d=\"M 52.658523 139.362188 \nL 60.780686 139.098708 \nL 66.491587 138.699787 \nL 71.060301 138.159796 \nL 74.867569 137.490628 \nL 78.294107 136.662042 \nL 81.339922 135.701201 \nL 84.258819 134.543886 \nL 86.923905 133.254354 \nL 89.588991 131.715598 \nL 92.127168 129.996861 \nL 94.665346 128.014077 \nL 97.203523 125.755727 \nL 99.868609 123.082715 \nL 102.660601 119.955682 \nL 105.579507 116.349364 \nL 108.879134 111.908104 \nL 112.940218 106.040954 \nL 123.981285 89.845718 \nL 126.900189 86.099386 \nL 129.311457 83.35516 \nL 131.468909 81.227969 \nL 133.372536 79.644423 \nL 135.149264 78.438308 \nL 136.799074 77.568916 \nL 138.448891 76.951971 \nL 139.971795 76.6133 \nL 141.494706 76.5 \nL 143.01761 76.6133 \nL 144.540515 76.951971 \nL 146.06342 77.512374 \nL 147.713236 78.362697 \nL 149.489958 79.549317 \nL 151.393591 81.113497 \nL 153.424137 83.087842 \nL 155.708494 85.642874 \nL 158.246668 88.829959 \nL 161.292477 93.024054 \nL 165.607379 99.379597 \nL 173.602637 111.195455 \nL 177.156081 116.020621 \nL 180.328802 119.955672 \nL 183.247711 123.216989 \nL 185.912797 125.875295 \nL 188.577883 128.224613 \nL 191.242969 130.271148 \nL 193.908055 132.029049 \nL 196.573141 133.518422 \nL 199.365127 134.817017 \nL 202.284036 135.920861 \nL 205.329846 136.834151 \nL 208.629478 137.59378 \nL 212.309834 138.214581 \nL 216.624736 138.711534 \nL 221.827996 139.079149 \nL 228.681073 139.327348 \nL 230.203977 139.359757 \nL 230.203977 139.359757 \n\" clip-path=\"url(#pf0ae66cada)\" style=\"fill: none; stroke-dasharray: 5.55,2.4; stroke-dashoffset: 0; stroke: #bf00bf; stroke-width: 1.5\"/>\n   </g>\n   <g id=\"line2d_19\">\n    <path d=\"M 52.658523 139.5 \nL 131.849632 139.392742 \nL 136.037622 139.148719 \nL 138.82962 138.770771 \nL 140.987071 138.259541 \nL 142.763793 137.619982 \nL 144.413609 136.782175 \nL 145.809602 135.836272 \nL 147.205601 134.620555 \nL 148.474688 133.234671 \nL 149.743775 131.535207 \nL 151.012868 129.475501 \nL 152.281955 127.008708 \nL 153.677954 123.771378 \nL 155.073947 119.933259 \nL 156.46994 115.451304 \nL 157.992857 109.795985 \nL 159.642661 102.761288 \nL 161.419389 94.176239 \nL 163.449928 83.248576 \nL 166.241926 66.89515 \nL 170.556828 41.57206 \nL 172.460456 31.785777 \nL 173.98336 25.125095 \nL 175.252454 20.576333 \nL 176.267723 17.687637 \nL 177.156081 15.753909 \nL 177.91754 14.560209 \nL 178.552086 13.90255 \nL 179.186621 13.556683 \nL 179.694268 13.506297 \nL 180.201902 13.657407 \nL 180.836437 14.128424 \nL 181.470983 14.909549 \nL 182.232442 16.247892 \nL 183.1208 18.343631 \nL 184.136069 21.405868 \nL 185.278251 25.632897 \nL 186.547344 31.186287 \nL 188.197148 39.508785 \nL 190.354599 51.702553 \nL 197.334588 92.21078 \nL 199.365127 102.181739 \nL 201.141855 109.795985 \nL 202.791671 115.886181 \nL 204.314576 120.677889 \nL 205.710569 124.403198 \nL 207.106574 127.536843 \nL 208.502566 130.134033 \nL 209.898559 132.255567 \nL 211.294564 133.963946 \nL 212.690557 135.320327 \nL 214.08655 136.382337 \nL 215.609466 137.266697 \nL 217.25927 137.969134 \nL 219.16291 138.530444 \nL 221.447261 138.955951 \nL 224.36617 139.251961 \nL 228.554161 139.426724 \nL 230.203977 139.456009 \nL 230.203977 139.456009 \n\" clip-path=\"url(#pf0ae66cada)\" style=\"fill: none; stroke-dasharray: 9.6,2.4,1.5,2.4; stroke-dashoffset: 0; stroke: #008000; stroke-width: 1.5\"/>\n   </g>\n   <g id=\"patch_3\">\n    <path d=\"M 43.78125 145.8 \nL 43.78125 7.2 \n\" style=\"fill: none; stroke: #000000; stroke-width: 0.8; stroke-linejoin: miter; stroke-linecap: square\"/>\n   </g>\n   <g id=\"patch_4\">\n    <path d=\"M 239.08125 145.8 \nL 239.08125 7.2 \n\" style=\"fill: none; stroke: #000000; stroke-width: 0.8; stroke-linejoin: miter; stroke-linecap: square\"/>\n   </g>\n   <g id=\"patch_5\">\n    <path d=\"M 43.78125 145.8 \nL 239.08125 145.8 \n\" style=\"fill: none; stroke: #000000; stroke-width: 0.8; stroke-linejoin: miter; stroke-linecap: square\"/>\n   </g>\n   <g id=\"patch_6\">\n    <path d=\"M 43.78125 7.2 \nL 239.08125 7.2 \n\" style=\"fill: none; stroke: #000000; stroke-width: 0.8; stroke-linejoin: miter; stroke-linecap: square\"/>\n   </g>\n   <g id=\"legend_1\">\n    <g id=\"patch_7\">\n     <path d=\"M 50.78125 59.234375 \nL 152.05625 59.234375 \nQ 154.05625 59.234375 154.05625 57.234375 \nL 154.05625 14.2 \nQ 154.05625 12.2 152.05625 12.2 \nL 50.78125 12.2 \nQ 48.78125 12.2 48.78125 14.2 \nL 48.78125 57.234375 \nQ 48.78125 59.234375 50.78125 59.234375 \nz\n\" style=\"fill: #ffffff; opacity: 0.8; stroke: #cccccc; stroke-linejoin: miter\"/>\n    </g>\n    <g id=\"line2d_20\">\n     <path d=\"M 52.78125 20.298438 \nL 62.78125 20.298438 \nL 72.78125 20.298438 \n\" style=\"fill: none; stroke: #1f77b4; stroke-width: 1.5; stroke-linecap: square\"/>\n    </g>\n    <g id=\"text_11\">\n     <!-- mean 0, std 1 -->\n     <g transform=\"translate(80.78125 23.798438) scale(0.1 -0.1)\">\n      <defs>\n       <path id=\"DejaVuSans-6d\" d=\"M 3328 2828 \nQ 3544 3216 3844 3400 \nQ 4144 3584 4550 3584 \nQ 5097 3584 5394 3201 \nQ 5691 2819 5691 2113 \nL 5691 0 \nL 5113 0 \nL 5113 2094 \nQ 5113 2597 4934 2840 \nQ 4756 3084 4391 3084 \nQ 3944 3084 3684 2787 \nQ 3425 2491 3425 1978 \nL 3425 0 \nL 2847 0 \nL 2847 2094 \nQ 2847 2600 2669 2842 \nQ 2491 3084 2119 3084 \nQ 1678 3084 1418 2786 \nQ 1159 2488 1159 1978 \nL 1159 0 \nL 581 0 \nL 581 3500 \nL 1159 3500 \nL 1159 2956 \nQ 1356 3278 1631 3431 \nQ 1906 3584 2284 3584 \nQ 2666 3584 2933 3390 \nQ 3200 3197 3328 2828 \nz\n\" transform=\"scale(0.015625)\"/>\n       <path id=\"DejaVuSans-65\" d=\"M 3597 1894 \nL 3597 1613 \nL 953 1613 \nQ 991 1019 1311 708 \nQ 1631 397 2203 397 \nQ 2534 397 2845 478 \nQ 3156 559 3463 722 \nL 3463 178 \nQ 3153 47 2828 -22 \nQ 2503 -91 2169 -91 \nQ 1331 -91 842 396 \nQ 353 884 353 1716 \nQ 353 2575 817 3079 \nQ 1281 3584 2069 3584 \nQ 2775 3584 3186 3129 \nQ 3597 2675 3597 1894 \nz\nM 3022 2063 \nQ 3016 2534 2758 2815 \nQ 2500 3097 2075 3097 \nQ 1594 3097 1305 2825 \nQ 1016 2553 972 2059 \nL 3022 2063 \nz\n\" transform=\"scale(0.015625)\"/>\n       <path id=\"DejaVuSans-61\" d=\"M 2194 1759 \nQ 1497 1759 1228 1600 \nQ 959 1441 959 1056 \nQ 959 750 1161 570 \nQ 1363 391 1709 391 \nQ 2188 391 2477 730 \nQ 2766 1069 2766 1631 \nL 2766 1759 \nL 2194 1759 \nz\nM 3341 1997 \nL 3341 0 \nL 2766 0 \nL 2766 531 \nQ 2569 213 2275 61 \nQ 1981 -91 1556 -91 \nQ 1019 -91 701 211 \nQ 384 513 384 1019 \nQ 384 1609 779 1909 \nQ 1175 2209 1959 2209 \nL 2766 2209 \nL 2766 2266 \nQ 2766 2663 2505 2880 \nQ 2244 3097 1772 3097 \nQ 1472 3097 1187 3025 \nQ 903 2953 641 2809 \nL 641 3341 \nQ 956 3463 1253 3523 \nQ 1550 3584 1831 3584 \nQ 2591 3584 2966 3190 \nQ 3341 2797 3341 1997 \nz\n\" transform=\"scale(0.015625)\"/>\n       <path id=\"DejaVuSans-6e\" d=\"M 3513 2113 \nL 3513 0 \nL 2938 0 \nL 2938 2094 \nQ 2938 2591 2744 2837 \nQ 2550 3084 2163 3084 \nQ 1697 3084 1428 2787 \nQ 1159 2491 1159 1978 \nL 1159 0 \nL 581 0 \nL 581 3500 \nL 1159 3500 \nL 1159 2956 \nQ 1366 3272 1645 3428 \nQ 1925 3584 2291 3584 \nQ 2894 3584 3203 3211 \nQ 3513 2838 3513 2113 \nz\n\" transform=\"scale(0.015625)\"/>\n       <path id=\"DejaVuSans-20\" transform=\"scale(0.015625)\"/>\n       <path id=\"DejaVuSans-2c\" d=\"M 750 794 \nL 1409 794 \nL 1409 256 \nL 897 -744 \nL 494 -744 \nL 750 256 \nL 750 794 \nz\n\" transform=\"scale(0.015625)\"/>\n       <path id=\"DejaVuSans-73\" d=\"M 2834 3397 \nL 2834 2853 \nQ 2591 2978 2328 3040 \nQ 2066 3103 1784 3103 \nQ 1356 3103 1142 2972 \nQ 928 2841 928 2578 \nQ 928 2378 1081 2264 \nQ 1234 2150 1697 2047 \nL 1894 2003 \nQ 2506 1872 2764 1633 \nQ 3022 1394 3022 966 \nQ 3022 478 2636 193 \nQ 2250 -91 1575 -91 \nQ 1294 -91 989 -36 \nQ 684 19 347 128 \nL 347 722 \nQ 666 556 975 473 \nQ 1284 391 1588 391 \nQ 1994 391 2212 530 \nQ 2431 669 2431 922 \nQ 2431 1156 2273 1281 \nQ 2116 1406 1581 1522 \nL 1381 1569 \nQ 847 1681 609 1914 \nQ 372 2147 372 2553 \nQ 372 3047 722 3315 \nQ 1072 3584 1716 3584 \nQ 2034 3584 2315 3537 \nQ 2597 3491 2834 3397 \nz\n\" transform=\"scale(0.015625)\"/>\n       <path id=\"DejaVuSans-74\" d=\"M 1172 4494 \nL 1172 3500 \nL 2356 3500 \nL 2356 3053 \nL 1172 3053 \nL 1172 1153 \nQ 1172 725 1289 603 \nQ 1406 481 1766 481 \nL 2356 481 \nL 2356 0 \nL 1766 0 \nQ 1100 0 847 248 \nQ 594 497 594 1153 \nL 594 3053 \nL 172 3053 \nL 172 3500 \nL 594 3500 \nL 594 4494 \nL 1172 4494 \nz\n\" transform=\"scale(0.015625)\"/>\n       <path id=\"DejaVuSans-64\" d=\"M 2906 2969 \nL 2906 4863 \nL 3481 4863 \nL 3481 0 \nL 2906 0 \nL 2906 525 \nQ 2725 213 2448 61 \nQ 2172 -91 1784 -91 \nQ 1150 -91 751 415 \nQ 353 922 353 1747 \nQ 353 2572 751 3078 \nQ 1150 3584 1784 3584 \nQ 2172 3584 2448 3432 \nQ 2725 3281 2906 2969 \nz\nM 947 1747 \nQ 947 1113 1208 752 \nQ 1469 391 1925 391 \nQ 2381 391 2643 752 \nQ 2906 1113 2906 1747 \nQ 2906 2381 2643 2742 \nQ 2381 3103 1925 3103 \nQ 1469 3103 1208 2742 \nQ 947 2381 947 1747 \nz\n\" transform=\"scale(0.015625)\"/>\n      </defs>\n      <use xlink:href=\"#DejaVuSans-6d\"/>\n      <use xlink:href=\"#DejaVuSans-65\" x=\"97.412109\"/>\n      <use xlink:href=\"#DejaVuSans-61\" x=\"158.935547\"/>\n      <use xlink:href=\"#DejaVuSans-6e\" x=\"220.214844\"/>\n      <use xlink:href=\"#DejaVuSans-20\" x=\"283.59375\"/>\n      <use xlink:href=\"#DejaVuSans-30\" x=\"315.380859\"/>\n      <use xlink:href=\"#DejaVuSans-2c\" x=\"379.003906\"/>\n      <use xlink:href=\"#DejaVuSans-20\" x=\"410.791016\"/>\n      <use xlink:href=\"#DejaVuSans-73\" x=\"442.578125\"/>\n      <use xlink:href=\"#DejaVuSans-74\" x=\"494.677734\"/>\n      <use xlink:href=\"#DejaVuSans-64\" x=\"533.886719\"/>\n      <use xlink:href=\"#DejaVuSans-20\" x=\"597.363281\"/>\n      <use xlink:href=\"#DejaVuSans-31\" x=\"629.150391\"/>\n     </g>\n    </g>\n    <g id=\"line2d_21\">\n     <path d=\"M 52.78125 34.976563 \nL 62.78125 34.976563 \nL 72.78125 34.976563 \n\" style=\"fill: none; stroke-dasharray: 5.55,2.4; stroke-dashoffset: 0; stroke: #bf00bf; stroke-width: 1.5\"/>\n    </g>\n    <g id=\"text_12\">\n     <!-- mean 0, std 2 -->\n     <g transform=\"translate(80.78125 38.476563) scale(0.1 -0.1)\">\n      <use xlink:href=\"#DejaVuSans-6d\"/>\n      <use xlink:href=\"#DejaVuSans-65\" x=\"97.412109\"/>\n      <use xlink:href=\"#DejaVuSans-61\" x=\"158.935547\"/>\n      <use xlink:href=\"#DejaVuSans-6e\" x=\"220.214844\"/>\n      <use xlink:href=\"#DejaVuSans-20\" x=\"283.59375\"/>\n      <use xlink:href=\"#DejaVuSans-30\" x=\"315.380859\"/>\n      <use xlink:href=\"#DejaVuSans-2c\" x=\"379.003906\"/>\n      <use xlink:href=\"#DejaVuSans-20\" x=\"410.791016\"/>\n      <use xlink:href=\"#DejaVuSans-73\" x=\"442.578125\"/>\n      <use xlink:href=\"#DejaVuSans-74\" x=\"494.677734\"/>\n      <use xlink:href=\"#DejaVuSans-64\" x=\"533.886719\"/>\n      <use xlink:href=\"#DejaVuSans-20\" x=\"597.363281\"/>\n      <use xlink:href=\"#DejaVuSans-32\" x=\"629.150391\"/>\n     </g>\n    </g>\n    <g id=\"line2d_22\">\n     <path d=\"M 52.78125 49.654688 \nL 62.78125 49.654688 \nL 72.78125 49.654688 \n\" style=\"fill: none; stroke-dasharray: 9.6,2.4,1.5,2.4; stroke-dashoffset: 0; stroke: #008000; stroke-width: 1.5\"/>\n    </g>\n    <g id=\"text_13\">\n     <!-- mean 3, std 1 -->\n     <g transform=\"translate(80.78125 53.154688) scale(0.1 -0.1)\">\n      <use xlink:href=\"#DejaVuSans-6d\"/>\n      <use xlink:href=\"#DejaVuSans-65\" x=\"97.412109\"/>\n      <use xlink:href=\"#DejaVuSans-61\" x=\"158.935547\"/>\n      <use xlink:href=\"#DejaVuSans-6e\" x=\"220.214844\"/>\n      <use xlink:href=\"#DejaVuSans-20\" x=\"283.59375\"/>\n      <use xlink:href=\"#DejaVuSans-33\" x=\"315.380859\"/>\n      <use xlink:href=\"#DejaVuSans-2c\" x=\"379.003906\"/>\n      <use xlink:href=\"#DejaVuSans-20\" x=\"410.791016\"/>\n      <use xlink:href=\"#DejaVuSans-73\" x=\"442.578125\"/>\n      <use xlink:href=\"#DejaVuSans-74\" x=\"494.677734\"/>\n      <use xlink:href=\"#DejaVuSans-64\" x=\"533.886719\"/>\n      <use xlink:href=\"#DejaVuSans-20\" x=\"597.363281\"/>\n      <use xlink:href=\"#DejaVuSans-31\" x=\"629.150391\"/>\n     </g>\n    </g>\n   </g>\n  </g>\n </g>\n <defs>\n  <clipPath id=\"pf0ae66cada\">\n   <rect x=\"43.78125\" y=\"7.2\" width=\"195.3\" height=\"138.6\"/>\n  </clipPath>\n </defs>\n</svg>\n"
     },
     "metadata": {},
     "output_type": "display_data"
    }
   ],
   "source": [
    "# 定义一个Python函数来计算正态分布。\n",
    "def normal(x, mu, sigma):\n",
    "    p = 1 / math.sqrt(2 * math.pi * sigma ** 2)\n",
    "    return p * np.exp(-0.5 / sigma ** 2 * (x - mu) ** 2)\n",
    "\n",
    "\n",
    "# 使用numpy包绘制正态分布图像\n",
    "x = np.arange(-7, 7, 0.01)\n",
    "params = [(0, 1), (0, 2), (3, 1)]\n",
    "plot(x, [normal(x, mu, sigma) for mu, sigma in params], xlabel='x', ylabel='p(x)',\n",
    "     legend=[f'mean {mu}, std {sigma}' for mu, sigma in params])"
   ],
   "metadata": {
    "collapsed": false,
    "ExecuteTime": {
     "end_time": "2024-07-01T02:39:29.775859Z",
     "start_time": "2024-07-01T02:39:29.387471Z"
    }
   },
   "id": "3e27175be32eb4ec"
  },
  {
   "cell_type": "markdown",
   "source": [
    "就像我们所看到的，改变均值会产生沿x轴的移动，增加方差将会分散分布、降低其峰值。\n",
    "均方误差损失函数（简称均方损失）可以用于线性回归的一个原因是： 我们假设了观测中包含噪声，其中噪声服从正态分布。 噪声正态分布如下式:\n",
    "$$y = \\mathbf{w}^\\top \\mathbf{x} + b + \\epsilon \\text{ where } \\epsilon \\sim \\mathcal{N}(0, \\sigma^2)$$\n",
    "\n",
    "因此，我们现在可以写出通过给定的特征$\\mathbf{x}$生成标签$y$的拟然函数（likelihood function）(详细推导过程在下面代码块中介绍):\n",
    "$$P(y \\mid \\mathbf{x}) = \\frac{1}{\\sqrt{2\\pi\\sigma^2}} \\exp\\left(-\\frac{1}{2\\sigma^2}(y - \\mathbf{w}^\\top \\mathbf{x} - b)^2\\right)$$\n",
    "\n",
    "现在，根据最大似然估计（maximum likelihood estimation），参数$\\mathbf{w}$和$b$的最优值是使整个数据集的似然最大的值 (最大似然估计的推导在下面代码块中介绍)：\n",
    "$$P(\\mathbf{y} \\mid \\mathbf{X}) = \\prod_{i=1}^n P(y^{(i)} \\mid \\mathbf{x}^{(i)})$$\n",
    "\n",
    "根据极大似然估计法选择的估计量称为极大似然估计量。 虽然使许多指数函数的乘积最大化看起来很困难， 但是我们可以在不改变目标的前提下，通过最大化似然对数来简化。 由于历史原因，优化通常是说最小化而不是最大化。 我们可以改为最小化负对数似然 $-\\log P(\\mathbf{y} \\mid \\mathbf{X})$。 由此可以得到的数学公式是：\n",
    "$$-\\log P(\\mathbf{y} \\mid \\mathbf{X}) = \\frac{1}{2\\sigma^2} \\|\\mathbf{y} - \\mathbf{X} \\mathbf{w} - b\\|^2 + \\frac{n}{2} \\log(\\sigma^2) + \\frac{n}{2} \\log(2\\pi)$$\n",
    "\n",
    "现在我们只需要假设$\\sigma$是某个固定常数就可以忽略第一项， 因为第一项不依赖于$\\mathbf{w}$和$b$。 现在第二项除了常数$\\frac{1}{\\sigma ^2}$外，其余部分和前面介绍的均方误差是一样的。 幸运的是，上面式子的解并不依赖于$\\sigma$。 因此，在高斯噪声的假设下，最小化均方误差等价于对线性模型的极大似然估计。"
   ],
   "metadata": {
    "collapsed": false
   },
   "id": "fa98a2f895967fe0"
  },
  {
   "cell_type": "markdown",
   "source": [
    "**正态分布的公式**\n",
    "\n",
    "- 正态分布的概率密度函数给出为：$$f(x) = \\frac{1}{\\sqrt{2\\pi\\sigma^2}} \\exp\\left(-\\frac{(x - \\mu)^2}{2\\sigma^2}\\right)$$\n",
    "\n",
    "- 其中：\n",
    "    - $x$ 是变量。\n",
    "    - $\\mu$ 是均值，确定了分布的中心位置。\n",
    "    - $\\sigma$ 是标准差，影响曲线的宽度。\n",
    "    - $\\sigma^2$ 是方差。\n",
    "\n",
    "- 在上述公式中，系数 $\\frac{1}{\\sqrt{2\\pi\\sigma^2}}$ 被称为正态分布系数或标准化因子。这个系数的作用是确保整个概率密度函数的积分（即在整个定义范围内积分）等于1。换句话说，它确保了这个函数满足概率密度函数的基本要求，即所有可能结果的概率总和为1。\n",
    "\n",
    "- 为什么需要正态分布的标准化因子?\n",
    "    - 确保积分等于1：正态分布系数是必需的，因为没有它，函数 $\\exp\\left(-\\frac{(x - \\mu)^2}{2\\sigma^2}\\right)$ 的积分不会等于1。这个系数调整了函数的高度，使得其总面积符合概率的定义。\n",
    "    - 数学上的完整性：这个系数从数学上保证了分布函数是正确定义的概率分布，适合用于描述实际的随机变量。\n",
    "\n",
    "**线性变换的性质**\n",
    "- 正态分布的一个重要性质是，如果一个随机变量 $\\epsilon$ 服从正态分布，那么该变量的任何线性变换也服从正态分布。具体来说，如果 $\\epsilon \\sim \\mathcal{N}(0, \\sigma^2)$，则对于任何常数 $a$ 和 $b$，\n",
    "$$a\\epsilon + b \\sim \\mathcal{N}(b, a^2\\sigma^2)$$\n",
    "\n",
    "**线性模型中的应用**\n",
    "- 在线性回归模型 $y = \\mathbf{w}^\\top \\mathbf{x} + b + \\epsilon$ 中，$\\epsilon$ 是一个服从正态分布的随机误差项，而 $\\mathbf{w}^\\top \\mathbf{x} + b$ 是确定的，依赖于输入变量 $\\mathbf{x}$ 但不是随机的。模型可以重写为：\n",
    "\\[ y = (\\mathbf{w}^\\top \\mathbf{x} + b) + \\epsilon \\]\n",
    "\n",
    "- 这里，$\\mathbf{w}^\\top \\mathbf{x} + b$ 是 $\\epsilon$ 的线性变换（实际上是平移），其中 $\\mathbf{w}^\\top \\mathbf{x} + b$ 扮演常数 $b$ 的角色，且缩放因子 $a$ 为 1。\n",
    "\n",
    "**$y$ 的分布**\n",
    "- 由于 $\\epsilon$ 的加法和常数倍性质，我们可以推导出 $y$ 的分布：\n",
    "$$y \\sim \\mathcal{N}(\\mathbf{w}^\\top \\mathbf{x} + b, \\sigma^2)$$\n",
    "\n",
    "- 这意味着给定 $\\mathbf{x}$ 后，$y$ 服从以 $\\mathbf{w}^\\top \\mathbf{x} + b$ 为均值、以 $\\sigma^2$ 为方差的正态分布。\n",
    "\n",
    "**$y$ 的概率密度函数**\n",
    "- 因此，$y$ 的概率密度函数为：$$P(y \\mid \\mathbf{x}) = \\frac{1}{\\sqrt{2\\pi\\sigma^2}} \\exp\\left(-\\frac{1}{2\\sigma^2}(y - \\mathbf{w}^\\top \\mathbf{x} - b)^2\\right)$$"
   ],
   "metadata": {
    "collapsed": false
   },
   "id": "8663ba750d66118d"
  },
  {
   "cell_type": "markdown",
   "source": [
    "**最大化似然函数**\n",
    "\n",
    "- 最大化似然函数是一种在统计模型中用来估计模型参数的方法。这种方法的核心理念是选取那些使观测到的数据集出现概率（或“似然”）最大的参数值。在给定一组数据和一个包含未知参数的模型时，似然函数描述了这些模型参数下观测到实际数据的概率。最大化似然函数就是在所有可能的参数选择中，找到那个使似然函数取得最大值的参数。\n",
    "- 数学上，如果模型参数为 $\\theta$，数据集为 $y$ , 则最大化的目标是：$$\\theta_{\\text{MLE}} = \\arg\\max_\\theta P(y \\mid \\theta)$$\n",
    "- 其中，$P(y \\mid \\theta)$ 是在参数 $\\theta$ 下观测到数据 $y$ 的概率（似然）。\n",
    "\n",
    "**似然函数的推导**\n",
    "\n",
    "- 假设每个数据点 $y^{(i)}$ 在给定参数 $\\theta$ 和可能的预测变量 $\\mathbf{x}^{(i)}$ 的条件下独立生成。对于每个单独的观测 $y^{(i)}$，我们可以定义一个条件概率 $P(y^{(i)} \\mid \\theta)$ 或者 $P(y^{(i)} \\mid \\mathbf{x}^{(i)}, \\theta)$ 来描述在给定模型参数和/或特征的情况下观测到 $y^{(i)}$ 的概率。\n",
    "- 当假设数据点独立时，整个数据集 $\\mathbf{y} = (y^{(1)}, y^{(2)}, ..., y^{(n)})$ 出现的联合概率是每个单独数据点出现概率的乘积。这是因为独立事件发生的联合概率等于各个事件发生的概率的乘积。因此，似然函数 $P(\\mathbf{y} \\mid \\theta)$ 定义为：$$P(\\mathbf{y} \\mid \\theta) = \\prod_{i=1}^n P(y^{(i)} \\mid \\theta)$$\n",
    "- 在包含特征变量 $\\mathbf{x}$ 的模型中，例如线性回归或逻辑回归，每个 $y^{(i)}$ 的生成依赖于相应的 $\\mathbf{x}^{(i)}$。因此，单个数据点的概率可以写为 $P(y^{(i)} \\mid \\mathbf{x}^{(i)}, \\theta)$。类似地，对整个数据集 $\\mathbf{X} = (\\mathbf{x}^{(1)}, \\mathbf{x}^{(2)}, ..., \\mathbf{x}^{(n)})$ 和 $\\mathbf{y}$，似然函数变为：$$P(\\mathbf{y} \\mid \\mathbf{X}, \\theta) = \\prod_{i=1}^n P(y^{(i)} \\mid \\mathbf{x}^{(i)}, \\theta)$$\n",
    "- 这个公式表明，给定模型参数 \\( \\theta \\) 和所有预测变量 \\( \\mathbf{X} \\) 的情况下，观测到整个数据集 \\( \\mathbf{y} \\) 的联合概率是每个单独条件概率的乘积。\n",
    "- 在某些上下文中，尤其是当模型和参数被视为已知或固定时，人们可能会简化表达式，省略 $\\theta$ ，只写：$$P(\\mathbf{y} \\mid \\mathbf{X}) = \\prod_{i=1}^n P(y^{(i)} \\mid \\mathbf{x}^{(i)})$$\n",
    "- 这种表述假定 $\\theta$ 已经固定或被内嵌到模型中，不再是变量。"
   ],
   "metadata": {
    "collapsed": false
   },
   "id": "113c7c0358c5caaa"
  },
  {
   "cell_type": "markdown",
   "source": [
    "**拟然对数的推导**\n",
    "\n",
    "- 单个数据点的概率密度函数给定模型参数 $\\mathbf{w}$ 和 $b$，并假设误差 $\\epsilon^{(i)}$ 服从正态分布，每个观测值的概率密度函数为：\n",
    "$$P(y^{(i)} \\mid \\mathbf{x}^{(i)}) = \\frac{1}{\\sqrt{2\\pi\\sigma^2}} \\exp\\left(-\\frac{(y^{(i)} - (\\mathbf{x}^{(i)^\\top} \\mathbf{w} + b))^2}{2\\sigma^2}\\right)$$\n",
    "\n",
    "- 由于假设各个数据点相互独立，整个数据集的联合概率密度是每个单独概率密度的乘积：\n",
    "$$P(\\mathbf{y} \\mid \\mathbf{X}) = \\prod_{i=1}^n P(y^{(i)} \\mid \\mathbf{x}^{(i)})$$\n",
    "\n",
    "- 将步骤 1 的单个概率密度公式代入：\n",
    "$$P(\\mathbf{y} \\mid \\mathbf{X}) = \\prod_{i=1}^n \\left( \\frac{1}{\\sqrt{2\\pi\\sigma^2}} \\exp\\left(-\\frac{(y^{(i)} - (\\mathbf{x}^{(i)^\\top} \\mathbf{w} + b))^2}{2\\sigma^2}\\right) \\right)$$\n",
    "\n",
    "- 取对数转化乘积为求和，得到对数似然：\n",
    "$$\\log P(\\mathbf{y} \\mid \\mathbf{X}) = \\sum_{i=1}^n \\left[ \\log\\left(\\frac{1}{\\sqrt{2\\pi\\sigma^2}}\\right) - \\frac{(y^{(i)} - (\\mathbf{x}^{(i)^\\top} \\mathbf{w} + b))^2}{2\\sigma^2} \\right]$$\n",
    "$$\\log P(\\mathbf{y} \\mid \\mathbf{X}) = -\\frac{n}{2} \\log(2\\pi\\sigma^2) - \\frac{1}{2\\sigma^2} \\sum_{i=1}^n (y^{(i)} - (\\mathbf{x}^{(i)^\\top} \\mathbf{w} + b))^2$$\n",
    "\n",
    "- 取负号简化最小化过程：\n",
    "$$-\\log P(\\mathbf{y} \\mid \\mathbf{X}) = \\frac{n}{2} \\log(2\\pi\\sigma^2) + \\frac{1}{2\\sigma^2} \\sum_{i=1}^n (y^{(i)} - (\\mathbf{x}^{(i)^\\top} \\mathbf{w} + b))^2$$\n",
    "\n",
    "- 求和项可以用范数表示为：\n",
    "$$-\\log P(\\mathbf{y} \\mid \\mathbf{X}) = \\frac{n}{2} \\log(2\\pi\\sigma^2) + \\frac{1}{2\\sigma^2} \\|\\mathbf{y} - \\mathbf{X} \\mathbf{w} - b\\|^2$$\n",
    "\n",
    "以上步骤详细解释了如何从单个数据点的正态分布假设推导出整个数据集的负对数似然函数，这是线性回归模型参数估计的基础。"
   ],
   "metadata": {
    "collapsed": false
   },
   "id": "2b0daf18b7f99815"
  },
  {
   "cell_type": "markdown",
   "source": [
    "### 3.1.4. Linear Regression as a Neural Network 从线性回归到深度网络\n",
    "\n",
    "到目前为止，我们只谈论了线性模型。 尽管神经网络涵盖了更多更为丰富的模型，我们依然可以用描述神经网络的方式来描述线性模型， 从而把线性模型看作一个神经网络。 首先，我们用“层”符号来重写这个模型。\n",
    "\n",
    "**神经网络图**\n",
    "深度学习从业者喜欢绘制图表来可视化模型中正在发生的事情。下图中, 我们将线性回归模型描述为一个神经网络。 需要注意的是，该图只显示连接模式，即只显示每个输入如何连接到输出，隐去了权重和偏置的值。\n",
    "![](/Users/chenjunming/Desktop/FinTech/DeepLearning/pics/WX20240701-103804@2x.png)\n",
    "\n",
    "上图所示的神经网络中，输入为 $x_1, \\dots, x_d$， 因此输入层中的输入数（或称为特征维度，feature dimensionality）为$d$。 网络的输出为$o_1$，因此输出层中的输出数是1。 需要注意的是，输入值都是已经给定的，并且只有一个计算神经元。 由于模型重点在发生计算的地方，所以通常我们在计算层数时不考虑输入层。 也就是说， 上图中神经网络的层数为1。 我们可以将线性回归模型视为仅由单个人工神经元组成的神经网络，或称为单层神经网络。\n",
    "\n",
    "对于线性回归，每个输入都与每个输出（在本例中只有一个输出）相连， 我们将这种变换称为全连接层（fully-connected layer）或称为稠密层（dense layer）。 下一章将详细讨论由这些层组成的网络。"
   ],
   "metadata": {
    "collapsed": false
   },
   "id": "2e375ca8db04354e"
  },
  {
   "cell_type": "markdown",
   "source": [
    "**Biology 生物学**\n",
    "\n",
    "![](/Users/chenjunming/Desktop/FinTech/DeepLearning/pics/WX20240701-103827@2x.png)\n",
    "\n",
    "在生物中，神经元是神经网络的基本单元。神经元是生物中处理信息的基本单元，每个神经元都有输入和输出，并且可以处理输入信号并产生输出信号。神经元通过树突（dendrites，输入终端）接收输入信号，轴突（axon，输出线）和轴突端子（axon terminal，输出端子） 通过突触（synapse）与其他神经元连接。在生物神经元中，树突中接收到来自其他神经元（或视网膜等环境传感器）的信息$x_i$。 该信息通过突触权重$w_i$来加权，以确定输入的影响（即，通过$x_iw_i$相乘来激活或抑制）。 来自多个源的加权输入以加权和$y=\\sum_i x_iw_i$的形式汇聚在细胞核中， 然后将这些信息发送到轴突$y$中进一步处理，通常会通过$\\sigma(y)$进行一些非线性处理。 之后，它要么到达目的地（例如肌肉），要么通过树突进入另一个神经元。\n",
    "\n",
    "当然，许多这样的单元可以通过正确连接和正确的学习算法拼凑在一起， 从而产生的行为会比单独一个神经元所产生的行为更有趣、更复杂， 这种想法归功于我们对真实生物神经系统的研究。\n",
    "\n",
    "当今大多数深度学习的研究几乎没有直接从神经科学中获得灵感。 我们援引斯图尔特·罗素和彼得·诺维格在他们的经典人工智能教科书 Artificial Intelligence:A Modern Approach (Russell and Norvig, 2016) 中所说的：虽然飞机可能受到鸟类的启发，但几个世纪以来，鸟类学并不是航空创新的主要驱动力。 同样地，如今在深度学习中的灵感同样或更多地来自数学、统计学和计算机科学。"
   ],
   "metadata": {
    "collapsed": false
   },
   "id": "9308bf207f791265"
  },
  {
   "cell_type": "markdown",
   "source": [],
   "metadata": {
    "collapsed": false
   },
   "id": "5bcd7d671d15c7bd"
  }
 ],
 "metadata": {
  "kernelspec": {
   "display_name": "Python 3",
   "language": "python",
   "name": "python3"
  },
  "language_info": {
   "codemirror_mode": {
    "name": "ipython",
    "version": 2
   },
   "file_extension": ".py",
   "mimetype": "text/x-python",
   "name": "python",
   "nbconvert_exporter": "python",
   "pygments_lexer": "ipython2",
   "version": "2.7.6"
  }
 },
 "nbformat": 4,
 "nbformat_minor": 5
}
